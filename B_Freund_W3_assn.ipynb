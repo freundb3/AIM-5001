{
 "cells": [
  {
   "cell_type": "markdown",
   "metadata": {},
   "source": [
    "## Benjamin Freund\n",
    "## Assignment 3"
   ]
  },
  {
   "cell_type": "markdown",
   "metadata": {},
   "source": [
    "Below is the code I used in the last homework assignment to import the cars-sample35.txt database into Python. Furthermore, the below code creates new lists for each attribute and stores the information about each car into the attribute's respective list."
   ]
  },
  {
   "cell_type": "code",
   "execution_count": 3,
   "metadata": {},
   "outputs": [
    {
     "name": "stdout",
     "output_type": "stream",
     "text": [
      "['high', 'high', 'high', 'high', 'vhigh', 'low', 'med', 'low', 'vhigh', 'vhigh', 'low', 'vhigh', 'high', 'low', 'high', 'vhigh', 'med', 'high', 'low', 'low', 'med', 'low', 'vhigh', 'med', 'low', 'vhigh', 'med', 'high', 'low', 'med', 'high', 'high', 'low', 'vhigh', 'high']\n",
      "['high', 'high', 'high', 'low', 'low', 'high', 'med', 'low', 'low', 'high', 'low', 'low', 'low', 'vhigh', 'low', 'high', 'med', 'low', 'low', 'low', 'high', 'low', 'high', 'vhigh', 'vhigh', 'low', 'vhigh', 'high', 'high', 'high', 'low', 'vhigh', 'low', 'vhigh', 'low']\n",
      "['2', '4', '4', '2', '3', '2', '4', '3', '2', '4', '2', '4', '2', '3', '5more', '2', '2', '5more', '3', '2', '4', '2', '5more', '2', '4', '3', '3', '3', '5more', '5more', '3', '5more', '5more', '4', '3']\n",
      "['4', 'more', 'more', 'more', '2', '2', 'more', '2', '2', '4', '2', 'more', '4', 'more', '2', 'more', '2', '4', 'more', '2', '2', '2', '4', '2', '4', 'more', '4', '4', '2', '2', '4', '4', '2', '2', '2']\n",
      "['med', 'small', 'big', 'big', 'med', 'small', 'med', 'big', 'small', 'med', 'med', 'small', 'big', 'big', 'big', 'med', 'small', 'med', 'med', 'big', 'big', 'small', 'med', 'big', 'big', 'big', 'small', 'med', 'big', 'med', 'med', 'med', 'med', 'big', 'big']\n",
      "['low', 'high', 'low', 'high', 'med', 'low', 'high', 'med', 'low', 'low', 'med', 'high', 'med', 'low', 'med', 'high', 'low', 'high', 'high', 'med', 'high', 'high', 'med', 'low', 'low', 'low', 'low', 'med', 'low', 'med', 'high', 'med', 'low', 'high', 'high']\n",
      "['unacc', 'acc', 'unacc', 'acc', 'unacc', 'unacc', 'vgood', 'unacc', 'unacc', 'unacc', 'unacc', 'acc', 'acc', 'unacc', 'unacc', 'unacc', 'unacc', 'acc', 'vgood', 'unacc', 'unacc', 'unacc', 'unacc', 'unacc', 'unacc', 'unacc', 'unacc', 'unacc', 'unacc', 'unacc', 'acc', 'unacc', 'unacc', 'unacc', 'unacc']\n"
     ]
    }
   ],
   "source": [
    "import csv\n",
    "with open('/Users/benjaminfreund/Desktop/YU/Graduate/Data Acquisition & Mangement/cars-sample35.txt') as csvfile:\n",
    "    readCSV = csv.reader(csvfile)\n",
    "   \n",
    "    # Create empty lists to store new strings\n",
    "    price = []\n",
    "    maintenance_costs = []\n",
    "    number_of_doors = []\n",
    "    number_of_passengers = []\n",
    "    luggage_capacity = []\n",
    "    safety_rating = []\n",
    "    classification_of_vehicle = []\n",
    "    \n",
    "    # Append respective strings into appropriate new lists\n",
    "    for row in readCSV:\n",
    "        price.append(row[0])\n",
    "        maintenance_costs.append(row[1])\n",
    "        number_of_doors.append(row[2])\n",
    "        number_of_passengers.append(row[3])\n",
    "        luggage_capacity.append(row[4])\n",
    "        safety_rating.append(row[5])\n",
    "        classification_of_vehicle.append(row[6])\n",
    "\n",
    "# Print new lists\n",
    "print(price)\n",
    "print(maintenance_costs)\n",
    "print(number_of_doors)\n",
    "print(number_of_passengers)\n",
    "print(luggage_capacity)\n",
    "print(safety_rating)\n",
    "print(classification_of_vehicle)"
   ]
  },
  {
   "cell_type": "markdown",
   "metadata": {},
   "source": [
    "## **Question 1** ##"
   ]
  },
  {
   "cell_type": "markdown",
   "metadata": {},
   "source": [
    "This question asked me to list the index values for all of the cars with a medium price using a list comprehension. To do this, I found the values in the price list which are 'med' and retrieved their index numbers. Then I placed those index numbers in a new list, as shown in the comprehension below."
   ]
  },
  {
   "cell_type": "code",
   "execution_count": 4,
   "metadata": {},
   "outputs": [
    {
     "name": "stdout",
     "output_type": "stream",
     "text": [
      "[6, 16, 20, 23, 26, 29]\n"
     ]
    }
   ],
   "source": [
    "# List comprehension retrieving index numbers where price is 'med'\n",
    "med_price = [index for index, x in enumerate(price) if(x == 'med')]\n",
    "\n",
    "# Printing med_price\n",
    "print(med_price)"
   ]
  },
  {
   "cell_type": "markdown",
   "metadata": {},
   "source": [
    "## **Question 2** ##"
   ]
  },
  {
   "cell_type": "markdown",
   "metadata": {},
   "source": [
    "This question asked me to find the number of passengers for each car with a medium price using a list comprehension. To do this, I found the values in the price list which are 'med', retrieved their index numbers, and then retrieved the values from the number_of_passengers list for the corresponding indices. Then I placed those index numbers in a new list, as shown in the comprehension below."
   ]
  },
  {
   "cell_type": "code",
   "execution_count": 5,
   "metadata": {},
   "outputs": [
    {
     "name": "stdout",
     "output_type": "stream",
     "text": [
      "['more', '2', '2', '2', '4', '2']\n"
     ]
    }
   ],
   "source": [
    "# List comprehension retrieving number of passengers when price is 'med'\n",
    "number_of_passengers_med_price = [number_of_passengers[index] for index, x in enumerate(price) if(x == 'med')]\n",
    "\n",
    "# Printing number_of_passengers_med_price\n",
    "print(number_of_passengers_med_price)"
   ]
  },
  {
   "cell_type": "markdown",
   "metadata": {},
   "source": [
    "## **Question 3** ##"
   ]
  },
  {
   "cell_type": "markdown",
   "metadata": {},
   "source": [
    "This question asked me to find the index numbers for each car that has a high price and a not low maintenance cost using a list comprehension. To do this, I found the values in the price list which are 'high', retrieved their index numbers, and checked if the corresponding indices in the maintenance_costs list are not 'low'. If they were not, then I placed those index numbers in a new list, as shown in the comprehension below."
   ]
  },
  {
   "cell_type": "code",
   "execution_count": 6,
   "metadata": {},
   "outputs": [
    {
     "name": "stdout",
     "output_type": "stream",
     "text": [
      "[0, 1, 2, 27, 31]\n"
     ]
    }
   ],
   "source": [
    "# List comprehension retrieiving index numbers when price is high and maintenance costs are not low\n",
    "high_price_not_low_maintenance_costs = [index for index, x in enumerate(price) if(x == 'high') if(maintenance_costs[index] != 'low')]\n",
    "\n",
    "# Printing high_price_not_low_maintenance_costs\n",
    "print(high_price_not_low_maintenance_costs)"
   ]
  },
  {
   "cell_type": "markdown",
   "metadata": {},
   "source": [
    "## **Question 4** ##"
   ]
  },
  {
   "cell_type": "markdown",
   "metadata": {},
   "source": [
    "This question asked me to use a list comprehension to draw each individual element from a list containing lists and bring them into a new list. To do this, I looped through the larger list and place each individual element in the new list, as shown in the comprehension below."
   ]
  },
  {
   "cell_type": "code",
   "execution_count": 7,
   "metadata": {},
   "outputs": [
    {
     "name": "stdout",
     "output_type": "stream",
     "text": [
      "[1, 2, 3, 'A', 'B', 'C', 4, 5, 'D', 'E']\n"
     ]
    }
   ],
   "source": [
    "# Original list with four lists in it\n",
    "nlist = [[1, 2, 3], ['A', 'B', 'C'], [4, 5], ['D', 'E']]\n",
    "\n",
    "# List comprhension that takes out each individual element and places it in a new list\n",
    "flist = [y for x in nlist for y in x]\n",
    "\n",
    "# Printing flist\n",
    "print(flist)"
   ]
  },
  {
   "cell_type": "markdown",
   "metadata": {},
   "source": [
    "## **Question 5** ##"
   ]
  },
  {
   "cell_type": "markdown",
   "metadata": {},
   "source": [
    "This question asked me to create a function that would take one of the lists I created in the code I copied from last assignment and a given number and would return a dictionary with index numbers beginning with A (i.e. A0, A1) as keys and the list items as values. To do this, I defined my function with two arguments. Then, within the function, I created a dictionary called newdict and a for loop which created the key (by combining 'A' with a string of the index number) and the value (by taking the corresponding index and searching for the value). The function then returns newdict. It can be seen in the code below."
   ]
  },
  {
   "cell_type": "code",
   "execution_count": 12,
   "metadata": {},
   "outputs": [],
   "source": [
    "# Defining makedict, a function that takes two arguments: mylist and x.\n",
    "def makedict(mylist, x):\n",
    "    \n",
    "    # Creating an empty dictionary called newdict\n",
    "    newdict = {}\n",
    "    \n",
    "    # For loop that loops through the list and creates the dictionary entries\n",
    "    for index in range(x):\n",
    "        newdict['A' + str(index)] = mylist[index]\n",
    "        \n",
    "    # Returning newdict\n",
    "    return(newdict)"
   ]
  },
  {
   "cell_type": "markdown",
   "metadata": {},
   "source": [
    "## **Question 6** ##"
   ]
  },
  {
   "cell_type": "markdown",
   "metadata": {},
   "source": [
    "This question asked me to use the function I created in the last question to get the first 7 items from the price and luggage_capacity lists. Additionally, I had to return the corresponding price and luggage_capacity values for the car with the key A4. To do this, I ran my function with the price and lugagge_capacity lists, and I saved the output in the dictionaries Price and Luggage, respectively. Then, I indexed the dictionaries to get the values for A4 and printed them in sentence form, as shown below."
   ]
  },
  {
   "cell_type": "code",
   "execution_count": 13,
   "metadata": {},
   "outputs": [
    {
     "name": "stdout",
     "output_type": "stream",
     "text": [
      "The price is vhigh and the lugagge capacity is med\n"
     ]
    }
   ],
   "source": [
    "# Creating the Price dictionary\n",
    "Price = makedict(price, 7)\n",
    "# Creating the Luggage dictionary\n",
    "Luggage = makedict(luggage_capacity, 7)\n",
    "\n",
    "# Printing the values from the Price and Lugagge dictionaries for the key A4\n",
    "print(\"The price is\", Price['A4'], \"and the lugagge capacity is\", Luggage['A4'])"
   ]
  }
 ],
 "metadata": {
  "kernelspec": {
   "display_name": "Python 3",
   "language": "python",
   "name": "python3"
  },
  "language_info": {
   "codemirror_mode": {
    "name": "ipython",
    "version": 3
   },
   "file_extension": ".py",
   "mimetype": "text/x-python",
   "name": "python",
   "nbconvert_exporter": "python",
   "pygments_lexer": "ipython3",
   "version": "3.8.3"
  }
 },
 "nbformat": 4,
 "nbformat_minor": 4
}
