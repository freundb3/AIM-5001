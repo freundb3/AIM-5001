{
 "cells": [
  {
   "cell_type": "markdown",
   "metadata": {},
   "source": [
    "# Benjamin Freund\n",
    "# Data Acquisition and Management\n",
    "# Week 1 Assignment"
   ]
  },
  {
   "cell_type": "markdown",
   "metadata": {},
   "source": [
    "![Four major streaming services](https://media.comicbook.com/2020/01/netflix-disney-plus-amazon-hulu-1205084-1280x0.jpeg)"
   ]
  },
  {
   "cell_type": "markdown",
   "metadata": {},
   "source": [
    "## Here is a [link](https://github.com/freundb3/AIM-5001/blob/master/tv_shows.csv) to my GitHub copy of the dataset."
   ]
  },
  {
   "cell_type": "markdown",
   "metadata": {},
   "source": [
    "## Here is a [link](https://www.kaggle.com/ruchi798/tv-shows-on-netflix-prime-video-hulu-and-disney#) to the original location of the dataset."
   ]
  },
  {
   "cell_type": "markdown",
   "metadata": {},
   "source": [
    "## Writeup:"
   ]
  },
  {
   "cell_type": "markdown",
   "metadata": {},
   "source": [
    "New streaming services have been coming out left and right. Netflix, Hulu, Prime Video, Disney+, and more all present diverse libraries of TV shows and movies that viewers can choose to watch from the comfort of their own homes. The above dataset lists over 5,500 TV shows / movies, their ratings, which streaming service of the aforementioned four they are available on, and more. This dataset acts as a guide to streaming services, helping consumers sift through all of the different options to find where they can watch their shows."
   ]
  },
  {
   "cell_type": "markdown",
   "metadata": {},
   "source": [
    "There are many different analyses one can make with this dataset. For example, one can try to establish various correlations between recommended age, rating, and streaming service using regression models and other statistical methods. Establishing these connections can help one predict this information when presented with a new TV show."
   ]
  },
  {
   "cell_type": "markdown",
   "metadata": {},
   "source": [
    "Another possible analysis could be to try and determine which streaming service is the most beneficial for which age group. This analysis would probably be more SQL heavy, as one can use SQL to figure out how many TV shows fall under each age category. After that, it can be determined which platform has the most shows available for a given age group. An additional step one could take would then be to look at the ratings and to determine which platform has the *best* TV shows for a specific age group."
   ]
  },
  {
   "cell_type": "markdown",
   "metadata": {},
   "source": [
    "Ultimately, this dataset can have many different applications, and one can draw several conclusions from it. **One should not rely solely on the analyses I have brought here, but rather one should look at the dataset themselves and try to perform their own analyses and draw their own conclusions.** There is a lot of potential in this dataset, and I believe that it could create some clarity for TV viewers in a world of streaming confusion."
   ]
  }
 ],
 "metadata": {
  "kernelspec": {
   "display_name": "Python 3",
   "language": "python",
   "name": "python3"
  },
  "language_info": {
   "codemirror_mode": {
    "name": "ipython",
    "version": 3
   },
   "file_extension": ".py",
   "mimetype": "text/x-python",
   "name": "python",
   "nbconvert_exporter": "python",
   "pygments_lexer": "ipython3",
   "version": "3.8.3"
  }
 },
 "nbformat": 4,
 "nbformat_minor": 4
}
