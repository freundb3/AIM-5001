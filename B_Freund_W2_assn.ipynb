{
 "cells": [
  {
   "cell_type": "code",
   "execution_count": 1,
   "metadata": {},
   "outputs": [
    {
     "name": "stdout",
     "output_type": "stream",
     "text": [
      "['high', 'high', '2', '4', 'med', 'low', 'unacc']\n",
      "['high', 'high', '4', 'more', 'small', 'high', 'acc']\n",
      "['high', 'high', '4', 'more', 'big', 'low', 'unacc']\n",
      "['high', 'low', '2', 'more', 'big', 'high', 'acc']\n",
      "['vhigh', 'low', '3', '2', 'med', 'med', 'unacc']\n",
      "['low', 'high', '2', '2', 'small', 'low', 'unacc']\n",
      "['med', 'med', '4', 'more', 'med', 'high', 'vgood']\n",
      "['low', 'low', '3', '2', 'big', 'med', 'unacc']\n",
      "['vhigh', 'low', '2', '2', 'small', 'low', 'unacc']\n",
      "['vhigh', 'high', '4', '4', 'med', 'low', 'unacc']\n",
      "['low', 'low', '2', '2', 'med', 'med', 'unacc']\n",
      "['vhigh', 'low', '4', 'more', 'small', 'high', 'acc']\n",
      "['high', 'low', '2', '4', 'big', 'med', 'acc']\n",
      "['low', 'vhigh', '3', 'more', 'big', 'low', 'unacc']\n",
      "['high', 'low', '5more', '2', 'big', 'med', 'unacc']\n",
      "['vhigh', 'high', '2', 'more', 'med', 'high', 'unacc']\n",
      "['med', 'med', '2', '2', 'small', 'low', 'unacc']\n",
      "['high', 'low', '5more', '4', 'med', 'high', 'acc']\n",
      "['low', 'low', '3', 'more', 'med', 'high', 'vgood']\n",
      "['low', 'low', '2', '2', 'big', 'med', 'unacc']\n",
      "['med', 'high', '4', '2', 'big', 'high', 'unacc']\n",
      "['low', 'low', '2', '2', 'small', 'high', 'unacc']\n",
      "['vhigh', 'high', '5more', '4', 'med', 'med', 'unacc']\n",
      "['med', 'vhigh', '2', '2', 'big', 'low', 'unacc']\n",
      "['low', 'vhigh', '4', '4', 'big', 'low', 'unacc']\n",
      "['vhigh', 'low', '3', 'more', 'big', 'low', 'unacc']\n",
      "['med', 'vhigh', '3', '4', 'small', 'low', 'unacc']\n",
      "['high', 'high', '3', '4', 'med', 'med', 'unacc']\n",
      "['low', 'high', '5more', '2', 'big', 'low', 'unacc']\n",
      "['med', 'high', '5more', '2', 'med', 'med', 'unacc']\n",
      "['high', 'low', '3', '4', 'med', 'high', 'acc']\n",
      "['high', 'vhigh', '5more', '4', 'med', 'med', 'unacc']\n",
      "['low', 'low', '5more', '2', 'med', 'low', 'unacc']\n",
      "['vhigh', 'vhigh', '4', '2', 'big', 'high', 'unacc']\n",
      "['high', 'low', '3', '2', 'big', 'high', 'unacc']\n"
     ]
    }
   ],
   "source": [
    "import csv\n",
    "# be sure to update the path below to reflect your own environment!!\n",
    "# also be sure that the code is properly indented after you paste it!\n",
    "\n",
    "with open('/Users/benjaminfreund/Desktop/YU/Graduate/Data Acquisition & Mangement/cars-sample35.txt') as csvfile:\n",
    "    readCSV = csv.reader(csvfile)\n",
    "    for row in readCSV:\n",
    "        # print each row as read by the csv.reader function\n",
    "        print(row)"
   ]
  },
  {
   "cell_type": "markdown",
   "metadata": {},
   "source": [
    "### **Question 1**"
   ]
  },
  {
   "cell_type": "code",
   "execution_count": 1,
   "metadata": {},
   "outputs": [
    {
     "name": "stdout",
     "output_type": "stream",
     "text": [
      "['high', 'high', 'high', 'high', 'vhigh', 'low', 'med', 'low', 'vhigh', 'vhigh', 'low', 'vhigh', 'high', 'low', 'high', 'vhigh', 'med', 'high', 'low', 'low', 'med', 'low', 'vhigh', 'med', 'low', 'vhigh', 'med', 'high', 'low', 'med', 'high', 'high', 'low', 'vhigh', 'high']\n",
      "['high', 'high', 'high', 'low', 'low', 'high', 'med', 'low', 'low', 'high', 'low', 'low', 'low', 'vhigh', 'low', 'high', 'med', 'low', 'low', 'low', 'high', 'low', 'high', 'vhigh', 'vhigh', 'low', 'vhigh', 'high', 'high', 'high', 'low', 'vhigh', 'low', 'vhigh', 'low']\n",
      "['2', '4', '4', '2', '3', '2', '4', '3', '2', '4', '2', '4', '2', '3', '5more', '2', '2', '5more', '3', '2', '4', '2', '5more', '2', '4', '3', '3', '3', '5more', '5more', '3', '5more', '5more', '4', '3']\n",
      "['4', 'more', 'more', 'more', '2', '2', 'more', '2', '2', '4', '2', 'more', '4', 'more', '2', 'more', '2', '4', 'more', '2', '2', '2', '4', '2', '4', 'more', '4', '4', '2', '2', '4', '4', '2', '2', '2']\n",
      "['med', 'small', 'big', 'big', 'med', 'small', 'med', 'big', 'small', 'med', 'med', 'small', 'big', 'big', 'big', 'med', 'small', 'med', 'med', 'big', 'big', 'small', 'med', 'big', 'big', 'big', 'small', 'med', 'big', 'med', 'med', 'med', 'med', 'big', 'big']\n",
      "['low', 'high', 'low', 'high', 'med', 'low', 'high', 'med', 'low', 'low', 'med', 'high', 'med', 'low', 'med', 'high', 'low', 'high', 'high', 'med', 'high', 'high', 'med', 'low', 'low', 'low', 'low', 'med', 'low', 'med', 'high', 'med', 'low', 'high', 'high']\n",
      "['unacc', 'acc', 'unacc', 'acc', 'unacc', 'unacc', 'vgood', 'unacc', 'unacc', 'unacc', 'unacc', 'acc', 'acc', 'unacc', 'unacc', 'unacc', 'unacc', 'acc', 'vgood', 'unacc', 'unacc', 'unacc', 'unacc', 'unacc', 'unacc', 'unacc', 'unacc', 'unacc', 'unacc', 'unacc', 'acc', 'unacc', 'unacc', 'unacc', 'unacc']\n"
     ]
    }
   ],
   "source": [
    "import csv\n",
    "with open('/Users/benjaminfreund/Desktop/YU/Graduate/Data Acquisition & Mangement/cars-sample35.txt') as csvfile:\n",
    "    readCSV = csv.reader(csvfile)\n",
    "   \n",
    "    # Create empty lists to store new strings\n",
    "    price = []\n",
    "    maintenance_costs = []\n",
    "    number_of_doors = []\n",
    "    number_of_passengers = []\n",
    "    luggage_capacity = []\n",
    "    safety_rating = []\n",
    "    classification_of_vehicle = []\n",
    "    \n",
    "    # Append respective strings into appropriate new lists\n",
    "    for row in readCSV:\n",
    "        price.append(row[0])\n",
    "        maintenance_costs.append(row[1])\n",
    "        number_of_doors.append(row[2])\n",
    "        number_of_passengers.append(row[3])\n",
    "        luggage_capacity.append(row[4])\n",
    "        safety_rating.append(row[5])\n",
    "        classification_of_vehicle.append(row[6])\n",
    "\n",
    "# Print new lists\n",
    "print(price)\n",
    "print(maintenance_costs)\n",
    "print(number_of_doors)\n",
    "print(number_of_passengers)\n",
    "print(luggage_capacity)\n",
    "print(safety_rating)\n",
    "print(classification_of_vehicle)"
   ]
  },
  {
   "cell_type": "markdown",
   "metadata": {},
   "source": [
    "### **Question 2**"
   ]
  },
  {
   "cell_type": "code",
   "execution_count": 2,
   "metadata": {},
   "outputs": [
    {
     "name": "stdout",
     "output_type": "stream",
     "text": [
      "[6, 16, 20, 23, 26, 29]\n"
     ]
    }
   ],
   "source": [
    "# Create empty list med_price\n",
    "med_price = []\n",
    "\n",
    "# Obtain the index number when price is \"med\" and append to med_price list\n",
    "for index, x in enumerate(price):\n",
    "    if(x == 'med'):\n",
    "        med_price.append(index)\n",
    "    \n",
    "# Print med_price list\n",
    "print(med_price)"
   ]
  },
  {
   "cell_type": "markdown",
   "metadata": {},
   "source": [
    "### **Question 3**"
   ]
  },
  {
   "cell_type": "code",
   "execution_count": 3,
   "metadata": {},
   "outputs": [
    {
     "name": "stdout",
     "output_type": "stream",
     "text": [
      "['more', '2', '2', '2', '4', '2']\n"
     ]
    }
   ],
   "source": [
    "# Create empty list number_of_passengers_med_price\n",
    "number_of_passengers_med_price = []\n",
    "\n",
    "# Obtain the index number when price is \"med\", and use that index number to find the corresponding number of\n",
    "# passengers\n",
    "for index, x in enumerate(price):\n",
    "    if(x == 'med'):\n",
    "        number_of_passengers_med_price.append(number_of_passengers[index])\n",
    "\n",
    "# Print number_of_passengers_med_price list\n",
    "print(number_of_passengers_med_price)"
   ]
  },
  {
   "cell_type": "markdown",
   "metadata": {},
   "source": [
    "### **Question 4**"
   ]
  },
  {
   "cell_type": "code",
   "execution_count": 4,
   "metadata": {},
   "outputs": [
    {
     "name": "stdout",
     "output_type": "stream",
     "text": [
      "[0, 1, 2, 27, 31]\n"
     ]
    }
   ],
   "source": [
    "# Create empty list high_price_not_low_maintanenance_costs\n",
    "high_price_not_low_maintenance_costs = []\n",
    "\n",
    "for index, x in enumerate(price):\n",
    "    # Loop through price list to see when price is \"high\"\n",
    "    if (x == 'high'):\n",
    "        # If price is \"high\", loop through maintenance_costs list to see when maintenance costs are not \"low\"\n",
    "        if(maintenance_costs[index] != 'low'):\n",
    "            # If both conditions are met, append that index number to our empty list\n",
    "            high_price_not_low_maintenance_costs.append(index)\n",
    "            \n",
    "# Print high_price_not_low_maintenance_costs list\n",
    "print(high_price_not_low_maintenance_costs)"
   ]
  },
  {
   "cell_type": "markdown",
   "metadata": {},
   "source": [
    "### **Question 5**"
   ]
  },
  {
   "cell_type": "code",
   "execution_count": 5,
   "metadata": {},
   "outputs": [
    {
     "name": "stdout",
     "output_type": "stream",
     "text": [
      "[3, 12, 19, 23]\n"
     ]
    }
   ],
   "source": [
    "# Create empty list two_doors_big_luggage_capacity\n",
    "two_doors_big_luggage_capacity = []\n",
    "\n",
    "for index, x in enumerate(number_of_doors):\n",
    "    # Loop through number_of_doors list to see when the number of doors is '2'\n",
    "    if(x == '2'):\n",
    "        # If number_of_doors is '2', loop through luggage_capacity list to see when luggage capactiy is \"big\" \n",
    "        if(luggage_capacity[index] == 'big'):\n",
    "            # If both conditions are met, append that index number to our empty list\n",
    "            two_doors_big_luggage_capacity.append(index)\n",
    "\n",
    "# Print two_doors_big_luggage_capacity\n",
    "print(two_doors_big_luggage_capacity)"
   ]
  },
  {
   "cell_type": "markdown",
   "metadata": {},
   "source": [
    "### **Question 6**"
   ]
  },
  {
   "cell_type": "code",
   "execution_count": 58,
   "metadata": {},
   "outputs": [
    {
     "name": "stdout",
     "output_type": "stream",
     "text": [
      "[2, 4, 4, 2, 3, 2, 4, 3, 2, 4, 2, 4, 2, 3, 5, 2, 2, 5, 3, 2, 4, 2, 5, 2, 4, 3, 3, 3, 5, 5, 3, 5, 5, 4, 3]\n",
      "3.3142857142857145\n"
     ]
    }
   ],
   "source": [
    "# Create empty list no_more_five_more\n",
    "no_more_five_more = []\n",
    "\n",
    "# Loop through number_of_doors list. If string \"5more\", change to integer 5. If string 2, 3, or 4, change to integer\n",
    "# 2, 3, or 4 respectively.\n",
    "for x in number_of_doors:\n",
    "    if(x == '5more'):\n",
    "        no_more_five_more.append(5)\n",
    "    elif(x == '2'):\n",
    "        no_more_five_more.append(2)\n",
    "    elif(x == '3'):\n",
    "        no_more_five_more.append(3)\n",
    "    elif(x == '4'):\n",
    "        no_more_five_more.append(4)\n",
    "\n",
    "# Print no_more_five_more\n",
    "print(no_more_five_more)\n",
    "\n",
    "# Calculate the average of no_more_five_more and store it in average_doors\n",
    "average_doors = sum(no_more_five_more)/35\n",
    "\n",
    "# Print average_doors\n",
    "print(average_doors)"
   ]
  }
 ],
 "metadata": {
  "kernelspec": {
   "display_name": "Python 3",
   "language": "python",
   "name": "python3"
  },
  "language_info": {
   "codemirror_mode": {
    "name": "ipython",
    "version": 3
   },
   "file_extension": ".py",
   "mimetype": "text/x-python",
   "name": "python",
   "nbconvert_exporter": "python",
   "pygments_lexer": "ipython3",
   "version": "3.8.3"
  }
 },
 "nbformat": 4,
 "nbformat_minor": 4
}
