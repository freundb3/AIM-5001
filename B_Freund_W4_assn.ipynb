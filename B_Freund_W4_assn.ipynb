{
 "cells": [
  {
   "cell_type": "markdown",
   "metadata": {},
   "source": [
    "# **Benjamin Freund** #\n",
    "# **Assignment 4** #"
   ]
  },
  {
   "cell_type": "markdown",
   "metadata": {},
   "source": [
    "## **Question 1** ##"
   ]
  },
  {
   "cell_type": "markdown",
   "metadata": {},
   "source": [
    "The challenge here was to write NumPy code that would find the common values in the given two arrays. The first step was to import NumPy into Python and then to assign the given arrays to a and b."
   ]
  },
  {
   "cell_type": "code",
   "execution_count": 113,
   "metadata": {},
   "outputs": [],
   "source": [
    "# Importing NumPy\n",
    "import numpy as np\n",
    "\n",
    "# Arrays given by Professor\n",
    "a = np.array([1, 2, 3, 2, 3, 4, 3, 4, 5, 6])\n",
    "b = np.array([7, 2, 10, 2, 7, 4, 9, 4, 9, 8])"
   ]
  },
  {
   "cell_type": "markdown",
   "metadata": {},
   "source": [
    "Next, an empty array called c was created. Then, I created a for loop that looped through each value in a and compared it to each value in b. If this loop found that there was a value in a that was also in b, it appended that value to c.\n",
    "\n",
    "However, c stores everything as floating points and not integers. Therefore, I changed the type of c to an integer and stored it in an array called d. I then printed all of the unique values in d. This displays an array of all the common values in the given two arrays."
   ]
  },
  {
   "cell_type": "code",
   "execution_count": 114,
   "metadata": {},
   "outputs": [
    {
     "name": "stdout",
     "output_type": "stream",
     "text": [
      "[2 4]\n"
     ]
    }
   ],
   "source": [
    "# Create an empty array c\n",
    "c = np.array([])\n",
    "\n",
    "# Loop through each value in array a\n",
    "for x in a:\n",
    "    # See if the value from array a is in array b\n",
    "    if(x in b):\n",
    "        # If it is, append that value to array c\n",
    "        c = np.append(c, x)\n",
    "        \n",
    "# Coerce array c from floating points to integers with the astype function\n",
    "d = c.astype(int)\n",
    "\n",
    "# Print the unique values in array d\n",
    "print(np.unique(d))"
   ]
  },
  {
   "cell_type": "markdown",
   "metadata": {},
   "source": [
    "## **Question 2** ##"
   ]
  },
  {
   "cell_type": "markdown",
   "metadata": {},
   "source": [
    "The question asked me to recreate an array using NumPy's sequencing functionality. This array had the numbers 1-15 in a 5x3 array, where the numbers were going down the columns (i.e. the first column had 1-5, the second had 6-10, and the third had 11-15).\n",
    "\n",
    "To do this, I used NumPy's \"arange\" function to create an array with the appropriate range. I started at 1 but ended at 16, because Python does not include the latter bound. Then I used NumPy's \"reshape\" function to shape this array into a 3x5 array. However, this array was not shaped correctly. Therefore, I used NumPy's \"T\" function to transpose the array. This acheived the approrpiate 5x3 array."
   ]
  },
  {
   "cell_type": "code",
   "execution_count": 115,
   "metadata": {},
   "outputs": [
    {
     "data": {
      "text/plain": [
       "array([[ 1,  6, 11],\n",
       "       [ 2,  7, 12],\n",
       "       [ 3,  8, 13],\n",
       "       [ 4,  9, 14],\n",
       "       [ 5, 10, 15]])"
      ]
     },
     "execution_count": 115,
     "metadata": {},
     "output_type": "execute_result"
    }
   ],
   "source": [
    "# Create the array\n",
    "np.arange(1, 16).reshape(3,5).T"
   ]
  },
  {
   "cell_type": "markdown",
   "metadata": {},
   "source": [
    "## **Question 3** ##"
   ]
  },
  {
   "cell_type": "markdown",
   "metadata": {},
   "source": [
    "This question asked me to remove the items from the given array called a that are also in the given array called b. The first step was to create arrays a and b."
   ]
  },
  {
   "cell_type": "code",
   "execution_count": 116,
   "metadata": {},
   "outputs": [],
   "source": [
    "# Arrays given by Professor\n",
    "a = np.array([12, 5, 7, 15, 3, 1, 8])\n",
    "b = np.array([14, 6, 3, 11, 19, 12, 5])"
   ]
  },
  {
   "cell_type": "markdown",
   "metadata": {},
   "source": [
    "Next, an empty array called c was created. Then, I created a for loop that looped through each value in a and compared it to each value in b. If this loop found that there was a value in a that was not in b, it appended that value to c.\n",
    "\n",
    "However, c stores everything as floating points and not integers. Therefore, I changed the type of c to an integer, stored it in an array called d, and printed d. This displays an array of all the values that are in a but not in b."
   ]
  },
  {
   "cell_type": "code",
   "execution_count": 118,
   "metadata": {},
   "outputs": [
    {
     "name": "stdout",
     "output_type": "stream",
     "text": [
      "[ 7 15  1  8]\n"
     ]
    }
   ],
   "source": [
    "# Create an empty array c\n",
    "c = np.array([])\n",
    "\n",
    "# Loop through each value in array a\n",
    "for x in a:\n",
    "    # See if the value from array a is in array b\n",
    "    if(x not in b):\n",
    "        # If it is not, append that value to array c\n",
    "        c = np.append(c, x)\n",
    "        \n",
    "# Coerce array c from floating points to integers with the astype function\n",
    "d = c.astype(int)\n",
    "\n",
    "# Print array d\n",
    "print(d)"
   ]
  },
  {
   "cell_type": "markdown",
   "metadata": {},
   "source": [
    "## **Question 4** ##"
   ]
  },
  {
   "cell_type": "markdown",
   "metadata": {},
   "source": [
    "The challenge here was to track how many miles I rode via bicycle from New York City, New York to Key West, Florida. The distance between these two cities according to Google Maps is 1,519 miles. I created an array called total_miles with random values tracking the cumulative miles rode, with the 1,519 miles at the end showing that I've ridden 1,519 miles total.\n",
    "\n",
    "Another condition was that there were four non-consecutive days where I couldn't travel. Therefore, four days in the array do not have a gain in cumulative mileage, as there was no additional travel. Furthermore, I am to assume that the trip took 35 days. Therefore, the array contains 35 values indexed 0 - 34."
   ]
  },
  {
   "cell_type": "code",
   "execution_count": 119,
   "metadata": {},
   "outputs": [],
   "source": [
    "# Random numbers in total_miles array\n",
    "total_miles = np.array([55, 120, 120, 180, 220, 290, 340, 340, 370, 410, 480, 540, \n",
    "                        590, 630, 675, 730, 795, 820, 820, 885, 910, 910, 960, 1000, \n",
    "                        1050, 1075, 1110, 1175, 1224, 1280, 1330, 1350, 1410, 1450, 1519])"
   ]
  },
  {
   "cell_type": "markdown",
   "metadata": {},
   "source": [
    "The next challenge was to show the total miles I rode each day. To do this, I created an empty array called miles_per_day_floating. Then, I created a for loop that looped through each value and its corresponding index number in total_miles. When the loop hit index 0 (the first value) of total_miles, it just appended that value to miles_per_day_floating. When the loop hit each of the following indices, it took the corresponding value of that index and subtracted it from the corresponding value of the following index. Furthermore, when the loop hit index 34 (the last value) of total_miles, it just appended that value to miles_per_day_floating. Thus, we end up with an array of the total miles I rode each day.\n",
    "\n",
    "However, miles_per_day_floating stores everything as floating points and not integers. Therefore, I changed the type of miles_per_day_floating to an integer, stored it in a new array called miles_per_day, and printed miles_per_day. This displays an array of the total miles I rode each day."
   ]
  },
  {
   "cell_type": "code",
   "execution_count": 75,
   "metadata": {},
   "outputs": [
    {
     "name": "stdout",
     "output_type": "stream",
     "text": [
      "[55 65  0 60 40 70 50  0 30 40 70 60 50 40 45 55 65 25  0 65 25  0 50 40\n",
      " 50 25 35 65 49 56 50 20 60 40 69]\n"
     ]
    }
   ],
   "source": [
    "# Create an empty array miles_per_day_floating\n",
    "miles_per_day_floating = np.array([])\n",
    "\n",
    "# Loop through each value and its index number in array total_miles\n",
    "for index, x in enumerate(total_miles):\n",
    "    \n",
    "    # See if the index number is 0 (i.e. if it's the first item in the array)\n",
    "    if(index == 0):\n",
    "        # If it is, append that value to the miles_per_day_floating array\n",
    "        miles_per_day_floating = np.append(miles_per_day_floating, x)\n",
    "    \n",
    "    # See if the index number is 34 (i.e. if it's the last item in the array)\n",
    "    if(index != 34):\n",
    "        # If it isn't, subtract the value in this index number from the value in the following index number\n",
    "        # and store it in y\n",
    "        y = total_miles[index+1] - total_miles[index]\n",
    "        # Append y to the miles_per_day_floating array\n",
    "        miles_per_day_floating = np.append(miles_per_day_floating, y)\n",
    "        \n",
    "# Coerce array miles_per_day_floating from floating points to integers with the astype function\n",
    "miles_per_day = miles_per_day_floating.astype(int)\n",
    "\n",
    "# Print array miles_per_day\n",
    "print(miles_per_day)"
   ]
  },
  {
   "cell_type": "markdown",
   "metadata": {},
   "source": [
    "## **Question 5** ##"
   ]
  },
  {
   "cell_type": "markdown",
   "metadata": {},
   "source": [
    "The final challenge of this assignment involved a small data set. from a GitHub repository. My professor gave me the code to retrieve this data, and his code along with his comments are below. This data details water consumption in New York City."
   ]
  },
  {
   "cell_type": "code",
   "execution_count": 79,
   "metadata": {},
   "outputs": [
    {
     "data": {
      "text/plain": [
       "numpy.ndarray"
      ]
     },
     "execution_count": 79,
     "metadata": {},
     "output_type": "execute_result"
    }
   ],
   "source": [
    "# Code given from Professor\n",
    "import pandas\n",
    "import numpy as np\n",
    "\n",
    "# supress scientific notation\n",
    "np.set_printoptions(suppress = True)\n",
    "\n",
    "# read the data file from GitHub and convert to a NumPy ndarray object\n",
    "nyc_water = pandas.read_csv('https://raw.githubusercontent.com/jtopor/DAV-5400/master/Week4/Water_Consumption_In_The_New_York_City.csv').values\n",
    "\n",
    "# verify you have an ndarray object\n",
    "type(nyc_water)"
   ]
  },
  {
   "cell_type": "markdown",
   "metadata": {},
   "source": [
    "There were four separate questions asked here.\n",
    "\n",
    "The first was to calculate the maximum yearly New York City consumption of water in millions of gallons per day. To do this, I used NumPy's \"max\" function, set the axis to 0 to refer to the columns, and used the index of 2 to retrieve the third column which contained the information requested. Thus, I calculated the max of the third column, and I got 1,512 millions of gallons per day. I then printed this in sentence form.\n",
    "\n",
    "The second was to calculate the number of calendar years in this data set. To do this, I used NumPy's \"shape\" function and used the index 0 to retrieve the first value in the shape array. I calculated 39 calendar years in this data set. I then printed this in sentence form.\n",
    "\n",
    "The third was to calculate the mean and standard deviation of the per capita daily water consumption. To calculate the mean, I used NumPy's \"mean\" function, set the axis to 0 to refer to the columns, and used the index of 3 to retrieve the fourth column which contained the information requested. I then used the round function to round this number to two decimal places. Thus, I calculated the mean of the fourth column, and I got 160.31 gallons per person per day. To calculate the standard deviation, I used NumPy's \"std\" function, set the axis to 0 to refer to the columns, and used the index of 3 to retrieve the fourth column which contained the information requested. I then used the round function to round this number to two decimal places. Thus, I calculated the standard deviation of the fourth column, and I got 31.52 gallons per person per day. I then printed both the mean and the standard deviation in sentence form.\n",
    "\n",
    "The fourth was to create an array containing the increase or decrease in population from year to year. To do this, I used NumPy's \"diff\" function, set the axis to 0 to refer to the columns, and used the index [:,1] to refer to the appropriate column. I stored this in an array called pop_diff_floating. However, pop_diff_floating stores everything as floating points and not integers. Therefore, I changed the type of pop_diff_floating to an integer and stored it in a new array called pop_diff. I then printed a sentence preceding the array along with the array (in separate print statements)."
   ]
  },
  {
   "cell_type": "code",
   "execution_count": 122,
   "metadata": {},
   "outputs": [
    {
     "name": "stdout",
     "output_type": "stream",
     "text": [
      "The maximum yearly NYC consumption of water is 1512.0 millions of gallons per day.\n",
      " \n",
      "There are 39 calendar years in this data set.\n",
      " \n",
      "The mean per capita daily water consumption is 160.31 gallons per person per day. The standard deviation is 31.52 gallons per person per day.\n",
      " \n",
      "This array shows the change in population from year to year:\n",
      "[-30461  17602  19864  72119  53290  39540  45192  23230  11243  -9544\n",
      "  -8525  38851  54443  77222  64292  62582  64772  75631  84816  89401\n",
      "  60618  16685  16685  16685  16685  16685  16685  16685  16685  16685\n",
      "  16685 108965  77081  61281  49530  44512  21171  85025]\n"
     ]
    }
   ],
   "source": [
    "# Maximum yearly NYC consumption of water in millions of gallons per day\n",
    "print(\"The maximum yearly NYC consumption of water is\", nyc_water.max(axis=0)[2], \"millions of gallons per day.\")\n",
    "print(\" \")\n",
    "\n",
    "# Number of calendar years in data set\n",
    "print(\"There are\", nyc_water.shape[0], \"calendar years in this data set.\")\n",
    "print(\" \")\n",
    "\n",
    "# Mean and standard deviation of per capita daily water consumption\n",
    "print(\"The mean per capita daily water consumption is\", round(nyc_water.mean(axis = 0)[3], 2), \n",
    "      \"gallons per person per day. The standard deviation is\", round(nyc_water.std(axis = 0)[3], 2), \n",
    "      \"gallons per person per day.\")\n",
    "print(\" \")\n",
    "\n",
    "# Change in population from year to year\n",
    "pop_diff_floating = np.diff(nyc_water, axis = 0)[:, 1]\n",
    "pop_diff = pop_diff_floating.astype(int)\n",
    "print(\"This array shows the change in population from year to year:\")\n",
    "print(pop_diff)"
   ]
  }
 ],
 "metadata": {
  "kernelspec": {
   "display_name": "Python 3",
   "language": "python",
   "name": "python3"
  },
  "language_info": {
   "codemirror_mode": {
    "name": "ipython",
    "version": 3
   },
   "file_extension": ".py",
   "mimetype": "text/x-python",
   "name": "python",
   "nbconvert_exporter": "python",
   "pygments_lexer": "ipython3",
   "version": "3.8.3"
  }
 },
 "nbformat": 4,
 "nbformat_minor": 4
}
