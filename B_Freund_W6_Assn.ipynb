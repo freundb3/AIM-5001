{
 "cells": [
  {
   "cell_type": "markdown",
   "metadata": {},
   "source": [
    "# Benjamin Freund"
   ]
  },
  {
   "cell_type": "markdown",
   "metadata": {},
   "source": [
    "# Week 6 Assignment"
   ]
  },
  {
   "cell_type": "markdown",
   "metadata": {},
   "source": [
    "For this week's assignment, I will be analyzing a dataset that describes various attributes of about 54,000 diamonds. The code below imports the Pandas and Numpy packages into the Python environment, and it reads and displays the diamonds dataset."
   ]
  },
  {
   "cell_type": "code",
   "execution_count": 6,
   "metadata": {},
   "outputs": [
    {
     "data": {
      "text/html": [
       "<div>\n",
       "<style scoped>\n",
       "    .dataframe tbody tr th:only-of-type {\n",
       "        vertical-align: middle;\n",
       "    }\n",
       "\n",
       "    .dataframe tbody tr th {\n",
       "        vertical-align: top;\n",
       "    }\n",
       "\n",
       "    .dataframe thead th {\n",
       "        text-align: right;\n",
       "    }\n",
       "</style>\n",
       "<table border=\"1\" class=\"dataframe\">\n",
       "  <thead>\n",
       "    <tr style=\"text-align: right;\">\n",
       "      <th></th>\n",
       "      <th>carat</th>\n",
       "      <th>cut</th>\n",
       "      <th>color</th>\n",
       "      <th>clarity</th>\n",
       "      <th>depth</th>\n",
       "      <th>table</th>\n",
       "      <th>price</th>\n",
       "      <th>x</th>\n",
       "      <th>y</th>\n",
       "      <th>z</th>\n",
       "    </tr>\n",
       "  </thead>\n",
       "  <tbody>\n",
       "    <tr>\n",
       "      <th>0</th>\n",
       "      <td>0.23</td>\n",
       "      <td>Ideal</td>\n",
       "      <td>E</td>\n",
       "      <td>SI2</td>\n",
       "      <td>61.5</td>\n",
       "      <td>55.0</td>\n",
       "      <td>326</td>\n",
       "      <td>3.95</td>\n",
       "      <td>3.98</td>\n",
       "      <td>2.43</td>\n",
       "    </tr>\n",
       "    <tr>\n",
       "      <th>1</th>\n",
       "      <td>0.21</td>\n",
       "      <td>Premium</td>\n",
       "      <td>E</td>\n",
       "      <td>SI1</td>\n",
       "      <td>59.8</td>\n",
       "      <td>61.0</td>\n",
       "      <td>326</td>\n",
       "      <td>3.89</td>\n",
       "      <td>3.84</td>\n",
       "      <td>2.31</td>\n",
       "    </tr>\n",
       "    <tr>\n",
       "      <th>2</th>\n",
       "      <td>0.23</td>\n",
       "      <td>Good</td>\n",
       "      <td>E</td>\n",
       "      <td>VS1</td>\n",
       "      <td>56.9</td>\n",
       "      <td>65.0</td>\n",
       "      <td>327</td>\n",
       "      <td>4.05</td>\n",
       "      <td>4.07</td>\n",
       "      <td>2.31</td>\n",
       "    </tr>\n",
       "    <tr>\n",
       "      <th>3</th>\n",
       "      <td>0.29</td>\n",
       "      <td>Premium</td>\n",
       "      <td>I</td>\n",
       "      <td>VS2</td>\n",
       "      <td>62.4</td>\n",
       "      <td>58.0</td>\n",
       "      <td>334</td>\n",
       "      <td>4.20</td>\n",
       "      <td>4.23</td>\n",
       "      <td>2.63</td>\n",
       "    </tr>\n",
       "    <tr>\n",
       "      <th>4</th>\n",
       "      <td>0.31</td>\n",
       "      <td>Good</td>\n",
       "      <td>J</td>\n",
       "      <td>SI2</td>\n",
       "      <td>63.3</td>\n",
       "      <td>58.0</td>\n",
       "      <td>335</td>\n",
       "      <td>4.34</td>\n",
       "      <td>4.35</td>\n",
       "      <td>2.75</td>\n",
       "    </tr>\n",
       "    <tr>\n",
       "      <th>...</th>\n",
       "      <td>...</td>\n",
       "      <td>...</td>\n",
       "      <td>...</td>\n",
       "      <td>...</td>\n",
       "      <td>...</td>\n",
       "      <td>...</td>\n",
       "      <td>...</td>\n",
       "      <td>...</td>\n",
       "      <td>...</td>\n",
       "      <td>...</td>\n",
       "    </tr>\n",
       "    <tr>\n",
       "      <th>53935</th>\n",
       "      <td>0.72</td>\n",
       "      <td>Ideal</td>\n",
       "      <td>D</td>\n",
       "      <td>SI1</td>\n",
       "      <td>60.8</td>\n",
       "      <td>57.0</td>\n",
       "      <td>2757</td>\n",
       "      <td>5.75</td>\n",
       "      <td>5.76</td>\n",
       "      <td>3.50</td>\n",
       "    </tr>\n",
       "    <tr>\n",
       "      <th>53936</th>\n",
       "      <td>0.72</td>\n",
       "      <td>Good</td>\n",
       "      <td>D</td>\n",
       "      <td>SI1</td>\n",
       "      <td>63.1</td>\n",
       "      <td>55.0</td>\n",
       "      <td>2757</td>\n",
       "      <td>5.69</td>\n",
       "      <td>5.75</td>\n",
       "      <td>3.61</td>\n",
       "    </tr>\n",
       "    <tr>\n",
       "      <th>53937</th>\n",
       "      <td>0.70</td>\n",
       "      <td>Very Good</td>\n",
       "      <td>D</td>\n",
       "      <td>SI1</td>\n",
       "      <td>62.8</td>\n",
       "      <td>60.0</td>\n",
       "      <td>2757</td>\n",
       "      <td>5.66</td>\n",
       "      <td>5.68</td>\n",
       "      <td>3.56</td>\n",
       "    </tr>\n",
       "    <tr>\n",
       "      <th>53938</th>\n",
       "      <td>0.86</td>\n",
       "      <td>Premium</td>\n",
       "      <td>H</td>\n",
       "      <td>SI2</td>\n",
       "      <td>61.0</td>\n",
       "      <td>58.0</td>\n",
       "      <td>2757</td>\n",
       "      <td>6.15</td>\n",
       "      <td>6.12</td>\n",
       "      <td>3.74</td>\n",
       "    </tr>\n",
       "    <tr>\n",
       "      <th>53939</th>\n",
       "      <td>0.75</td>\n",
       "      <td>Ideal</td>\n",
       "      <td>D</td>\n",
       "      <td>SI2</td>\n",
       "      <td>62.2</td>\n",
       "      <td>55.0</td>\n",
       "      <td>2757</td>\n",
       "      <td>5.83</td>\n",
       "      <td>5.87</td>\n",
       "      <td>3.64</td>\n",
       "    </tr>\n",
       "  </tbody>\n",
       "</table>\n",
       "<p>53940 rows × 10 columns</p>\n",
       "</div>"
      ],
      "text/plain": [
       "       carat        cut color clarity  depth  table  price     x     y     z\n",
       "0       0.23      Ideal     E     SI2   61.5   55.0    326  3.95  3.98  2.43\n",
       "1       0.21    Premium     E     SI1   59.8   61.0    326  3.89  3.84  2.31\n",
       "2       0.23       Good     E     VS1   56.9   65.0    327  4.05  4.07  2.31\n",
       "3       0.29    Premium     I     VS2   62.4   58.0    334  4.20  4.23  2.63\n",
       "4       0.31       Good     J     SI2   63.3   58.0    335  4.34  4.35  2.75\n",
       "...      ...        ...   ...     ...    ...    ...    ...   ...   ...   ...\n",
       "53935   0.72      Ideal     D     SI1   60.8   57.0   2757  5.75  5.76  3.50\n",
       "53936   0.72       Good     D     SI1   63.1   55.0   2757  5.69  5.75  3.61\n",
       "53937   0.70  Very Good     D     SI1   62.8   60.0   2757  5.66  5.68  3.56\n",
       "53938   0.86    Premium     H     SI2   61.0   58.0   2757  6.15  6.12  3.74\n",
       "53939   0.75      Ideal     D     SI2   62.2   55.0   2757  5.83  5.87  3.64\n",
       "\n",
       "[53940 rows x 10 columns]"
      ]
     },
     "execution_count": 6,
     "metadata": {},
     "output_type": "execute_result"
    }
   ],
   "source": [
    "# Importing Pandas and Numpy into the Python environment\n",
    "import pandas as pd\n",
    "import numpy as np\n",
    "\n",
    "# Assigning the diamonds.csv path to filename\n",
    "filename = \"/Users/benjaminfreund/Desktop/YU/Graduate/Data Acquisition & Mangement/diamonds.csv\"\n",
    "\n",
    "# Reading the filename csv into the Pandas dataframe diamonds\n",
    "diamonds = pd.read_csv(filename)\n",
    "\n",
    "# Displaying diamonds\n",
    "diamonds"
   ]
  },
  {
   "cell_type": "markdown",
   "metadata": {},
   "source": [
    "## Question 1"
   ]
  },
  {
   "cell_type": "markdown",
   "metadata": {},
   "source": [
    "The first question asks for the proportion of diamonds that are between 0.30 and 1.08 carats. To calculate this, I indexed all the diamonds that had a carat value that was both greater than or equal to 0.30 and less than or equal to 1.08. Then, I calculated the length of this dataframe to determine how many diamonds fell under the aforementioned criteria. Next, I divided the length of the overall diamonds dataframe by this new calculated length and multiplied that number by 100 to get the proportion as a percentage. Finally, I rounded this number to 2 decimal points, in order to make the proportion percentage more readable."
   ]
  },
  {
   "cell_type": "code",
   "execution_count": 18,
   "metadata": {},
   "outputs": [
    {
     "name": "stdout",
     "output_type": "stream",
     "text": [
      "74.68 % of diamonds are between 0.30 and 1.08 carats.\n"
     ]
    }
   ],
   "source": [
    "# Calculating the proportion of diamonds that are between 0.30 and 1.08 carats and storing it in proportion\n",
    "proportion = round(((len(diamonds[(diamonds.carat >= 0.30) & (diamonds.carat <= 1.08)]) / len(diamonds)) * 100), 2)\n",
    "\n",
    "# Printing proportion in sentence form\n",
    "print(proportion, '% of diamonds are between 0.30 and 1.08 carats.')"
   ]
  },
  {
   "cell_type": "markdown",
   "metadata": {},
   "source": [
    "## Question 2"
   ]
  },
  {
   "cell_type": "markdown",
   "metadata": {},
   "source": [
    "This question asked for the number of diamonds with an equal length and width. To accomplish this, I indexed all of the diamonds that had an equal length and width, and then I got the length of the diamonds that fit those criteria."
   ]
  },
  {
   "cell_type": "code",
   "execution_count": 35,
   "metadata": {},
   "outputs": [
    {
     "name": "stdout",
     "output_type": "stream",
     "text": [
      "17 diamonds have equal x and y dimensions.\n"
     ]
    }
   ],
   "source": [
    "# Calculating the number of diamonds with equal x and y dimensions and storing it in equal\n",
    "equal = len(diamonds[diamonds.x == diamonds.y])\n",
    "\n",
    "# Printing equal in sentence form\n",
    "print(equal, 'diamonds have equal x and y dimensions.')"
   ]
  },
  {
   "cell_type": "markdown",
   "metadata": {},
   "source": [
    "## Question 3"
   ]
  },
  {
   "cell_type": "markdown",
   "metadata": {},
   "source": [
    "This question asked for the number of diamonds with a carat value lower than the mean carat value. To calculate this, I used Pandas' describe function to calculate the mean of the carat column. Then, I indexed all diamonds which have a smaller carat value than the calculated mean carat value. Finally, I got the length of the diamonds that fit the aforementioned criteria."
   ]
  },
  {
   "cell_type": "code",
   "execution_count": 34,
   "metadata": {},
   "outputs": [
    {
     "name": "stdout",
     "output_type": "stream",
     "text": [
      "31127 diamonds have a carat value less than the mean carat value.\n"
     ]
    }
   ],
   "source": [
    "# Calculating the number of diamonds that have a carat value less than the mean carat value and storing it in less\n",
    "less = len(diamonds[(diamonds['carat']) < (diamonds['carat'].describe()['mean'])])\n",
    "\n",
    "# Printing less in sentence form\n",
    "print(less, 'diamonds have a carat value less than the mean carat value.')"
   ]
  },
  {
   "cell_type": "markdown",
   "metadata": {},
   "source": [
    "## Question 4"
   ]
  },
  {
   "cell_type": "markdown",
   "metadata": {},
   "source": [
    "This question asked me to determine how many diamonds have a Premium cut or better. I was told that the only cut better than Premium is Ideal, so I only looked for those diamonds with a cut that is Premium or Ideal. To do this, I indexed all diamonds with either of those two cuts, and then I got the length of the diamonds that fit the aforementioned criteria."
   ]
  },
  {
   "cell_type": "code",
   "execution_count": 38,
   "metadata": {},
   "outputs": [
    {
     "name": "stdout",
     "output_type": "stream",
     "text": [
      "35342 diamonds have a Premium cut or better.\n"
     ]
    }
   ],
   "source": [
    "# Calculating the number of diamonds that have a cut which is Premium or better and storing it in cut\n",
    "cut = len(diamonds[(diamonds.cut == 'Premium') | (diamonds.cut == 'Ideal')])\n",
    "\n",
    "# Printing cut in sentence form\n",
    "print(cut, 'diamonds have a Premium cut or better.')"
   ]
  },
  {
   "cell_type": "markdown",
   "metadata": {},
   "source": [
    "## Question 5"
   ]
  },
  {
   "cell_type": "markdown",
   "metadata": {},
   "source": [
    "This question wanted me to locate the highest price per carat and the value of that diamond. To do this, I first created a new column called price_per_carat, which was simply the carat value of each diamond divided by its price. I then added that column to the diamonds dataframe. Next, I used the describe function to locate the diamond with the highest price per carat, and I printed all of the information about that diamond."
   ]
  },
  {
   "cell_type": "code",
   "execution_count": 76,
   "metadata": {},
   "outputs": [
    {
     "name": "stdout",
     "output_type": "stream",
     "text": [
      "       carat        cut color clarity  depth  table  price     x     y     z  \\\n",
      "27635   1.04  Very Good     D      IF   61.3   56.0  18542  6.53  6.55  4.01   \n",
      "\n",
      "       Price_Per_Carat  \n",
      "27635     17828.846154  \n",
      "\n",
      "As can be seen above, diamond #27635 has the highest price per carat. It has a carat value of 1.04, a price of $18,542, and a rounded price per carat of $17,828.85\n"
     ]
    }
   ],
   "source": [
    "# Calculating the price per carat and storing it in price_per_carat\n",
    "price_per_carat = diamonds.price/diamonds.carat\n",
    "\n",
    "# Adding the Price_Per_Carat column onto the original diamonds dataframe\n",
    "diamonds['Price_Per_Carat'] = price_per_carat\n",
    "\n",
    "# Printing all of the information about the diamond with the maximum price per carat\n",
    "print(diamonds[(diamonds.Price_Per_Carat) == (diamonds['Price_Per_Carat'].describe()['max'])])\n",
    "\n",
    "# Printing a blank line for readability\n",
    "print('')\n",
    "\n",
    "# Printing an explanation about the diamond with the maximum price per carat\n",
    "print('As can be seen above, diamond #27635 has the highest price per carat. It has a carat value of 1.04, a price of $18,542, and a rounded price per carat of $17,828.85')"
   ]
  },
  {
   "cell_type": "markdown",
   "metadata": {},
   "source": [
    "## Question 6"
   ]
  },
  {
   "cell_type": "markdown",
   "metadata": {},
   "source": [
    "This queston asked me to make a bar plot of the cut data. To do this, I used Pandas' plot.bar function. The value_counts() function calculates the frequency and displays it on the bar graph."
   ]
  },
  {
   "cell_type": "code",
   "execution_count": 91,
   "metadata": {},
   "outputs": [
    {
     "name": "stdout",
     "output_type": "stream",
     "text": [
      "The below bar plot displays that as the cut becomes of a lower quality, it becomes less frequent.\n"
     ]
    },
    {
     "data": {
      "image/png": "[encoded data removed]",
      "text/plain": [
       "<Figure size 432x288 with 1 Axes>"
      ]
     },
     "metadata": {
      "needs_background": "light"
     },
     "output_type": "display_data"
    }
   ],
   "source": [
    "# Creating the bar plot for the frequency distribution of the cut and storing it in bar_plot\n",
    "bar_plot = diamonds['cut'].value_counts().plot.bar(title = 'Frequency Distribution of Cut')\n",
    "\n",
    "# Displaying bar_plot\n",
    "bar_plot\n",
    "\n",
    "# Printing an analysis of the bar plot\n",
    "print('The below bar plot displays that as the cut becomes of a lower quality, it becomes less frequent.')"
   ]
  },
  {
   "cell_type": "markdown",
   "metadata": {},
   "source": [
    "## Question 7"
   ]
  },
  {
   "cell_type": "markdown",
   "metadata": {},
   "source": [
    "This question asked me to create boxplots of the diamond price by each cut. To do this, I used Pandas' boxplot function. The \"column\" specifies which column in the dataframe Pandas should make the boxplot out of, and the \"by\" specifies how Pandas should group the boxplots."
   ]
  },
  {
   "cell_type": "code",
   "execution_count": 77,
   "metadata": {},
   "outputs": [
    {
     "data": {
      "text/plain": [
       "<matplotlib.axes._subplots.AxesSubplot at 0x7fc2bd55e7c0>"
      ]
     },
     "execution_count": 77,
     "metadata": {},
     "output_type": "execute_result"
    },
    {
     "data": {
      "image/png": "[encoded data removed]",
      "text/plain": [
       "<Figure size 432x288 with 1 Axes>"
      ]
     },
     "metadata": {
      "needs_background": "light"
     },
     "output_type": "display_data"
    }
   ],
   "source": [
    "# Creating boxplots of price grouped by cut and storing them in box_plot\n",
    "box_plot = diamonds.boxplot(column = 'price', by = 'cut')\n",
    "\n",
    "# Displaying box_plot\n",
    "box_plot"
   ]
  },
  {
   "cell_type": "markdown",
   "metadata": {
    "collapsed": true
   },
   "source": [
    "From the above boxplots, one can make a very interesting observation. As the quality of the cut increases from Fair to Premium, the maximum price increases as well. However, once one gets to the highest quality cut (Ideal), the maximum price drops. Similarly, the price at the minimum, first quartile, median, and third quartile are all lower by the Ideal cut than by any other cut. This indicates that diamonds with an Ideal cut may be priced lower than their counterparts."
   ]
  },
  {
   "cell_type": "markdown",
   "metadata": {},
   "source": [
    "## Question 8"
   ]
  },
  {
   "cell_type": "markdown",
   "metadata": {},
   "source": [
    "This question asked me to create histograms of the length (\"x\" in the dataset), width (\"y\" in the dataset), depth (\"z\" in the dataset), and total depth (\"depth\" in the dataset). To do this, I used the hist function found in Pandas. The \"column\" specifies which column Pandas should use to create the histogram."
   ]
  },
  {
   "cell_type": "code",
   "execution_count": 90,
   "metadata": {},
   "outputs": [
    {
     "data": {
      "text/plain": [
       "array([[<matplotlib.axes._subplots.AxesSubplot object at 0x7fc2c3375310>]],\n",
       "      dtype=object)"
      ]
     },
     "execution_count": 90,
     "metadata": {},
     "output_type": "execute_result"
    },
    {
     "data": {
      "image/png": "[encoded data removed]",
      "text/plain": [
       "<Figure size 432x288 with 1 Axes>"
      ]
     },
     "metadata": {
      "needs_background": "light"
     },
     "output_type": "display_data"
    },
    {
     "data": {
      "image/png": "[encoded data removed]",
      "text/plain": [
       "<Figure size 432x288 with 1 Axes>"
      ]
     },
     "metadata": {
      "needs_background": "light"
     },
     "output_type": "display_data"
    },
    {
     "data": {
      "image/png": "[encoded data removed]",
      "text/plain": [
       "<Figure size 432x288 with 1 Axes>"
      ]
     },
     "metadata": {
      "needs_background": "light"
     },
     "output_type": "display_data"
    },
    {
     "data": {
      "image/png": "[encoded data removed]",
      "text/plain": [
       "<Figure size 432x288 with 1 Axes>"
      ]
     },
     "metadata": {
      "needs_background": "light"
     },
     "output_type": "display_data"
    }
   ],
   "source": [
    "# Creating a histogram of the length\n",
    "diamonds.hist(column = 'x')\n",
    "\n",
    "# Creating a histogram of the width\n",
    "diamonds.hist(column = 'y')\n",
    "\n",
    "# Creating a histogram of the depth\n",
    "diamonds.hist(column = 'z')\n",
    "\n",
    "# Creating a histogram of the total depth\n",
    "diamonds.hist(column = 'depth')"
   ]
  },
  {
   "cell_type": "markdown",
   "metadata": {},
   "source": [
    "Most diamonds have a length between roughly 4 and 5 mm. Given that the range set forth in the data dictionary is 0 - 10.74 mm, this range seems to be roughly in the middle.\n",
    "\n",
    "Most diamonds have a width between roughly 0 and 5 mm. Given that the range set forth in the data dictionary is 0 - 58.9 mm, this range seems to show that these diamonds tend to be more narrow.\n",
    "\n",
    "Most diamonds have a depth between roughly 3 and 6 mm. Given that the range set forth in the data dictionary is 0 - 31.8 mm, this range seems to show that these diamonds don't have a large depth.\n",
    "\n",
    "Most diamonds have a total depth between roughly 61 and 64 mm. Given that the range set forth in the data dictionary is 43 - 79 mm, this range seems to be roughly in the middle."
   ]
  },
  {
   "cell_type": "markdown",
   "metadata": {},
   "source": [
    "## Question 9"
   ]
  },
  {
   "cell_type": "markdown",
   "metadata": {},
   "source": [
    "This question asked me to create a scatter plot of price vs. carat. To do this, I used Pandas' plot.scatter function and specified the columns to be the price and carat columns found in the dataset."
   ]
  },
  {
   "cell_type": "code",
   "execution_count": 88,
   "metadata": {},
   "outputs": [
    {
     "data": {
      "text/plain": [
       "<matplotlib.axes._subplots.AxesSubplot at 0x7fc2c269fc70>"
      ]
     },
     "execution_count": 88,
     "metadata": {},
     "output_type": "execute_result"
    },
    {
     "data": {
      "image/png": "[encoded data removed]",
      "text/plain": [
       "<Figure size 432x288 with 1 Axes>"
      ]
     },
     "metadata": {
      "needs_background": "light"
     },
     "output_type": "display_data"
    }
   ],
   "source": [
    "# Creating a scatterplot of price vs. carat\n",
    "diamonds.plot.scatter('price', 'carat')"
   ]
  },
  {
   "cell_type": "markdown",
   "metadata": {},
   "source": [
    "The scatterplot above seems to indicate a positive relationship between price and carat. Meaning to say, as the price goes up, the amount of carats will generally go up as well. However, this does not indicate causation, just some form of correlation. Additionally, this is not a perfect correlation. Furthermore, as one looks at the plot, there appears to be some outliers, or situations where there are many more carats, yet the price remains the same as if there were less carats. Further investigation should be done as to the nature of those seeming outliers."
   ]
  }
 ],
 "metadata": {
  "kernelspec": {
   "display_name": "Python 3",
   "language": "python",
   "name": "python3"
  },
  "language_info": {
   "codemirror_mode": {
    "name": "ipython",
    "version": 3
   },
   "file_extension": ".py",
   "mimetype": "text/x-python",
   "name": "python",
   "nbconvert_exporter": "python",
   "pygments_lexer": "ipython3",
   "version": "3.8.3"
  }
 },
 "nbformat": 4,
 "nbformat_minor": 4
}
