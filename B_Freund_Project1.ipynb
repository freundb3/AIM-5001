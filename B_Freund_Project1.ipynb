{
 "cells": [
  {
   "cell_type": "markdown",
   "metadata": {},
   "source": [
    "# **Benjamin Freund**\n",
    "# **Flights Project**"
   ]
  },
  {
   "cell_type": "markdown",
   "metadata": {},
   "source": [
    "## *Introduction*"
   ]
  },
  {
   "cell_type": "markdown",
   "metadata": {},
   "source": [
    "Millions of flights leave from airports across the world every day. All of these flights generate billions of data points that can be analyzed to improve the overall flight experience. In this analysis, a small subset of flights will be analyzed to answer some critical research questions. This is not a full analysis, but rather an introductory analysis with the goal of raising issues and leading to further analyses.\n",
    "\n",
    "The theme of this analysis will be customer satisfaction. People often dread flying, whether it is due to waiting in line, airplane delays, or cancelled flights. Ideally, airlines would want to do whatever they can to minimize all of the negatives associated with flying and increase customer satisfaction. This analysis will identify specific problems that are potentially causing customer dissatisfaction."
   ]
  },
  {
   "cell_type": "markdown",
   "metadata": {},
   "source": [
    "## *Importing the Data*"
   ]
  },
  {
   "cell_type": "markdown",
   "metadata": {},
   "source": [
    "This data is originally from the US' Buerau of Transportation. It is a 20,000 row subset of the hflights package in R. It provides data about domestic flights departing from two airports in Houston, Texas (IAH and HOU) throughout 2011.\n",
    "\n",
    "The code below uses the pandas package in Python to import this data into the Python environment."
   ]
  },
  {
   "cell_type": "code",
   "execution_count": 6,
   "metadata": {},
   "outputs": [
    {
     "name": "stdout",
     "output_type": "stream",
     "text": [
      "       Year  Month  DayofMonth  DayOfWeek  DepTime  ArrTime UniqueCarrier  \\\n",
      "0      2011      1           1          6   1400.0   1500.0            AA   \n",
      "1      2011      1           2          7   1401.0   1501.0            AA   \n",
      "2      2011      1           3          1   1352.0   1502.0            AA   \n",
      "3      2011      1           4          2   1403.0   1513.0            AA   \n",
      "4      2011      1           5          3   1405.0   1507.0            AA   \n",
      "...     ...    ...         ...        ...      ...      ...           ...   \n",
      "19995  2011      2          25          5   1126.0   1333.0            CO   \n",
      "19996  2011      2          25          5    941.0   1111.0            CO   \n",
      "19997  2011      2          25          5    722.0    948.0            CO   \n",
      "19998  2011      2          25          5   1909.0   2216.0            CO   \n",
      "19999  2011      2          25          5   1255.0   1553.0            CO   \n",
      "\n",
      "       FlightNum TailNum  ActualElapsedTime  ...  ArrDelay  DepDelay  Origin  \\\n",
      "0            428  N576AA               60.0  ...     -10.0       0.0     IAH   \n",
      "1            428  N557AA               60.0  ...      -9.0       1.0     IAH   \n",
      "2            428  N541AA               70.0  ...      -8.0      -8.0     IAH   \n",
      "3            428  N403AA               70.0  ...       3.0       3.0     IAH   \n",
      "4            428  N492AA               62.0  ...      -3.0       5.0     IAH   \n",
      "...          ...     ...                ...  ...       ...       ...     ...   \n",
      "19995       1719  N19621              187.0  ...       8.0      -4.0     IAH   \n",
      "19996       1723  N37298              210.0  ...       0.0      11.0     IAH   \n",
      "19997       1746  N37408              146.0  ...     -17.0      -3.0     IAH   \n",
      "19998       1748  N27239              127.0  ...     -10.0      12.0     IAH   \n",
      "19999       1757  N14604              118.0  ...      -3.0       5.0     IAH   \n",
      "\n",
      "      Dest Distance  TaxiIn  TaxiOut  Cancelled  CancellationCode Diverted  \n",
      "0      DFW      224     7.0     13.0          0               NaN        0  \n",
      "1      DFW      224     6.0      9.0          0               NaN        0  \n",
      "2      DFW      224     5.0     17.0          0               NaN        0  \n",
      "3      DFW      224     9.0     22.0          0               NaN        0  \n",
      "4      DFW      224     9.0      9.0          0               NaN        0  \n",
      "...    ...      ...     ...      ...        ...               ...      ...  \n",
      "19995  MTJ      926     5.0     30.0          0               NaN        0  \n",
      "19996  ONT     1334     5.0     12.0          0               NaN        0  \n",
      "19997  ORD      925    17.0     14.0          0               NaN        0  \n",
      "19998  FLL      965     6.0     15.0          0               NaN        0  \n",
      "19999  ATL      689    13.0     22.0          0               NaN        0  \n",
      "\n",
      "[20000 rows x 21 columns]\n"
     ]
    }
   ],
   "source": [
    "# Importing the Pandas package into Python\n",
    "import pandas as pd\n",
    "\n",
    "# Accessing the csv that contains the data and storing it in filename\n",
    "filename = 'https://raw.githubusercontent.com/jtopor/DAV-5400/master/Project1/hflights.csv'\n",
    "\n",
    "# Reading that csv into the variable hflights\n",
    "hflights = pd.read_csv(filename)\n",
    "\n",
    "# Print hflights\n",
    "print(hflights)"
   ]
  },
  {
   "cell_type": "markdown",
   "metadata": {},
   "source": [
    "## *Research Questions*"
   ]
  },
  {
   "cell_type": "markdown",
   "metadata": {},
   "source": [
    "There are a countless number of fascinating analytical questions one can ask based on this database. Listed below are three questions, along with an explanation of the validity of the questions as they relate to customer satisfaction."
   ]
  },
  {
   "cell_type": "markdown",
   "metadata": {},
   "source": [
    "### How many flights have longer taxiing times than expected?"
   ]
  },
  {
   "cell_type": "markdown",
   "metadata": {},
   "source": [
    "If there's one thing passengers dread more than waiting in the airport, it is waiting on the plane. It's understandable that some taxiing is necessary. However, an unnecessarily lengthened taxiing time can cause customer dissatisfaction. An analysis that identifies the number of flights with longer taxiing times can help carriers identify problem airports. Once identified, problem airports can then work on decreasing their taxiing time, which will, in turn, increase customer satisfaction."
   ]
  },
  {
   "cell_type": "markdown",
   "metadata": {},
   "source": [
    "### What are the average arrival and departure delays at each airport?"
   ]
  },
  {
   "cell_type": "markdown",
   "metadata": {},
   "source": [
    "IAH and HOU are two major airports that constantly have arriving and departing flights. All of these flights can lead to increased air traffic, which, along with other factors, can cause delays. It would be interesting to compare delays at IAH and HOU to see if the delays at one airport are significantly longer than the other. If they are, further analysis can be done to determine the causes behind increased delays and action can be taken to minimize them."
   ]
  },
  {
   "cell_type": "markdown",
   "metadata": {},
   "source": [
    "### Are flights travelling to certain destinations more or less likely to be cancelled or diverted?"
   ]
  },
  {
   "cell_type": "markdown",
   "metadata": {},
   "source": [
    "Many people, from staff to passengers, are inconvenienced when flights are cancelled or diverted. Minimizing these instances helps everyone feel a sense of security with their flights. If certain destinations are more or less prone to these instances than others, they can be pinpointed as problem destinations. Further analyses can then be done to determine the causes behind the cancellations and diversions and to minimize their occurence. "
   ]
  },
  {
   "cell_type": "markdown",
   "metadata": {},
   "source": [
    "## *Simplifying the Data*"
   ]
  },
  {
   "cell_type": "markdown",
   "metadata": {},
   "source": [
    "As can be seen from the above printed output of hflights, there are 20 different variables in this dataset (the first variable is simply the index number). Not all of this data is necessary in order to properly answer the research questions outlined above. Therefore, it is proper to transform this dataset into a more usable format."
   ]
  },
  {
   "cell_type": "markdown",
   "metadata": {},
   "source": [
    "### Taxiing Times"
   ]
  },
  {
   "cell_type": "markdown",
   "metadata": {},
   "source": [
    "For the first question, the TaxiIn and TaxiOut variables are essential to help determine the total taxiing time.\n",
    "\n",
    "For clarity's sake, a new dataframe will be created that will only have the aforementioned variables. These variables will be stored in the dataframe called taxi_hflights."
   ]
  },
  {
   "cell_type": "code",
   "execution_count": 54,
   "metadata": {},
   "outputs": [
    {
     "name": "stdout",
     "output_type": "stream",
     "text": [
      "       TaxiIn  TaxiOut\n",
      "0         7.0     13.0\n",
      "1         6.0      9.0\n",
      "2         5.0     17.0\n",
      "3         9.0     22.0\n",
      "4         9.0      9.0\n",
      "...       ...      ...\n",
      "19995     5.0     30.0\n",
      "19996     5.0     12.0\n",
      "19997    17.0     14.0\n",
      "19998     6.0     15.0\n",
      "19999    13.0     22.0\n",
      "\n",
      "[20000 rows x 2 columns]\n"
     ]
    }
   ],
   "source": [
    "# Create dataframe only containing rows necessary to answer research question and store in taxi_hflights\n",
    "taxi_hflights = pd.DataFrame(hflights[['TaxiIn', 'TaxiOut']])\n",
    "\n",
    "# Print taxi_hflights\n",
    "print(taxi_hflights)"
   ]
  },
  {
   "cell_type": "markdown",
   "metadata": {},
   "source": [
    "### Delays"
   ]
  },
  {
   "cell_type": "markdown",
   "metadata": {},
   "source": [
    "For the second question, the ArrDelay, DepDelay, and Origin variables are necessary to determine the average delays at each airport.\n",
    "\n",
    "Again, for clarity's sake, a new dataframe will be created that will only contain the aforementioned variables. This dataframe will be called delay_hflights."
   ]
  },
  {
   "cell_type": "code",
   "execution_count": 75,
   "metadata": {},
   "outputs": [
    {
     "name": "stdout",
     "output_type": "stream",
     "text": [
      "       ArrDelay  DepDelay Origin\n",
      "0         -10.0       0.0    IAH\n",
      "1          -9.0       1.0    IAH\n",
      "2          -8.0      -8.0    IAH\n",
      "3           3.0       3.0    IAH\n",
      "4          -3.0       5.0    IAH\n",
      "...         ...       ...    ...\n",
      "19995       8.0      -4.0    IAH\n",
      "19996       0.0      11.0    IAH\n",
      "19997     -17.0      -3.0    IAH\n",
      "19998     -10.0      12.0    IAH\n",
      "19999      -3.0       5.0    IAH\n",
      "\n",
      "[20000 rows x 3 columns]\n"
     ]
    }
   ],
   "source": [
    "# Create dataframe only containing rows necessary to answer research question and store in delay_hflights\n",
    "delay_hflights = pd.DataFrame(hflights[['ArrDelay', 'DepDelay', 'Origin']])\n",
    "\n",
    "# Print delay_hflights\n",
    "print(delay_hflights)"
   ]
  },
  {
   "cell_type": "markdown",
   "metadata": {},
   "source": [
    "### Cancellations and Diversions"
   ]
  },
  {
   "cell_type": "markdown",
   "metadata": {},
   "source": [
    "For the third question, the necessary variables are Dest, Cancelled, and Diverted. These variables will help determine which flights are cancelled / diverted, what their destination is, and how frequently these instances occur.\n",
    "\n",
    "Once again, for clarity's sake, a new dataframe will be created that will only contain these three variables. This dataframe will be called cd_hflights."
   ]
  },
  {
   "cell_type": "code",
   "execution_count": 13,
   "metadata": {},
   "outputs": [
    {
     "name": "stdout",
     "output_type": "stream",
     "text": [
      "      Dest  Cancelled  Diverted\n",
      "0      DFW          0         0\n",
      "1      DFW          0         0\n",
      "2      DFW          0         0\n",
      "3      DFW          0         0\n",
      "4      DFW          0         0\n",
      "...    ...        ...       ...\n",
      "19995  MTJ          0         0\n",
      "19996  ONT          0         0\n",
      "19997  ORD          0         0\n",
      "19998  FLL          0         0\n",
      "19999  ATL          0         0\n",
      "\n",
      "[20000 rows x 3 columns]\n"
     ]
    }
   ],
   "source": [
    "# Create dataframe only containing rows necessary to answer research question and store in cd_hflights\n",
    "cd_hflights = pd.DataFrame(hflights[['Dest', 'Cancelled', 'Diverted']])\n",
    "\n",
    "# Print cd_hflights\n",
    "print(cd_hflights)"
   ]
  },
  {
   "cell_type": "markdown",
   "metadata": {},
   "source": [
    "## *Analyzing the Data*"
   ]
  },
  {
   "cell_type": "markdown",
   "metadata": {},
   "source": [
    "The next step is to analyze each dataframe in the context of its respective research question."
   ]
  },
  {
   "cell_type": "markdown",
   "metadata": {},
   "source": [
    "### Taxiing Times"
   ]
  },
  {
   "cell_type": "markdown",
   "metadata": {},
   "source": [
    "The first research question tackles the issue of taxiing times. In order to calculate which flights have unneccesarily long taxiing times, the mean and standard deviation need to be determined. These statistics are outlined below."
   ]
  },
  {
   "cell_type": "code",
   "execution_count": 55,
   "metadata": {},
   "outputs": [
    {
     "name": "stdout",
     "output_type": "stream",
     "text": [
      "The mean taxi in time is 6.076545583324902 minutes.\n",
      "\n",
      "The standard deviation of taxi in time is 4.0857318168538965 minutes.\n",
      "\n",
      "The mean taxi out time is 15.13432760364004 minutes.\n",
      "\n",
      "The standard deviation of taxi out time is 7.046055836736106 minutes.\n"
     ]
    }
   ],
   "source": [
    "# MEAN TAXI IN\n",
    "# Calculating the mean time it takes for a plane to taxi in and storing it in mean_taxi_in\n",
    "mean_taxi_in = taxi_hflights['TaxiIn'].describe()['mean']\n",
    "\n",
    "# Printing mean_taxi_in in sentence form\n",
    "print('The mean taxi in time is', mean_taxi_in, 'minutes.')\n",
    "\n",
    "# Printing a blank line in between the previous sentence and the next sentence\n",
    "print('')\n",
    "\n",
    "\n",
    "\n",
    "# STD TAXI IN\n",
    "# Calculating the standard deviation of the time it takes for a plane to taxi in and storing it in std_taxi_in\n",
    "std_taxi_in = taxi_hflights['TaxiIn'].describe()['std']\n",
    "\n",
    "# Printing std_taxi_in in sentence form\n",
    "print('The standard deviation of taxi in time is', std_taxi_in, 'minutes.')\n",
    "print('')\n",
    "\n",
    "\n",
    "\n",
    "# MEAN TAXI OUT\n",
    "# Calculating the mean time it takes for a plane to taxi out and storing it in mean_taxi_out\n",
    "mean_taxi_out = taxi_hflights['TaxiOut'].describe()['mean']\n",
    "\n",
    "# Printing mean_taxi_out in sentence form\n",
    "print('The mean taxi out time is', mean_taxi_out, 'minutes.')\n",
    "print('')\n",
    "\n",
    "\n",
    "\n",
    "# STD TAXI OUT\n",
    "# Calculating the standard deviation of the time it takes for a plane to taxi out and storing it in std_taxi_out\n",
    "std_taxi_out = taxi_hflights['TaxiOut'].describe()['std']\n",
    "\n",
    "# Printing std_taxi_out in sentence form\n",
    "print('The standard deviation of taxi out time is', std_taxi_out, 'minutes.')"
   ]
  },
  {
   "cell_type": "markdown",
   "metadata": {},
   "source": [
    "It is generally accepted that outliers fall outside of two standard deviations of the mean. Therefore, two standard deviations should be added to each mean value."
   ]
  },
  {
   "cell_type": "code",
   "execution_count": 56,
   "metadata": {},
   "outputs": [
    {
     "name": "stdout",
     "output_type": "stream",
     "text": [
      "The longest expected taxiing in time is 14.248009217032696 minutes.\n",
      "\n",
      "The longest expected taxiing out time is 29.226439277112252 minutes.\n"
     ]
    }
   ],
   "source": [
    "# TAXIING IN\n",
    "# Adding two standard deviations to the mean time it takes to taxi in and storing it in longest_taxi_in\n",
    "longest_taxi_in = mean_taxi_in + std_taxi_in + std_taxi_in\n",
    "\n",
    "# Printing longest_taxi_in in sentence form\n",
    "print('The longest expected taxiing in time is', longest_taxi_in, 'minutes.')\n",
    "print('')\n",
    "\n",
    "\n",
    "# TAXIING OUT\n",
    "# Adding two standard deviations to the mean time it take to taxi out and storing it in longest_taxi_out\n",
    "longest_taxi_out = mean_taxi_out + std_taxi_out + std_taxi_out\n",
    "\n",
    "# Printing longest_taxi_out in sentence form\n",
    "print('The longest expected taxiing out time is', longest_taxi_out, 'minutes.')"
   ]
  },
  {
   "cell_type": "markdown",
   "metadata": {},
   "source": [
    "Now, the flights which took longer than the above expected taxiing times to taxi in and out will be sliced from the taxi_hflights dataframe."
   ]
  },
  {
   "cell_type": "code",
   "execution_count": 60,
   "metadata": {},
   "outputs": [
    {
     "name": "stdout",
     "output_type": "stream",
     "text": [
      "       TaxiIn  TaxiOut\n",
      "33       21.0     10.0\n",
      "37       24.0     10.0\n",
      "43       16.0     14.0\n",
      "44       15.0     11.0\n",
      "52       18.0      7.0\n",
      "...       ...      ...\n",
      "19969     6.0     30.0\n",
      "19980     5.0     31.0\n",
      "19982    22.0     13.0\n",
      "19995     5.0     30.0\n",
      "19997    17.0     14.0\n",
      "\n",
      "[1322 rows x 2 columns]\n",
      "\n",
      "There are 1322 flights that are above either the expected taxiing in time or the expected taxiing out time.\n",
      "\n",
      "This is 3.305 % of all the given flights.\n"
     ]
    }
   ],
   "source": [
    "# Slicing the taxi_hflights dataframe to find all occurances of longer than expected taxiing times and storing it in longest_taxi\n",
    "longest_taxi = taxi_hflights[(taxi_hflights.TaxiIn > longest_taxi_in) | (taxi_hflights.TaxiOut > longest_taxi_out)]\n",
    "\n",
    "# Printing longest_taxi\n",
    "print(longest_taxi)\n",
    "print('')\n",
    "\n",
    "\n",
    "# Calculating the amount of observations in longest_taxi and storing it in longest_taxi_size\n",
    "longest_taxi_size = longest_taxi.size / 2\n",
    "\n",
    "# Printing longest_taxi_size in sentence form\n",
    "print('There are', int(longest_taxi_size), 'flights that are above either the expected taxiing in time or the expected taxiing out time.')\n",
    "print('')\n",
    "\n",
    "\n",
    "# Calculating the percentage of flights that have a longer than expected taxiing time and storing it in longest_taxi_percent\n",
    "longest_taxi_percent = (longest_taxi_size / taxi_hflights.size) * 100\n",
    "\n",
    "# Printing longest_taxi_percent in sentence form\n",
    "print('This is', longest_taxi_percent, '% of all the given flights.')"
   ]
  },
  {
   "cell_type": "markdown",
   "metadata": {},
   "source": [
    "Only 3.305% of the flights in our data set taxi for longer than we would expect them to."
   ]
  },
  {
   "cell_type": "markdown",
   "metadata": {},
   "source": [
    "### Delays"
   ]
  },
  {
   "cell_type": "markdown",
   "metadata": {},
   "source": [
    "The second research question discusses arrival and departure delays. The goal is to calculate the average delays at each airport and to see if one airport is worse than the other.\n",
    "\n",
    "Calculating the mean is the best way to determine the average delays."
   ]
  },
  {
   "cell_type": "code",
   "execution_count": 85,
   "metadata": {},
   "outputs": [
    {
     "name": "stdout",
     "output_type": "stream",
     "text": [
      "The average arrival delay from IAH was 4.389104053705138 minutes.\n",
      "\n",
      "The average departure delay from IAH was 6.886757226549926 minutes.\n",
      "\n",
      "The average arrival delay from HOU was 8.183466792275082 minutes.\n",
      "\n",
      "The average departure delay from HOU was 13.452022577610537 minutes.\n"
     ]
    }
   ],
   "source": [
    "# IAH ARRIVALS\n",
    "# Creating a dataframe from the delay_hflights dataframe where all flights have an origin of IAH and storing it in d_iah_hflights\n",
    "d_iah_hflights = delay_hflights[(delay_hflights['Origin'] == 'IAH')]\n",
    "\n",
    "# Printing the average arrival delay in sentence form\n",
    "print('The average arrival delay from IAH was', d_iaharrival_hflights['ArrDelay'].describe()['mean'], 'minutes.')\n",
    "print('')\n",
    "\n",
    "\n",
    "# IAH DEPARTURES\n",
    "# Printing the average departure delay in sentence form\n",
    "print('The average departure delay from IAH was', d_iah_hflights['DepDelay'].describe()['mean'], 'minutes.')\n",
    "print('')\n",
    "\n",
    "\n",
    "# HOU ARRIVALS\n",
    "# Creating a dataframe from the delay_hflights dataframe where all flights have an origin of HOU and storing it in d_hou_hflights\n",
    "d_hou_hflights = delay_hflights[(delay_hflights['Origin'] == 'HOU')]\n",
    "\n",
    "# Printing the average arrival delays in sentence form\n",
    "print('The average arrival delay from HOU was', d_hou_hflights['ArrDelay'].describe()['mean'], 'minutes.')\n",
    "print('')\n",
    "\n",
    "\n",
    "# HOU DEPARTURES\n",
    "# Printing the average departure delays in sentence form\n",
    "print('The average departure delay from HOU was', d_hou_hflights['DepDelay'].describe()['mean'], 'minutes.')"
   ]
  },
  {
   "cell_type": "markdown",
   "metadata": {},
   "source": [
    "As we can observe, HOU's average arrival delay time and average deparature delay time are about double those of IAH."
   ]
  },
  {
   "cell_type": "markdown",
   "metadata": {},
   "source": [
    "### Cancellations and Diversions"
   ]
  },
  {
   "cell_type": "markdown",
   "metadata": {},
   "source": [
    "The third research question is trying to determine which flights are more or less likely to be cancelled or diverted based on their destination. In the cd_hflights dataframe, a 1 in the \"Cancelled\" column means that the flight was cancelled, while a 0 in that column means it wasn't cancelled. Similary, a 1 in the \"Diverted\" column means that the flight was diverted, while a 0 in that column means it wasn't diverted."
   ]
  },
  {
   "cell_type": "markdown",
   "metadata": {},
   "source": [
    "First, destinations and the frequency of which they have cancelled flights are shown below."
   ]
  },
  {
   "cell_type": "code",
   "execution_count": 99,
   "metadata": {},
   "outputs": [
    {
     "name": "stdout",
     "output_type": "stream",
     "text": [
      "ATL    41\n",
      "DAL    25\n",
      "DFW    20\n",
      "CLT    14\n",
      "EWR    13\n",
      "LGA    11\n",
      "DCA     8\n",
      "JFK     6\n",
      "BOS     5\n",
      "TUL     5\n",
      "IAD     5\n",
      "JAN     5\n",
      "MEM     4\n",
      "OKC     4\n",
      "BHM     4\n",
      "PHL     4\n",
      "ICT     3\n",
      "BWI     3\n",
      "DTW     3\n",
      "LIT     3\n",
      "STL     3\n",
      "ORD     3\n",
      "IND     2\n",
      "GSP     2\n",
      "PNS     2\n",
      "ASE     2\n",
      "BRO     2\n",
      "HRL     2\n",
      "MSY     2\n",
      "LFT     2\n",
      "MOB     1\n",
      "MCO     1\n",
      "HNL     1\n",
      "PHX     1\n",
      "JAX     1\n",
      "LCH     1\n",
      "HSV     1\n",
      "MIA     1\n",
      "TUS     1\n",
      "BTR     1\n",
      "AVL     1\n",
      "MFE     1\n",
      "CVG     1\n",
      "LBB     1\n",
      "XNA     1\n",
      "RDU     1\n",
      "Name: Dest, dtype: int64\n"
     ]
    }
   ],
   "source": [
    "# Finding all the observations in cd_hflights where the flight is cancelled and storing it in cancelled_hflights\n",
    "cancelled_hflights = cd_hflights[(cd_hflights['Cancelled'] == 1)]\n",
    "\n",
    "# Calculating the frequency of each destination in cancelled_hflights and storing it in cancelled\n",
    "cancelled = cancelled_hflights['Dest'].value_counts()\n",
    "\n",
    "# Printing cancelled\n",
    "print(cancelled)"
   ]
  },
  {
   "cell_type": "markdown",
   "metadata": {},
   "source": [
    "The graph below illustrates the frequency of the cancelled flights."
   ]
  },
  {
   "cell_type": "code",
   "execution_count": 103,
   "metadata": {},
   "outputs": [
    {
     "data": {
      "text/plain": [
       "<matplotlib.axes._subplots.AxesSubplot at 0x7fbc53a35dc0>"
      ]
     },
     "execution_count": 103,
     "metadata": {},
     "output_type": "execute_result"
    },
    {
     "data": {
      "image/png": "[encoded data removed]",
      "text/plain": [
       "<Figure size 432x288 with 1 Axes>"
      ]
     },
     "metadata": {
      "needs_background": "light"
     },
     "output_type": "display_data"
    }
   ],
   "source": [
    "# Creating a histogram of cancelled frequency\n",
    "cancelled.plot(kind = 'hist')"
   ]
  },
  {
   "cell_type": "markdown",
   "metadata": {},
   "source": [
    "The graph above illustrates the cancellation frequency for each destination. The x axis is the number of cancellations, and the y axis is how often that number of cancellations happens."
   ]
  },
  {
   "cell_type": "markdown",
   "metadata": {},
   "source": [
    "As shown above by the code and the graph, ATL (Hartsfield-Jackson Atlanta International Airport) as a destination has the most cancellations (41), followed by DAL (Dallas Love Field Airport) (25) and DFW (Dallas / Fort Worth International Airport) (20). It is interesting to note that two of these airports are in Texas itself (just like the origin airports), while the third is in a nearby southern state."
   ]
  },
  {
   "cell_type": "markdown",
   "metadata": {},
   "source": [
    "Next, all of the diverted flights and their destinations are shown below."
   ]
  },
  {
   "cell_type": "code",
   "execution_count": 101,
   "metadata": {},
   "outputs": [
    {
     "data": {
      "text/plain": [
       "MCI    2\n",
       "CLT    2\n",
       "MIA    2\n",
       "MKE    2\n",
       "ASE    2\n",
       "MSY    2\n",
       "TUL    1\n",
       "VPS    1\n",
       "PDX    1\n",
       "EWR    1\n",
       "SEA    1\n",
       "ECP    1\n",
       "GSP    1\n",
       "GUC    1\n",
       "BTR    1\n",
       "PHX    1\n",
       "ABQ    1\n",
       "BRO    1\n",
       "HRL    1\n",
       "HNL    1\n",
       "DAY    1\n",
       "SAN    1\n",
       "HDN    1\n",
       "DTW    1\n",
       "PNS    1\n",
       "AUS    1\n",
       "SAV    1\n",
       "SLC    1\n",
       "LGA    1\n",
       "PIT    1\n",
       "LAX    1\n",
       "JFK    1\n",
       "Name: Dest, dtype: int64"
      ]
     },
     "execution_count": 101,
     "metadata": {},
     "output_type": "execute_result"
    }
   ],
   "source": [
    "# Finding all the observations in cd_hflights where the flight is diverted and storing it in diverted_hflights\n",
    "diverted_hflights = cd_hflights[(cd_hflights['Diverted'] == 1)]\n",
    "\n",
    "# Printing the frequency of each destination in diverted_hflights\n",
    "diverted_hflights['Dest'].value_counts()"
   ]
  },
  {
   "cell_type": "markdown",
   "metadata": {},
   "source": [
    "As can be seen above, all destinations have roughly the same amount of diversions. Therefore, it's hard to identify an airport as being more diversion prone than another."
   ]
  },
  {
   "cell_type": "markdown",
   "metadata": {},
   "source": [
    "So, flights travelling to ATL, DAL, and DFW seem to be more prone to cancellations than other airport destinations, but no airport seems to be more prone to diversions."
   ]
  },
  {
   "cell_type": "markdown",
   "metadata": {},
   "source": [
    "## *Answering with Data*"
   ]
  },
  {
   "cell_type": "markdown",
   "metadata": {},
   "source": [
    "Now, with the above analyses, the original research questions can be answered."
   ]
  },
  {
   "cell_type": "markdown",
   "metadata": {},
   "source": [
    "### Taxiing Times"
   ]
  },
  {
   "cell_type": "markdown",
   "metadata": {},
   "source": [
    "1,322 flights, or 3.305% of the flights in the dataset, have a taxiing time that is two standard deviations or more longer than the average taxiing time. 3.305% is not significant enough to claim that either IAH or HOU are problem airports. Rather, it would seem that both airports do a fairly good job at taxiing."
   ]
  },
  {
   "cell_type": "markdown",
   "metadata": {},
   "source": [
    "### Delays"
   ]
  },
  {
   "cell_type": "markdown",
   "metadata": {},
   "source": [
    "Flights from HOU end up being delayed both on arrival and on departure for about twice as long as flights from IAH do. Further analyses need to be done to determine why the delays at HOU are significantly longer and how they can be minimized. This analysis simply identifies the problem."
   ]
  },
  {
   "cell_type": "markdown",
   "metadata": {},
   "source": [
    "### Cancellations and Diversions"
   ]
  },
  {
   "cell_type": "markdown",
   "metadata": {},
   "source": [
    "In terms of cancellations, certain destination airports (such as ATL, DAL, and DFW) tend to have more cancellations than others. Further analyses need to be done to determine why these destinations are having more cancellations and how these cancellations can be minimized. This analysis simply identifies the problem.\n",
    "\n",
    "In terms of diversions, there does not seem to be a destination airport that is more prone to diversions than the others. Most airports only have one diversion recorded, while some have two. Therefore, diversions should not be a problem that airlines focus on."
   ]
  },
  {
   "cell_type": "markdown",
   "metadata": {},
   "source": [
    "## *Conclusion*"
   ]
  },
  {
   "cell_type": "markdown",
   "metadata": {},
   "source": [
    "There are many problems that can tax airlines and their passengers. This analysis has identified delays at HOU and cancellations on flights heading to ATL, DAL, DFW, and others as problems airlines should tackle. Working on these problems could help increase customer trust and satisfaction. However, this analysis was done simply to identify the problems. Further analyses must be done to identify the causes behind the suggested problems and to locate more issues.\n",
    "\n",
    "It is also necessary to spell out the limitations of this analysis. This analysis was done on a small subset of 20,000 domestic flights departing from IAH and HOU from January 01, 2011 to February 25, 2011. It by no means covered all airports, all time periods, or all flights. Again, further analyses must be done to acheive a full picture and a broader understanding."
   ]
  }
 ],
 "metadata": {
  "kernelspec": {
   "display_name": "Python 3",
   "language": "python",
   "name": "python3"
  },
  "language_info": {
   "codemirror_mode": {
    "name": "ipython",
    "version": 3
   },
   "file_extension": ".py",
   "mimetype": "text/x-python",
   "name": "python",
   "nbconvert_exporter": "python",
   "pygments_lexer": "ipython3",
   "version": "3.8.3"
  }
 },
 "nbformat": 4,
 "nbformat_minor": 4
}
