{
 "cells": [
  {
   "cell_type": "markdown",
   "metadata": {},
   "source": [
    "# Benjamin Freund\n",
    "# W8 Assignment"
   ]
  },
  {
   "cell_type": "markdown",
   "metadata": {},
   "source": [
    "In order to properly perform this homework on regular expressions, we need to import the re library into our Python environment. Furthermore, the text given to me is inserted into the variable called text."
   ]
  },
  {
   "cell_type": "code",
   "execution_count": 37,
   "metadata": {},
   "outputs": [],
   "source": [
    "# Loading the re module\n",
    "import re\n",
    "\n",
    "# Inserting the given text into the variable text\n",
    "text = \"555-1239Moe Szyslak(636) 555-0113Burns, C. Montgomery555 -6542Rev. Timothy Lovejoy555 89 04Ned Flanders636-555-3226Simpson, Homer5553642Dr. Julius Hibbert\""
   ]
  },
  {
   "cell_type": "markdown",
   "metadata": {},
   "source": [
    "## *Question 1*"
   ]
  },
  {
   "cell_type": "markdown",
   "metadata": {},
   "source": [
    "The first question asks for us to extract the full names from text. To do this, the regular expression below is compiled using the re library. The bracketed a-zA-Z with the plus on the outside means to look for one or more alphabetic characters. The bracketed forward slash with the ., followed by the question mark means to optionally look for a period or a comma. The forward slash with the s+ means to look for one or more white spaces. Combining all of these gets the regex below. Then we use the findall function to find all of the places in text where that pattern is."
   ]
  },
  {
   "cell_type": "code",
   "execution_count": 70,
   "metadata": {},
   "outputs": [
    {
     "name": "stdout",
     "output_type": "stream",
     "text": [
      "['Moe Szyslak', 'Burns, C. Montgomery', 'Rev. Timothy Lovejoy', 'Ned Flanders', 'Simpson, Homer', 'Dr. Julius Hibbert']\n"
     ]
    }
   ],
   "source": [
    "# Compiling the regex to parse out the names and storing it in names\n",
    "names = re.compile('[a-zA-z]+[\\.,]?\\s+[a-zA-Z]+[\\.,]?[\\s+]?[a-zA-Z]+')\n",
    "\n",
    "# Applying the names regex to the text to find all names and storing it in ind_names\n",
    "ind_names = names.findall(text)\n",
    "\n",
    "# Printing ind_names\n",
    "print(ind_names)"
   ]
  },
  {
   "cell_type": "markdown",
   "metadata": {},
   "source": [
    "## *Question 2a*"
   ]
  },
  {
   "cell_type": "markdown",
   "metadata": {},
   "source": [
    "Question 2a asks us to rearrange the names using the proper first name last name format. To do that, the following regex is compiled. The r in front allows us to view this regular expression as a string, making the handling of backslashes easier. The parentheses are to show capture groups, which are referenced later in the re.sub function. The backslash followed by the W looks for any non-word characters. All other parts of this regex have been previously explained.\n",
    "\n",
    "Now that we stored the regex in regex, we use re.sub within a list comprehension to return a list of all of the names in their proper order. The for loop in the comprehension loops through the list and, using the capture groups to reference the order of the names, reorders any name that is not in the desired order. Returned is a list of the names in their proper order."
   ]
  },
  {
   "cell_type": "code",
   "execution_count": 131,
   "metadata": {},
   "outputs": [
    {
     "data": {
      "text/plain": [
       "['Moe Szyslak',\n",
       " 'C. Montgomery Burns',\n",
       " 'Rev. Timothy Lovejoy',\n",
       " 'Ned Flanders',\n",
       " 'Homer Simpson',\n",
       " 'Dr. Julius Hibbert']"
      ]
     },
     "execution_count": 131,
     "metadata": {},
     "output_type": "execute_result"
    }
   ],
   "source": [
    "# Creating the regex and storing it in regex\n",
    "regex = r\"([a-zA-Z]+), ([a-zA-Z\\.\\W]+)\"\n",
    "\n",
    "# Using a for loop in a list comprehension to reorder the names and storing them in proper_names\n",
    "proper_names = [re.sub(regex, r\"\\2 \\1\", x) for x in ind_names]\n",
    "\n",
    "# Displaying proper_names\n",
    "proper_names"
   ]
  },
  {
   "cell_type": "markdown",
   "metadata": {},
   "source": [
    "## *Question 2b*"
   ]
  },
  {
   "cell_type": "markdown",
   "metadata": {},
   "source": [
    "Question 2b asks us to return a logical vector showing whether or not a person has a title. To do this, we use the re.search function, surround it with the bool() function, and place it in a for loop within a list comprehension. The {2,} after the bracketed a-zA-Z tells us that there has to be two or more alphabetic characters, indicative of a title. All other parts of this regex have been previously explained.\n",
    "\n",
    "The for loop in the list comprehension loops through the list and, using the re.search function to identify the presence of a title, assigns a TRUE or FALSE value accordingly."
   ]
  },
  {
   "cell_type": "code",
   "execution_count": 159,
   "metadata": {},
   "outputs": [
    {
     "data": {
      "text/plain": [
       "[False, False, True, False, False, True]"
      ]
     },
     "execution_count": 159,
     "metadata": {},
     "output_type": "execute_result"
    }
   ],
   "source": [
    "# Looping through the list with re.search to locate titles and using bool() to assign TRUE/FALSE values\n",
    "[bool(re.search('[a-zA-Z]{2,}\\.', x)) for x in proper_names]"
   ]
  },
  {
   "cell_type": "markdown",
   "metadata": {},
   "source": [
    "## *Question 2c*"
   ]
  },
  {
   "cell_type": "markdown",
   "metadata": {},
   "source": [
    "Question 2c asks us to return a logical vector showing whether or not the person has a middle / second name. To do this, we use the re.search function, surround it with the bool() function, and place it in a for loop within a list comprehension. The ?: indicates that the regex within the parentheses is optional. The \\A indicates that the pattern must occur at the start of the string. All other parts of this regex have been previously explained.\n",
    "\n",
    "The for loop in the list comprehension loops through the list and, using the re.search function to identify the presence of a middle / second name, assigns a TRUE or FALSE value accordingly."
   ]
  },
  {
   "cell_type": "code",
   "execution_count": 168,
   "metadata": {},
   "outputs": [
    {
     "data": {
      "text/plain": [
       "[False, True, False, False, False, False]"
      ]
     },
     "execution_count": 168,
     "metadata": {},
     "output_type": "execute_result"
    }
   ],
   "source": [
    "# Looping through the list with re.search to locate middle/second names and using bool() to assing TRUE/FALSE values\n",
    "[bool(re.search('(?:\\A.{1}\\.)\\W.+\\W', x)) for x in proper_names]"
   ]
  },
  {
   "cell_type": "markdown",
   "metadata": {},
   "source": [
    "## *Question 3*"
   ]
  },
  {
   "cell_type": "markdown",
   "metadata": {},
   "source": [
    "We are given the HTML string in the code below and we want to extract the first title tag. The suggested solution to this problem is <.+>. This would not work, however, because this regex is greedy. The + in the regex tries to capture as many characters as possible. Therefore, when the aforementioned regex is run, it captures the opening caret, as many characters as possible, and the closing caret. This results in the whole string being captured. "
   ]
  },
  {
   "cell_type": "markdown",
   "metadata": {},
   "source": [
    "To solve this issue, we can add a ? after the +, to change the + quantifier from greedy to lazy. This means that the + will try to capture as few characters as possible. Therefore, the regex, captures the beginning caret, as few characters as possible, and the next available closing caret. Additionally, we add the \\A to indicate that the regex should only match the start of the string. This gives us the first title tag."
   ]
  },
  {
   "cell_type": "code",
   "execution_count": 117,
   "metadata": {},
   "outputs": [
    {
     "data": {
      "text/plain": [
       "['<title>+++BREAKING NEWS+++<title>']"
      ]
     },
     "execution_count": 117,
     "metadata": {},
     "output_type": "execute_result"
    }
   ],
   "source": [
    "## THIS IS THE WRONG ANSWER\n",
    "\n",
    "# Storing the given text in html\n",
    "html = '<title>+++BREAKING NEWS+++<title>'\n",
    "\n",
    "# Compiling the regex to parse out the first title tag and storing it in title_tag\n",
    "title_tag = re.compile('<.+>')\n",
    "\n",
    "# Applying the title_tag regex to the text to find the first title tag and storing it in title\n",
    "title = title_tag.findall(html)\n",
    "\n",
    "# Printing title\n",
    "title"
   ]
  },
  {
   "cell_type": "code",
   "execution_count": 118,
   "metadata": {},
   "outputs": [
    {
     "data": {
      "text/plain": [
       "['<title>']"
      ]
     },
     "execution_count": 118,
     "metadata": {},
     "output_type": "execute_result"
    }
   ],
   "source": [
    "## THIS IS THE CORRECT ANSWER\n",
    "\n",
    "# Storing the given text in html\n",
    "html = '<title>+++BREAKING NEWS+++<title>'\n",
    "\n",
    "# Compiling the regex to parse out the first title tag and storing it in title_tag\n",
    "title_tag = re.compile('\\A<.+?>')\n",
    "\n",
    "# Applying the title_tag regex to the text to find the first title tag and storing it in title\n",
    "title = title_tag.findall(html)\n",
    "\n",
    "# Printing title\n",
    "title"
   ]
  },
  {
   "cell_type": "markdown",
   "metadata": {},
   "source": [
    "## *Question 4*"
   ]
  },
  {
   "cell_type": "markdown",
   "metadata": {},
   "source": [
    "We are given the binomial in the code below and we want to extract it in a string. The suggested solution to this problem is given below. However, this regex doesn't work for two reasons. First, the ^ normally indicates the start of a string. In order for it to be considered as a character it needs a \\ as an escape sequence. Second, there is no - in the original regex, and this - also needs a \\ escape sequence."
   ]
  },
  {
   "cell_type": "code",
   "execution_count": 110,
   "metadata": {},
   "outputs": [
    {
     "data": {
      "text/plain": [
       "['-', '^', '^', '-', '^']"
      ]
     },
     "execution_count": 110,
     "metadata": {},
     "output_type": "execute_result"
    }
   ],
   "source": [
    "## THIS IS THE WRONG ANSWER\n",
    "\n",
    "# Storing the given formula in binomial\n",
    "binomial = '(5-3)^2=5^2-2*5*3+3^2'\n",
    "\n",
    "# Compiling the regex to parse out the formula and storing it in bi_regex\n",
    "bi_regex = re.compile('[^0-9=+*()]+')\n",
    "\n",
    "# Applying the bi_regex regex to the formula to get the formula as a string and storing it in bino\n",
    "bino = bi_regex.findall(binomial)\n",
    "\n",
    "# Printing bino\n",
    "bino"
   ]
  },
  {
   "cell_type": "code",
   "execution_count": 116,
   "metadata": {},
   "outputs": [
    {
     "data": {
      "text/plain": [
       "['(5-3)^2=5^2-2*5*3+3^2']"
      ]
     },
     "execution_count": 116,
     "metadata": {},
     "output_type": "execute_result"
    }
   ],
   "source": [
    "## THIS IS THE CORRECT ANSWER\n",
    "\n",
    "# Storing the given formula in binomial\n",
    "binomial = '(5-3)^2=5^2-2*5*3+3^2'\n",
    "\n",
    "# Compiling the regex to parse out the formula and storing it in bi_regex\n",
    "bi_regex = re.compile('[\\^0-9=+\\-*()]+')\n",
    "\n",
    "# Applying the bi_regex regex to the formula to get the formula as a string and storing it in bino\n",
    "bino = bi_regex.findall(binomial)\n",
    "\n",
    "# Printing bino\n",
    "bino"
   ]
  }
 ],
 "metadata": {
  "kernelspec": {
   "display_name": "Python 3",
   "language": "python",
   "name": "python3"
  },
  "language_info": {
   "codemirror_mode": {
    "name": "ipython",
    "version": 3
   },
   "file_extension": ".py",
   "mimetype": "text/x-python",
   "name": "python",
   "nbconvert_exporter": "python",
   "pygments_lexer": "ipython3",
   "version": "3.8.3"
  }
 },
 "nbformat": 4,
 "nbformat_minor": 4
}
