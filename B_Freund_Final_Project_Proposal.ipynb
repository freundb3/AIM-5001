{
 "cells": [
  {
   "cell_type": "markdown",
   "metadata": {},
   "source": [
    "# Benjamin Freund\n",
    "# Final Project Proposal"
   ]
  },
  {
   "cell_type": "markdown",
   "metadata": {},
   "source": [
    "## *Introduction*"
   ]
  },
  {
   "cell_type": "markdown",
   "metadata": {},
   "source": [
    "Much of the news we receive today comes via electronic platforms. Social media, news websites, and other electronic channels have taken over the news cycle. This is terrific for those who want to hear the news instantaneously, as it allows for breaking news to arrive on one's laptop, phone, and other electronic device within seconds. However, this transition brings about bad news for newspapers.\n",
    "\n",
    "Newspaper companies rely on the circulation of and advertising within their newspapers to make money. The shift from paper to electronic means that less newspapers are circulating, less advertisements are being seen, and less profits are coming in. This would logically result in a decreased number of newspapers in circulation.\n",
    "\n",
    "This decrease doesn't prevent excellent writing and journalism, however. [Pulitzer Prizes](https://www.pulitzer.org/) are still consistently awarded throughout various fields in journalism, both electronic and print. Newspapers and other print publications are frequently recognized for their dedicated reporting.\n",
    "\n",
    "So what does the future of print journalism look like? Will newspaper circulation decline into oblivion? Will the work of Pulitzer Prize winners carry print journalism into the electronic age?\n",
    "\n",
    "In this project, I will attempt to tackle some of these questions."
   ]
  },
  {
   "cell_type": "markdown",
   "metadata": {},
   "source": [
    "## *Research Questions*"
   ]
  },
  {
   "cell_type": "markdown",
   "metadata": {},
   "source": [
    "To tackle this topic, I propose the following research questions."
   ]
  },
  {
   "cell_type": "markdown",
   "metadata": {},
   "source": [
    "### How has the number of Pulitzer Prize winners affected newspaper circulation?"
   ]
  },
  {
   "cell_type": "markdown",
   "metadata": {},
   "source": [
    "One of the prime accomplishments in modern print journalism is receiving a Pulitzer Prize. These awards indicate quality journalism, as receipients are often held to a higher standard of reporting. If a correlation can be established between the number of Pulitzer Prize winners a newspaper has and the circulation of said newspaper, companies could focus on quality of pieces as opposed to quantity of work. Companies could focus on creating more detailed, Pulitzer-quality work that would draw readers to their newspaper, consequently increasing profits."
   ]
  },
  {
   "cell_type": "markdown",
   "metadata": {},
   "source": [
    "### How have revenues from advertising and circulation changed over time?"
   ]
  },
  {
   "cell_type": "markdown",
   "metadata": {},
   "source": [
    "The two primary ways for print newspapers to obtain revenue is by advertising and circulation. If it can be observed that revenue via one of these methods increases or decreases over time, then newspaper companies can make the proper adjustments to focus their revenue efforts on one of these streams. This would help with the proper allocation of resources, such as employees, time, and financial efforts."
   ]
  },
  {
   "cell_type": "markdown",
   "metadata": {},
   "source": [
    "## *Data to be Used*"
   ]
  },
  {
   "cell_type": "markdown",
   "metadata": {},
   "source": [
    "I will primarily be using data from two different sources.\n",
    "\n",
    "The first is a [dataset](https://github.com/fivethirtyeight/data/blob/master/pulitzer/pulitzer-circulation-data.csv) from a [GitHub repository](https://github.com/fivethirtyeight/data) that [FiveThirtyEight](https://fivethirtyeight.com/) compiled. This dataset contains various newspapers, their daily circulation in 2004 and 2013, the change in daily circulation, and the Pulitzer Prize winners and finalists from 1990-2003, 2004-2014, and 1990-2014. This data can be directly read as a CSV and uploaded into my Python environment as a Pandas dataframe.\n",
    "\n",
    "The second is a [fact sheet](https://www.journalism.org/fact-sheet/newspapers/) from the [Pew Research Center](https://www.pewresearch.org/) about various newspaper trends. This article contains data on yearly circulation of daily newspapers, revenue of U.S. newspapers (broken down by advertising and circulation), employment, and more. This data can be scraped directly off the webpage and then uploaded into my Python environment."
   ]
  },
  {
   "cell_type": "markdown",
   "metadata": {},
   "source": [
    "## *Approach*"
   ]
  },
  {
   "cell_type": "markdown",
   "metadata": {},
   "source": [
    "The data sources I am proposing are diverse in nature and in scope. Consequently, they must be handled properly to ensure this analysis runs smoothly. Given that neither dataset is particularly large, I will be storing all of the datasets in Pandas dataframes within my Python environment.\n",
    "\n",
    "The first step is to do some data cleaning. This will include dealing with missing values, standardizing data formats, and more. These transformations will be performed based on necessity.\n",
    "\n",
    "Next, I plan to do some exploratory data analysis (EDA) on the data. My EDA will include basic statistical measures (such as mean, standard deviation, median, and quartile measures) for quantitatve data, as well as box plots and histograms.\n",
    "\n",
    "After the EDA, the next step is to tackle the research questions. I plan to produce bar graphs, correlation matrices, and possibly run a regression in an attempt to establish a correlation between circulation, Pulitzer Prizes, and revenue. These graphics and statisical analyses could show extreme, minimal, or no correlation between these three variables.\n",
    "\n",
    "Finally, I will attempt to draw conclusions as to the correlation between these three variables. The hope is that there is a significant correlation between at least two of the variables. With such a correlation, I can present my findings to newspaper companies and work with them to develop a best course of action."
   ]
  }
 ],
 "metadata": {
  "kernelspec": {
   "display_name": "Python 3",
   "language": "python",
   "name": "python3"
  },
  "language_info": {
   "codemirror_mode": {
    "name": "ipython",
    "version": 3
   },
   "file_extension": ".py",
   "mimetype": "text/x-python",
   "name": "python",
   "nbconvert_exporter": "python",
   "pygments_lexer": "ipython3",
   "version": "3.8.3"
  }
 },
 "nbformat": 4,
 "nbformat_minor": 4
}
