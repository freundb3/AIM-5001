{
 "cells": [
  {
   "cell_type": "markdown",
   "metadata": {},
   "source": [
    "# Benjamin Freund\n",
    "# Week 10 Assignment"
   ]
  },
  {
   "cell_type": "markdown",
   "metadata": {},
   "source": [
    "## Task 1"
   ]
  },
  {
   "cell_type": "markdown",
   "metadata": {},
   "source": [
    "The first task in this assignment required me to recreate a given dataset as a CSV and upload it to my GitHub repository. This copy had to have all of the same spacing as the original. The CSV was uploaded to my GitHub repository, and a link to the raw data can be found in the first code cell of the second task."
   ]
  },
  {
   "cell_type": "markdown",
   "metadata": {},
   "source": [
    "## Task 2"
   ]
  },
  {
   "cell_type": "markdown",
   "metadata": {},
   "source": [
    "The second task asked me to transform the data into a tidy dataset. This required many steps. First, I imported the Pandas library, read the CSV into the data variable, and displayed the data variable."
   ]
  },
  {
   "cell_type": "code",
   "execution_count": 1,
   "metadata": {},
   "outputs": [
    {
     "data": {
      "text/html": [
       "<div>\n",
       "<style scoped>\n",
       "    .dataframe tbody tr th:only-of-type {\n",
       "        vertical-align: middle;\n",
       "    }\n",
       "\n",
       "    .dataframe tbody tr th {\n",
       "        vertical-align: top;\n",
       "    }\n",
       "\n",
       "    .dataframe thead th {\n",
       "        text-align: right;\n",
       "    }\n",
       "</style>\n",
       "<table border=\"1\" class=\"dataframe\">\n",
       "  <thead>\n",
       "    <tr style=\"text-align: right;\">\n",
       "      <th></th>\n",
       "      <th>Unnamed: 0</th>\n",
       "      <th>Unnamed: 1</th>\n",
       "      <th>Los Angeles</th>\n",
       "      <th>Phoenix</th>\n",
       "      <th>San Diego</th>\n",
       "      <th>San Francisco</th>\n",
       "      <th>Seattle</th>\n",
       "    </tr>\n",
       "  </thead>\n",
       "  <tbody>\n",
       "    <tr>\n",
       "      <th>0</th>\n",
       "      <td>ALASKA</td>\n",
       "      <td>on time</td>\n",
       "      <td>497.0</td>\n",
       "      <td>221</td>\n",
       "      <td>212.0</td>\n",
       "      <td>503.0</td>\n",
       "      <td>1,841</td>\n",
       "    </tr>\n",
       "    <tr>\n",
       "      <th>1</th>\n",
       "      <td>NaN</td>\n",
       "      <td>delayed</td>\n",
       "      <td>62.0</td>\n",
       "      <td>12</td>\n",
       "      <td>20.0</td>\n",
       "      <td>102.0</td>\n",
       "      <td>305</td>\n",
       "    </tr>\n",
       "    <tr>\n",
       "      <th>2</th>\n",
       "      <td>NaN</td>\n",
       "      <td>NaN</td>\n",
       "      <td>NaN</td>\n",
       "      <td>NaN</td>\n",
       "      <td>NaN</td>\n",
       "      <td>NaN</td>\n",
       "      <td>NaN</td>\n",
       "    </tr>\n",
       "    <tr>\n",
       "      <th>3</th>\n",
       "      <td>AM WEST</td>\n",
       "      <td>on time</td>\n",
       "      <td>694.0</td>\n",
       "      <td>4,840</td>\n",
       "      <td>383.0</td>\n",
       "      <td>320.0</td>\n",
       "      <td>201</td>\n",
       "    </tr>\n",
       "    <tr>\n",
       "      <th>4</th>\n",
       "      <td>NaN</td>\n",
       "      <td>delayed</td>\n",
       "      <td>117.0</td>\n",
       "      <td>415</td>\n",
       "      <td>65.0</td>\n",
       "      <td>129.0</td>\n",
       "      <td>61</td>\n",
       "    </tr>\n",
       "  </tbody>\n",
       "</table>\n",
       "</div>"
      ],
      "text/plain": [
       "  Unnamed: 0 Unnamed: 1  Los Angeles Phoenix  San Diego  San Francisco Seattle\n",
       "0     ALASKA    on time        497.0     221      212.0          503.0   1,841\n",
       "1        NaN    delayed         62.0      12       20.0          102.0     305\n",
       "2        NaN        NaN          NaN     NaN        NaN            NaN     NaN\n",
       "3    AM WEST    on time        694.0   4,840      383.0          320.0     201\n",
       "4        NaN    delayed        117.0     415       65.0          129.0      61"
      ]
     },
     "execution_count": 1,
     "metadata": {},
     "output_type": "execute_result"
    }
   ],
   "source": [
    "# Importing the Pandas library\n",
    "import pandas as pd\n",
    "\n",
    "# Reading the CSV into the data variable\n",
    "data = pd.read_csv('https://raw.githubusercontent.com/freundb3/AIM-5001/master/B_Freund_Week_10_Data.csv')\n",
    "\n",
    "# Displaying data\n",
    "data"
   ]
  },
  {
   "cell_type": "markdown",
   "metadata": {},
   "source": [
    "As one can see, the initial dataset is very messy. There are lots of NaNs, unnamed columns, and variables as column names. Overall, this is not a tidy dataset.\n",
    "\n",
    "The first step to tidy this data is to rename the unnamed columns. I will call the first column Airline and the second Status."
   ]
  },
  {
   "cell_type": "code",
   "execution_count": 2,
   "metadata": {},
   "outputs": [
    {
     "data": {
      "text/html": [
       "<div>\n",
       "<style scoped>\n",
       "    .dataframe tbody tr th:only-of-type {\n",
       "        vertical-align: middle;\n",
       "    }\n",
       "\n",
       "    .dataframe tbody tr th {\n",
       "        vertical-align: top;\n",
       "    }\n",
       "\n",
       "    .dataframe thead th {\n",
       "        text-align: right;\n",
       "    }\n",
       "</style>\n",
       "<table border=\"1\" class=\"dataframe\">\n",
       "  <thead>\n",
       "    <tr style=\"text-align: right;\">\n",
       "      <th></th>\n",
       "      <th>Airline</th>\n",
       "      <th>Status</th>\n",
       "      <th>Los Angeles</th>\n",
       "      <th>Phoenix</th>\n",
       "      <th>San Diego</th>\n",
       "      <th>San Francisco</th>\n",
       "      <th>Seattle</th>\n",
       "    </tr>\n",
       "  </thead>\n",
       "  <tbody>\n",
       "    <tr>\n",
       "      <th>0</th>\n",
       "      <td>ALASKA</td>\n",
       "      <td>on time</td>\n",
       "      <td>497.0</td>\n",
       "      <td>221</td>\n",
       "      <td>212.0</td>\n",
       "      <td>503.0</td>\n",
       "      <td>1,841</td>\n",
       "    </tr>\n",
       "    <tr>\n",
       "      <th>1</th>\n",
       "      <td>NaN</td>\n",
       "      <td>delayed</td>\n",
       "      <td>62.0</td>\n",
       "      <td>12</td>\n",
       "      <td>20.0</td>\n",
       "      <td>102.0</td>\n",
       "      <td>305</td>\n",
       "    </tr>\n",
       "    <tr>\n",
       "      <th>2</th>\n",
       "      <td>NaN</td>\n",
       "      <td>NaN</td>\n",
       "      <td>NaN</td>\n",
       "      <td>NaN</td>\n",
       "      <td>NaN</td>\n",
       "      <td>NaN</td>\n",
       "      <td>NaN</td>\n",
       "    </tr>\n",
       "    <tr>\n",
       "      <th>3</th>\n",
       "      <td>AM WEST</td>\n",
       "      <td>on time</td>\n",
       "      <td>694.0</td>\n",
       "      <td>4,840</td>\n",
       "      <td>383.0</td>\n",
       "      <td>320.0</td>\n",
       "      <td>201</td>\n",
       "    </tr>\n",
       "    <tr>\n",
       "      <th>4</th>\n",
       "      <td>NaN</td>\n",
       "      <td>delayed</td>\n",
       "      <td>117.0</td>\n",
       "      <td>415</td>\n",
       "      <td>65.0</td>\n",
       "      <td>129.0</td>\n",
       "      <td>61</td>\n",
       "    </tr>\n",
       "  </tbody>\n",
       "</table>\n",
       "</div>"
      ],
      "text/plain": [
       "   Airline   Status  Los Angeles Phoenix  San Diego  San Francisco Seattle\n",
       "0   ALASKA  on time        497.0     221      212.0          503.0   1,841\n",
       "1      NaN  delayed         62.0      12       20.0          102.0     305\n",
       "2      NaN      NaN          NaN     NaN        NaN            NaN     NaN\n",
       "3  AM WEST  on time        694.0   4,840      383.0          320.0     201\n",
       "4      NaN  delayed        117.0     415       65.0          129.0      61"
      ]
     },
     "execution_count": 2,
     "metadata": {},
     "output_type": "execute_result"
    }
   ],
   "source": [
    "# Reassigning column names and storing the new dataset in new_columns\n",
    "new_columns = data.rename(columns = {'Unnamed: 0':'Airline', 'Unnamed: 1':'Status'})\n",
    "\n",
    "# Displaying new_columns\n",
    "new_columns"
   ]
  },
  {
   "cell_type": "markdown",
   "metadata": {},
   "source": [
    "Next, I will add in the missing values in the Airline column. I know from looking at the original dataset that the airline at index 1 should be ALASKA and the airline at index 2 should be AM WEST. I will add those values in accordingly."
   ]
  },
  {
   "cell_type": "code",
   "execution_count": 3,
   "metadata": {},
   "outputs": [
    {
     "data": {
      "text/html": [
       "<div>\n",
       "<style scoped>\n",
       "    .dataframe tbody tr th:only-of-type {\n",
       "        vertical-align: middle;\n",
       "    }\n",
       "\n",
       "    .dataframe tbody tr th {\n",
       "        vertical-align: top;\n",
       "    }\n",
       "\n",
       "    .dataframe thead th {\n",
       "        text-align: right;\n",
       "    }\n",
       "</style>\n",
       "<table border=\"1\" class=\"dataframe\">\n",
       "  <thead>\n",
       "    <tr style=\"text-align: right;\">\n",
       "      <th></th>\n",
       "      <th>Airline</th>\n",
       "      <th>Status</th>\n",
       "      <th>Los Angeles</th>\n",
       "      <th>Phoenix</th>\n",
       "      <th>San Diego</th>\n",
       "      <th>San Francisco</th>\n",
       "      <th>Seattle</th>\n",
       "    </tr>\n",
       "  </thead>\n",
       "  <tbody>\n",
       "    <tr>\n",
       "      <th>0</th>\n",
       "      <td>ALASKA</td>\n",
       "      <td>on time</td>\n",
       "      <td>497.0</td>\n",
       "      <td>221</td>\n",
       "      <td>212.0</td>\n",
       "      <td>503.0</td>\n",
       "      <td>1,841</td>\n",
       "    </tr>\n",
       "    <tr>\n",
       "      <th>1</th>\n",
       "      <td>ALASKA</td>\n",
       "      <td>delayed</td>\n",
       "      <td>62.0</td>\n",
       "      <td>12</td>\n",
       "      <td>20.0</td>\n",
       "      <td>102.0</td>\n",
       "      <td>305</td>\n",
       "    </tr>\n",
       "    <tr>\n",
       "      <th>2</th>\n",
       "      <td>NaN</td>\n",
       "      <td>NaN</td>\n",
       "      <td>NaN</td>\n",
       "      <td>NaN</td>\n",
       "      <td>NaN</td>\n",
       "      <td>NaN</td>\n",
       "      <td>NaN</td>\n",
       "    </tr>\n",
       "    <tr>\n",
       "      <th>3</th>\n",
       "      <td>AM WEST</td>\n",
       "      <td>on time</td>\n",
       "      <td>694.0</td>\n",
       "      <td>4,840</td>\n",
       "      <td>383.0</td>\n",
       "      <td>320.0</td>\n",
       "      <td>201</td>\n",
       "    </tr>\n",
       "    <tr>\n",
       "      <th>4</th>\n",
       "      <td>AM WEST</td>\n",
       "      <td>delayed</td>\n",
       "      <td>117.0</td>\n",
       "      <td>415</td>\n",
       "      <td>65.0</td>\n",
       "      <td>129.0</td>\n",
       "      <td>61</td>\n",
       "    </tr>\n",
       "  </tbody>\n",
       "</table>\n",
       "</div>"
      ],
      "text/plain": [
       "   Airline   Status  Los Angeles Phoenix  San Diego  San Francisco Seattle\n",
       "0   ALASKA  on time        497.0     221      212.0          503.0   1,841\n",
       "1   ALASKA  delayed         62.0      12       20.0          102.0     305\n",
       "2      NaN      NaN          NaN     NaN        NaN            NaN     NaN\n",
       "3  AM WEST  on time        694.0   4,840      383.0          320.0     201\n",
       "4  AM WEST  delayed        117.0     415       65.0          129.0      61"
      ]
     },
     "execution_count": 3,
     "metadata": {},
     "output_type": "execute_result"
    }
   ],
   "source": [
    "# Inserting the airline values at their appropriate positions\n",
    "new_columns.at[1, 'Airline'] = 'ALASKA'\n",
    "new_columns.at[4, 'Airline'] = 'AM WEST'\n",
    "\n",
    "# Displaying new_columns\n",
    "new_columns"
   ]
  },
  {
   "cell_type": "markdown",
   "metadata": {},
   "source": [
    "Now we have a row that is completely full of NaNs. This row was a blank row in the original dataset, so I can get rid of it now."
   ]
  },
  {
   "cell_type": "code",
   "execution_count": 4,
   "metadata": {},
   "outputs": [
    {
     "data": {
      "text/html": [
       "<div>\n",
       "<style scoped>\n",
       "    .dataframe tbody tr th:only-of-type {\n",
       "        vertical-align: middle;\n",
       "    }\n",
       "\n",
       "    .dataframe tbody tr th {\n",
       "        vertical-align: top;\n",
       "    }\n",
       "\n",
       "    .dataframe thead th {\n",
       "        text-align: right;\n",
       "    }\n",
       "</style>\n",
       "<table border=\"1\" class=\"dataframe\">\n",
       "  <thead>\n",
       "    <tr style=\"text-align: right;\">\n",
       "      <th></th>\n",
       "      <th>Airline</th>\n",
       "      <th>Status</th>\n",
       "      <th>Los Angeles</th>\n",
       "      <th>Phoenix</th>\n",
       "      <th>San Diego</th>\n",
       "      <th>San Francisco</th>\n",
       "      <th>Seattle</th>\n",
       "    </tr>\n",
       "  </thead>\n",
       "  <tbody>\n",
       "    <tr>\n",
       "      <th>0</th>\n",
       "      <td>ALASKA</td>\n",
       "      <td>on time</td>\n",
       "      <td>497.0</td>\n",
       "      <td>221</td>\n",
       "      <td>212.0</td>\n",
       "      <td>503.0</td>\n",
       "      <td>1,841</td>\n",
       "    </tr>\n",
       "    <tr>\n",
       "      <th>1</th>\n",
       "      <td>ALASKA</td>\n",
       "      <td>delayed</td>\n",
       "      <td>62.0</td>\n",
       "      <td>12</td>\n",
       "      <td>20.0</td>\n",
       "      <td>102.0</td>\n",
       "      <td>305</td>\n",
       "    </tr>\n",
       "    <tr>\n",
       "      <th>3</th>\n",
       "      <td>AM WEST</td>\n",
       "      <td>on time</td>\n",
       "      <td>694.0</td>\n",
       "      <td>4,840</td>\n",
       "      <td>383.0</td>\n",
       "      <td>320.0</td>\n",
       "      <td>201</td>\n",
       "    </tr>\n",
       "    <tr>\n",
       "      <th>4</th>\n",
       "      <td>AM WEST</td>\n",
       "      <td>delayed</td>\n",
       "      <td>117.0</td>\n",
       "      <td>415</td>\n",
       "      <td>65.0</td>\n",
       "      <td>129.0</td>\n",
       "      <td>61</td>\n",
       "    </tr>\n",
       "  </tbody>\n",
       "</table>\n",
       "</div>"
      ],
      "text/plain": [
       "   Airline   Status  Los Angeles Phoenix  San Diego  San Francisco Seattle\n",
       "0   ALASKA  on time        497.0     221      212.0          503.0   1,841\n",
       "1   ALASKA  delayed         62.0      12       20.0          102.0     305\n",
       "3  AM WEST  on time        694.0   4,840      383.0          320.0     201\n",
       "4  AM WEST  delayed        117.0     415       65.0          129.0      61"
      ]
     },
     "execution_count": 4,
     "metadata": {},
     "output_type": "execute_result"
    }
   ],
   "source": [
    "# Dropping the row with index 2 and storing the new dataset in new_rows\n",
    "new_rows = new_columns.drop(2)\n",
    "\n",
    "# Displaying new_rows\n",
    "new_rows"
   ]
  },
  {
   "cell_type": "markdown",
   "metadata": {},
   "source": [
    "This looks great initially, but, upon closer inspection, one can see that the index numbers did not reset (i.e. the 2 is simply missing). I now need to reset the index numbers."
   ]
  },
  {
   "cell_type": "code",
   "execution_count": 5,
   "metadata": {},
   "outputs": [
    {
     "data": {
      "text/html": [
       "<div>\n",
       "<style scoped>\n",
       "    .dataframe tbody tr th:only-of-type {\n",
       "        vertical-align: middle;\n",
       "    }\n",
       "\n",
       "    .dataframe tbody tr th {\n",
       "        vertical-align: top;\n",
       "    }\n",
       "\n",
       "    .dataframe thead th {\n",
       "        text-align: right;\n",
       "    }\n",
       "</style>\n",
       "<table border=\"1\" class=\"dataframe\">\n",
       "  <thead>\n",
       "    <tr style=\"text-align: right;\">\n",
       "      <th></th>\n",
       "      <th>Airline</th>\n",
       "      <th>Status</th>\n",
       "      <th>Los Angeles</th>\n",
       "      <th>Phoenix</th>\n",
       "      <th>San Diego</th>\n",
       "      <th>San Francisco</th>\n",
       "      <th>Seattle</th>\n",
       "    </tr>\n",
       "  </thead>\n",
       "  <tbody>\n",
       "    <tr>\n",
       "      <th>0</th>\n",
       "      <td>ALASKA</td>\n",
       "      <td>on time</td>\n",
       "      <td>497.0</td>\n",
       "      <td>221</td>\n",
       "      <td>212.0</td>\n",
       "      <td>503.0</td>\n",
       "      <td>1,841</td>\n",
       "    </tr>\n",
       "    <tr>\n",
       "      <th>1</th>\n",
       "      <td>ALASKA</td>\n",
       "      <td>delayed</td>\n",
       "      <td>62.0</td>\n",
       "      <td>12</td>\n",
       "      <td>20.0</td>\n",
       "      <td>102.0</td>\n",
       "      <td>305</td>\n",
       "    </tr>\n",
       "    <tr>\n",
       "      <th>2</th>\n",
       "      <td>AM WEST</td>\n",
       "      <td>on time</td>\n",
       "      <td>694.0</td>\n",
       "      <td>4,840</td>\n",
       "      <td>383.0</td>\n",
       "      <td>320.0</td>\n",
       "      <td>201</td>\n",
       "    </tr>\n",
       "    <tr>\n",
       "      <th>3</th>\n",
       "      <td>AM WEST</td>\n",
       "      <td>delayed</td>\n",
       "      <td>117.0</td>\n",
       "      <td>415</td>\n",
       "      <td>65.0</td>\n",
       "      <td>129.0</td>\n",
       "      <td>61</td>\n",
       "    </tr>\n",
       "  </tbody>\n",
       "</table>\n",
       "</div>"
      ],
      "text/plain": [
       "   Airline   Status  Los Angeles Phoenix  San Diego  San Francisco Seattle\n",
       "0   ALASKA  on time        497.0     221      212.0          503.0   1,841\n",
       "1   ALASKA  delayed         62.0      12       20.0          102.0     305\n",
       "2  AM WEST  on time        694.0   4,840      383.0          320.0     201\n",
       "3  AM WEST  delayed        117.0     415       65.0          129.0      61"
      ]
     },
     "execution_count": 5,
     "metadata": {},
     "output_type": "execute_result"
    }
   ],
   "source": [
    "# Resetting the index numbers and storing it in reset_index\n",
    "reset_index = new_rows.reset_index(drop = True)\n",
    "\n",
    "# Displaying reset_index\n",
    "reset_index"
   ]
  },
  {
   "cell_type": "markdown",
   "metadata": {},
   "source": [
    "Now, I need to pivot the dataset from wide format to long format. To do this, I need to use the melt function and specify the grouping columns, Airline and Status."
   ]
  },
  {
   "cell_type": "code",
   "execution_count": 6,
   "metadata": {},
   "outputs": [
    {
     "data": {
      "text/html": [
       "<div>\n",
       "<style scoped>\n",
       "    .dataframe tbody tr th:only-of-type {\n",
       "        vertical-align: middle;\n",
       "    }\n",
       "\n",
       "    .dataframe tbody tr th {\n",
       "        vertical-align: top;\n",
       "    }\n",
       "\n",
       "    .dataframe thead th {\n",
       "        text-align: right;\n",
       "    }\n",
       "</style>\n",
       "<table border=\"1\" class=\"dataframe\">\n",
       "  <thead>\n",
       "    <tr style=\"text-align: right;\">\n",
       "      <th></th>\n",
       "      <th>Airline</th>\n",
       "      <th>Status</th>\n",
       "      <th>variable</th>\n",
       "      <th>value</th>\n",
       "    </tr>\n",
       "  </thead>\n",
       "  <tbody>\n",
       "    <tr>\n",
       "      <th>0</th>\n",
       "      <td>ALASKA</td>\n",
       "      <td>on time</td>\n",
       "      <td>Los Angeles</td>\n",
       "      <td>497</td>\n",
       "    </tr>\n",
       "    <tr>\n",
       "      <th>1</th>\n",
       "      <td>ALASKA</td>\n",
       "      <td>delayed</td>\n",
       "      <td>Los Angeles</td>\n",
       "      <td>62</td>\n",
       "    </tr>\n",
       "    <tr>\n",
       "      <th>2</th>\n",
       "      <td>AM WEST</td>\n",
       "      <td>on time</td>\n",
       "      <td>Los Angeles</td>\n",
       "      <td>694</td>\n",
       "    </tr>\n",
       "    <tr>\n",
       "      <th>3</th>\n",
       "      <td>AM WEST</td>\n",
       "      <td>delayed</td>\n",
       "      <td>Los Angeles</td>\n",
       "      <td>117</td>\n",
       "    </tr>\n",
       "    <tr>\n",
       "      <th>4</th>\n",
       "      <td>ALASKA</td>\n",
       "      <td>on time</td>\n",
       "      <td>Phoenix</td>\n",
       "      <td>221</td>\n",
       "    </tr>\n",
       "    <tr>\n",
       "      <th>5</th>\n",
       "      <td>ALASKA</td>\n",
       "      <td>delayed</td>\n",
       "      <td>Phoenix</td>\n",
       "      <td>12</td>\n",
       "    </tr>\n",
       "    <tr>\n",
       "      <th>6</th>\n",
       "      <td>AM WEST</td>\n",
       "      <td>on time</td>\n",
       "      <td>Phoenix</td>\n",
       "      <td>4,840</td>\n",
       "    </tr>\n",
       "    <tr>\n",
       "      <th>7</th>\n",
       "      <td>AM WEST</td>\n",
       "      <td>delayed</td>\n",
       "      <td>Phoenix</td>\n",
       "      <td>415</td>\n",
       "    </tr>\n",
       "    <tr>\n",
       "      <th>8</th>\n",
       "      <td>ALASKA</td>\n",
       "      <td>on time</td>\n",
       "      <td>San Diego</td>\n",
       "      <td>212</td>\n",
       "    </tr>\n",
       "    <tr>\n",
       "      <th>9</th>\n",
       "      <td>ALASKA</td>\n",
       "      <td>delayed</td>\n",
       "      <td>San Diego</td>\n",
       "      <td>20</td>\n",
       "    </tr>\n",
       "    <tr>\n",
       "      <th>10</th>\n",
       "      <td>AM WEST</td>\n",
       "      <td>on time</td>\n",
       "      <td>San Diego</td>\n",
       "      <td>383</td>\n",
       "    </tr>\n",
       "    <tr>\n",
       "      <th>11</th>\n",
       "      <td>AM WEST</td>\n",
       "      <td>delayed</td>\n",
       "      <td>San Diego</td>\n",
       "      <td>65</td>\n",
       "    </tr>\n",
       "    <tr>\n",
       "      <th>12</th>\n",
       "      <td>ALASKA</td>\n",
       "      <td>on time</td>\n",
       "      <td>San Francisco</td>\n",
       "      <td>503</td>\n",
       "    </tr>\n",
       "    <tr>\n",
       "      <th>13</th>\n",
       "      <td>ALASKA</td>\n",
       "      <td>delayed</td>\n",
       "      <td>San Francisco</td>\n",
       "      <td>102</td>\n",
       "    </tr>\n",
       "    <tr>\n",
       "      <th>14</th>\n",
       "      <td>AM WEST</td>\n",
       "      <td>on time</td>\n",
       "      <td>San Francisco</td>\n",
       "      <td>320</td>\n",
       "    </tr>\n",
       "    <tr>\n",
       "      <th>15</th>\n",
       "      <td>AM WEST</td>\n",
       "      <td>delayed</td>\n",
       "      <td>San Francisco</td>\n",
       "      <td>129</td>\n",
       "    </tr>\n",
       "    <tr>\n",
       "      <th>16</th>\n",
       "      <td>ALASKA</td>\n",
       "      <td>on time</td>\n",
       "      <td>Seattle</td>\n",
       "      <td>1,841</td>\n",
       "    </tr>\n",
       "    <tr>\n",
       "      <th>17</th>\n",
       "      <td>ALASKA</td>\n",
       "      <td>delayed</td>\n",
       "      <td>Seattle</td>\n",
       "      <td>305</td>\n",
       "    </tr>\n",
       "    <tr>\n",
       "      <th>18</th>\n",
       "      <td>AM WEST</td>\n",
       "      <td>on time</td>\n",
       "      <td>Seattle</td>\n",
       "      <td>201</td>\n",
       "    </tr>\n",
       "    <tr>\n",
       "      <th>19</th>\n",
       "      <td>AM WEST</td>\n",
       "      <td>delayed</td>\n",
       "      <td>Seattle</td>\n",
       "      <td>61</td>\n",
       "    </tr>\n",
       "  </tbody>\n",
       "</table>\n",
       "</div>"
      ],
      "text/plain": [
       "    Airline   Status       variable  value\n",
       "0    ALASKA  on time    Los Angeles    497\n",
       "1    ALASKA  delayed    Los Angeles     62\n",
       "2   AM WEST  on time    Los Angeles    694\n",
       "3   AM WEST  delayed    Los Angeles    117\n",
       "4    ALASKA  on time        Phoenix    221\n",
       "5    ALASKA  delayed        Phoenix     12\n",
       "6   AM WEST  on time        Phoenix  4,840\n",
       "7   AM WEST  delayed        Phoenix    415\n",
       "8    ALASKA  on time      San Diego    212\n",
       "9    ALASKA  delayed      San Diego     20\n",
       "10  AM WEST  on time      San Diego    383\n",
       "11  AM WEST  delayed      San Diego     65\n",
       "12   ALASKA  on time  San Francisco    503\n",
       "13   ALASKA  delayed  San Francisco    102\n",
       "14  AM WEST  on time  San Francisco    320\n",
       "15  AM WEST  delayed  San Francisco    129\n",
       "16   ALASKA  on time        Seattle  1,841\n",
       "17   ALASKA  delayed        Seattle    305\n",
       "18  AM WEST  on time        Seattle    201\n",
       "19  AM WEST  delayed        Seattle     61"
      ]
     },
     "execution_count": 6,
     "metadata": {},
     "output_type": "execute_result"
    }
   ],
   "source": [
    "# Pivoting the dataset and saving it in reshaped\n",
    "reshaped = pd.melt(reset_index, id_vars = ['Airline', 'Status'])\n",
    "\n",
    "# Displaying reshaped\n",
    "reshaped"
   ]
  },
  {
   "cell_type": "markdown",
   "metadata": {},
   "source": [
    "Now the dataset is in long format, but the column names are still not correct. I will now change the variable column to Destination and the value column to Number of Flights."
   ]
  },
  {
   "cell_type": "code",
   "execution_count": 7,
   "metadata": {},
   "outputs": [
    {
     "data": {
      "text/html": [
       "<div>\n",
       "<style scoped>\n",
       "    .dataframe tbody tr th:only-of-type {\n",
       "        vertical-align: middle;\n",
       "    }\n",
       "\n",
       "    .dataframe tbody tr th {\n",
       "        vertical-align: top;\n",
       "    }\n",
       "\n",
       "    .dataframe thead th {\n",
       "        text-align: right;\n",
       "    }\n",
       "</style>\n",
       "<table border=\"1\" class=\"dataframe\">\n",
       "  <thead>\n",
       "    <tr style=\"text-align: right;\">\n",
       "      <th></th>\n",
       "      <th>Airline</th>\n",
       "      <th>Status</th>\n",
       "      <th>Destination</th>\n",
       "      <th>Number of Flights</th>\n",
       "    </tr>\n",
       "  </thead>\n",
       "  <tbody>\n",
       "    <tr>\n",
       "      <th>0</th>\n",
       "      <td>ALASKA</td>\n",
       "      <td>on time</td>\n",
       "      <td>Los Angeles</td>\n",
       "      <td>497</td>\n",
       "    </tr>\n",
       "    <tr>\n",
       "      <th>1</th>\n",
       "      <td>ALASKA</td>\n",
       "      <td>delayed</td>\n",
       "      <td>Los Angeles</td>\n",
       "      <td>62</td>\n",
       "    </tr>\n",
       "    <tr>\n",
       "      <th>2</th>\n",
       "      <td>AM WEST</td>\n",
       "      <td>on time</td>\n",
       "      <td>Los Angeles</td>\n",
       "      <td>694</td>\n",
       "    </tr>\n",
       "    <tr>\n",
       "      <th>3</th>\n",
       "      <td>AM WEST</td>\n",
       "      <td>delayed</td>\n",
       "      <td>Los Angeles</td>\n",
       "      <td>117</td>\n",
       "    </tr>\n",
       "    <tr>\n",
       "      <th>4</th>\n",
       "      <td>ALASKA</td>\n",
       "      <td>on time</td>\n",
       "      <td>Phoenix</td>\n",
       "      <td>221</td>\n",
       "    </tr>\n",
       "    <tr>\n",
       "      <th>5</th>\n",
       "      <td>ALASKA</td>\n",
       "      <td>delayed</td>\n",
       "      <td>Phoenix</td>\n",
       "      <td>12</td>\n",
       "    </tr>\n",
       "    <tr>\n",
       "      <th>6</th>\n",
       "      <td>AM WEST</td>\n",
       "      <td>on time</td>\n",
       "      <td>Phoenix</td>\n",
       "      <td>4,840</td>\n",
       "    </tr>\n",
       "    <tr>\n",
       "      <th>7</th>\n",
       "      <td>AM WEST</td>\n",
       "      <td>delayed</td>\n",
       "      <td>Phoenix</td>\n",
       "      <td>415</td>\n",
       "    </tr>\n",
       "    <tr>\n",
       "      <th>8</th>\n",
       "      <td>ALASKA</td>\n",
       "      <td>on time</td>\n",
       "      <td>San Diego</td>\n",
       "      <td>212</td>\n",
       "    </tr>\n",
       "    <tr>\n",
       "      <th>9</th>\n",
       "      <td>ALASKA</td>\n",
       "      <td>delayed</td>\n",
       "      <td>San Diego</td>\n",
       "      <td>20</td>\n",
       "    </tr>\n",
       "    <tr>\n",
       "      <th>10</th>\n",
       "      <td>AM WEST</td>\n",
       "      <td>on time</td>\n",
       "      <td>San Diego</td>\n",
       "      <td>383</td>\n",
       "    </tr>\n",
       "    <tr>\n",
       "      <th>11</th>\n",
       "      <td>AM WEST</td>\n",
       "      <td>delayed</td>\n",
       "      <td>San Diego</td>\n",
       "      <td>65</td>\n",
       "    </tr>\n",
       "    <tr>\n",
       "      <th>12</th>\n",
       "      <td>ALASKA</td>\n",
       "      <td>on time</td>\n",
       "      <td>San Francisco</td>\n",
       "      <td>503</td>\n",
       "    </tr>\n",
       "    <tr>\n",
       "      <th>13</th>\n",
       "      <td>ALASKA</td>\n",
       "      <td>delayed</td>\n",
       "      <td>San Francisco</td>\n",
       "      <td>102</td>\n",
       "    </tr>\n",
       "    <tr>\n",
       "      <th>14</th>\n",
       "      <td>AM WEST</td>\n",
       "      <td>on time</td>\n",
       "      <td>San Francisco</td>\n",
       "      <td>320</td>\n",
       "    </tr>\n",
       "    <tr>\n",
       "      <th>15</th>\n",
       "      <td>AM WEST</td>\n",
       "      <td>delayed</td>\n",
       "      <td>San Francisco</td>\n",
       "      <td>129</td>\n",
       "    </tr>\n",
       "    <tr>\n",
       "      <th>16</th>\n",
       "      <td>ALASKA</td>\n",
       "      <td>on time</td>\n",
       "      <td>Seattle</td>\n",
       "      <td>1,841</td>\n",
       "    </tr>\n",
       "    <tr>\n",
       "      <th>17</th>\n",
       "      <td>ALASKA</td>\n",
       "      <td>delayed</td>\n",
       "      <td>Seattle</td>\n",
       "      <td>305</td>\n",
       "    </tr>\n",
       "    <tr>\n",
       "      <th>18</th>\n",
       "      <td>AM WEST</td>\n",
       "      <td>on time</td>\n",
       "      <td>Seattle</td>\n",
       "      <td>201</td>\n",
       "    </tr>\n",
       "    <tr>\n",
       "      <th>19</th>\n",
       "      <td>AM WEST</td>\n",
       "      <td>delayed</td>\n",
       "      <td>Seattle</td>\n",
       "      <td>61</td>\n",
       "    </tr>\n",
       "  </tbody>\n",
       "</table>\n",
       "</div>"
      ],
      "text/plain": [
       "    Airline   Status    Destination Number of Flights\n",
       "0    ALASKA  on time    Los Angeles               497\n",
       "1    ALASKA  delayed    Los Angeles                62\n",
       "2   AM WEST  on time    Los Angeles               694\n",
       "3   AM WEST  delayed    Los Angeles               117\n",
       "4    ALASKA  on time        Phoenix               221\n",
       "5    ALASKA  delayed        Phoenix                12\n",
       "6   AM WEST  on time        Phoenix             4,840\n",
       "7   AM WEST  delayed        Phoenix               415\n",
       "8    ALASKA  on time      San Diego               212\n",
       "9    ALASKA  delayed      San Diego                20\n",
       "10  AM WEST  on time      San Diego               383\n",
       "11  AM WEST  delayed      San Diego                65\n",
       "12   ALASKA  on time  San Francisco               503\n",
       "13   ALASKA  delayed  San Francisco               102\n",
       "14  AM WEST  on time  San Francisco               320\n",
       "15  AM WEST  delayed  San Francisco               129\n",
       "16   ALASKA  on time        Seattle             1,841\n",
       "17   ALASKA  delayed        Seattle               305\n",
       "18  AM WEST  on time        Seattle               201\n",
       "19  AM WEST  delayed        Seattle                61"
      ]
     },
     "execution_count": 7,
     "metadata": {},
     "output_type": "execute_result"
    }
   ],
   "source": [
    "# Reassigning column names and storing the new dataset in reshaped_names\n",
    "reshaped_named = reshaped.rename(columns = {'variable':'Destination', 'value':'Number of Flights'})\n",
    "\n",
    "# Displaying reshaped_names\n",
    "reshaped_named"
   ]
  },
  {
   "cell_type": "markdown",
   "metadata": {},
   "source": [
    "Everything in the dataset is now correct. However, I want to get the dataset to be in a similar order as the original dataset. Therefore, I will order the dataset first by Airline, then by Status, and then by Destination."
   ]
  },
  {
   "cell_type": "code",
   "execution_count": 8,
   "metadata": {},
   "outputs": [
    {
     "data": {
      "text/html": [
       "<div>\n",
       "<style scoped>\n",
       "    .dataframe tbody tr th:only-of-type {\n",
       "        vertical-align: middle;\n",
       "    }\n",
       "\n",
       "    .dataframe tbody tr th {\n",
       "        vertical-align: top;\n",
       "    }\n",
       "\n",
       "    .dataframe thead th {\n",
       "        text-align: right;\n",
       "    }\n",
       "</style>\n",
       "<table border=\"1\" class=\"dataframe\">\n",
       "  <thead>\n",
       "    <tr style=\"text-align: right;\">\n",
       "      <th></th>\n",
       "      <th>Airline</th>\n",
       "      <th>Status</th>\n",
       "      <th>Destination</th>\n",
       "      <th>Number of Flights</th>\n",
       "    </tr>\n",
       "  </thead>\n",
       "  <tbody>\n",
       "    <tr>\n",
       "      <th>0</th>\n",
       "      <td>ALASKA</td>\n",
       "      <td>delayed</td>\n",
       "      <td>Los Angeles</td>\n",
       "      <td>62</td>\n",
       "    </tr>\n",
       "    <tr>\n",
       "      <th>1</th>\n",
       "      <td>ALASKA</td>\n",
       "      <td>delayed</td>\n",
       "      <td>Phoenix</td>\n",
       "      <td>12</td>\n",
       "    </tr>\n",
       "    <tr>\n",
       "      <th>2</th>\n",
       "      <td>ALASKA</td>\n",
       "      <td>delayed</td>\n",
       "      <td>San Diego</td>\n",
       "      <td>20</td>\n",
       "    </tr>\n",
       "    <tr>\n",
       "      <th>3</th>\n",
       "      <td>ALASKA</td>\n",
       "      <td>delayed</td>\n",
       "      <td>San Francisco</td>\n",
       "      <td>102</td>\n",
       "    </tr>\n",
       "    <tr>\n",
       "      <th>4</th>\n",
       "      <td>ALASKA</td>\n",
       "      <td>delayed</td>\n",
       "      <td>Seattle</td>\n",
       "      <td>305</td>\n",
       "    </tr>\n",
       "    <tr>\n",
       "      <th>5</th>\n",
       "      <td>ALASKA</td>\n",
       "      <td>on time</td>\n",
       "      <td>Los Angeles</td>\n",
       "      <td>497</td>\n",
       "    </tr>\n",
       "    <tr>\n",
       "      <th>6</th>\n",
       "      <td>ALASKA</td>\n",
       "      <td>on time</td>\n",
       "      <td>Phoenix</td>\n",
       "      <td>221</td>\n",
       "    </tr>\n",
       "    <tr>\n",
       "      <th>7</th>\n",
       "      <td>ALASKA</td>\n",
       "      <td>on time</td>\n",
       "      <td>San Diego</td>\n",
       "      <td>212</td>\n",
       "    </tr>\n",
       "    <tr>\n",
       "      <th>8</th>\n",
       "      <td>ALASKA</td>\n",
       "      <td>on time</td>\n",
       "      <td>San Francisco</td>\n",
       "      <td>503</td>\n",
       "    </tr>\n",
       "    <tr>\n",
       "      <th>9</th>\n",
       "      <td>ALASKA</td>\n",
       "      <td>on time</td>\n",
       "      <td>Seattle</td>\n",
       "      <td>1841</td>\n",
       "    </tr>\n",
       "    <tr>\n",
       "      <th>10</th>\n",
       "      <td>AM WEST</td>\n",
       "      <td>delayed</td>\n",
       "      <td>Los Angeles</td>\n",
       "      <td>117</td>\n",
       "    </tr>\n",
       "    <tr>\n",
       "      <th>11</th>\n",
       "      <td>AM WEST</td>\n",
       "      <td>delayed</td>\n",
       "      <td>Phoenix</td>\n",
       "      <td>415</td>\n",
       "    </tr>\n",
       "    <tr>\n",
       "      <th>12</th>\n",
       "      <td>AM WEST</td>\n",
       "      <td>delayed</td>\n",
       "      <td>San Diego</td>\n",
       "      <td>65</td>\n",
       "    </tr>\n",
       "    <tr>\n",
       "      <th>13</th>\n",
       "      <td>AM WEST</td>\n",
       "      <td>delayed</td>\n",
       "      <td>San Francisco</td>\n",
       "      <td>129</td>\n",
       "    </tr>\n",
       "    <tr>\n",
       "      <th>14</th>\n",
       "      <td>AM WEST</td>\n",
       "      <td>delayed</td>\n",
       "      <td>Seattle</td>\n",
       "      <td>61</td>\n",
       "    </tr>\n",
       "    <tr>\n",
       "      <th>15</th>\n",
       "      <td>AM WEST</td>\n",
       "      <td>on time</td>\n",
       "      <td>Los Angeles</td>\n",
       "      <td>694</td>\n",
       "    </tr>\n",
       "    <tr>\n",
       "      <th>16</th>\n",
       "      <td>AM WEST</td>\n",
       "      <td>on time</td>\n",
       "      <td>Phoenix</td>\n",
       "      <td>4840</td>\n",
       "    </tr>\n",
       "    <tr>\n",
       "      <th>17</th>\n",
       "      <td>AM WEST</td>\n",
       "      <td>on time</td>\n",
       "      <td>San Diego</td>\n",
       "      <td>383</td>\n",
       "    </tr>\n",
       "    <tr>\n",
       "      <th>18</th>\n",
       "      <td>AM WEST</td>\n",
       "      <td>on time</td>\n",
       "      <td>San Francisco</td>\n",
       "      <td>320</td>\n",
       "    </tr>\n",
       "    <tr>\n",
       "      <th>19</th>\n",
       "      <td>AM WEST</td>\n",
       "      <td>on time</td>\n",
       "      <td>Seattle</td>\n",
       "      <td>201</td>\n",
       "    </tr>\n",
       "  </tbody>\n",
       "</table>\n",
       "</div>"
      ],
      "text/plain": [
       "    Airline   Status    Destination  Number of Flights\n",
       "0    ALASKA  delayed    Los Angeles                 62\n",
       "1    ALASKA  delayed        Phoenix                 12\n",
       "2    ALASKA  delayed      San Diego                 20\n",
       "3    ALASKA  delayed  San Francisco                102\n",
       "4    ALASKA  delayed        Seattle                305\n",
       "5    ALASKA  on time    Los Angeles                497\n",
       "6    ALASKA  on time        Phoenix                221\n",
       "7    ALASKA  on time      San Diego                212\n",
       "8    ALASKA  on time  San Francisco                503\n",
       "9    ALASKA  on time        Seattle               1841\n",
       "10  AM WEST  delayed    Los Angeles                117\n",
       "11  AM WEST  delayed        Phoenix                415\n",
       "12  AM WEST  delayed      San Diego                 65\n",
       "13  AM WEST  delayed  San Francisco                129\n",
       "14  AM WEST  delayed        Seattle                 61\n",
       "15  AM WEST  on time    Los Angeles                694\n",
       "16  AM WEST  on time        Phoenix               4840\n",
       "17  AM WEST  on time      San Diego                383\n",
       "18  AM WEST  on time  San Francisco                320\n",
       "19  AM WEST  on time        Seattle                201"
      ]
     },
     "execution_count": 8,
     "metadata": {},
     "output_type": "execute_result"
    }
   ],
   "source": [
    "# Ordering the dataset by Airline, Status, and Destination and storing it in ordered\n",
    "ordered = reshaped_named.sort_values(['Airline', 'Status', 'Destination'])\n",
    "\n",
    "# Resetting the index numbers and storing it in ordered_indexed\n",
    "ordered_indexed = ordered.reset_index(drop = True)\n",
    "\n",
    "# Removing commas from entries with commas\n",
    "ordered_indexed['Number of Flights'][9] = 1841\n",
    "ordered_indexed['Number of Flights'][16] = 4840\n",
    "\n",
    "# Changing all of the values in the Number of Flights column to integers\n",
    "ordered_indexed['Number of Flights'] = ordered_indexed['Number of Flights'].astype(int)\n",
    "\n",
    "# Displaying ordered_indexed\n",
    "ordered_indexed"
   ]
  },
  {
   "cell_type": "markdown",
   "metadata": {},
   "source": [
    "The dataset has now been transformed into a tidy dataset."
   ]
  },
  {
   "cell_type": "markdown",
   "metadata": {},
   "source": [
    "## Task 3"
   ]
  },
  {
   "cell_type": "markdown",
   "metadata": {},
   "source": [
    "The next task is to answer the following two questions:\n",
    "\n",
    "1. For each city, which airline had the best on time performance?\n",
    "2. Which airline had the best overall on time performance?\n",
    "\n",
    "I will look at each question individually."
   ]
  },
  {
   "cell_type": "markdown",
   "metadata": {},
   "source": [
    "### For each city, which airline had the best on time performance?"
   ]
  },
  {
   "cell_type": "markdown",
   "metadata": {},
   "source": [
    "To answer this question, I need to calculate the total number of flights with each airline from each city, and then calculate (on time) / (total). The calculations are below."
   ]
  },
  {
   "cell_type": "markdown",
   "metadata": {},
   "source": [
    "#### Los Angeles"
   ]
  },
  {
   "cell_type": "code",
   "execution_count": 9,
   "metadata": {},
   "outputs": [
    {
     "data": {
      "text/plain": [
       "5    0.889088\n",
       "Name: Number of Flights, dtype: float64"
      ]
     },
     "execution_count": 9,
     "metadata": {},
     "output_type": "execute_result"
    }
   ],
   "source": [
    "# Getting all flights where the destination is LA and storing them in LA\n",
    "LA = ordered_indexed[ordered_indexed['Destination'] == 'Los Angeles']\n",
    "\n",
    "# Getting all flights where the destination is LA and the airline is Alaska and storing them in LA_Alaska\n",
    "LA_Alaska = LA[LA['Airline'] == 'ALASKA']\n",
    "\n",
    "# Getting the percentage of on time flights to LA on the Alaska airline\n",
    "(LA_Alaska[LA_Alaska['Status'] == 'on time']['Number of Flights'])/(sum(LA_Alaska['Number of Flights']))"
   ]
  },
  {
   "cell_type": "code",
   "execution_count": 10,
   "metadata": {},
   "outputs": [
    {
     "data": {
      "text/plain": [
       "15    0.855734\n",
       "Name: Number of Flights, dtype: float64"
      ]
     },
     "execution_count": 10,
     "metadata": {},
     "output_type": "execute_result"
    }
   ],
   "source": [
    "# Getting all flights where the destination is LA and the airline is AM West and storing them in LA_Amwest\n",
    "LA_Amwest = LA[LA['Airline'] == 'AM WEST']\n",
    "\n",
    "# Getting the percentage of on time flights to LA on the AM West airline\n",
    "(LA_Amwest[LA_Amwest['Status'] == 'on time']['Number of Flights'])/(sum(LA_Amwest['Number of Flights']))"
   ]
  },
  {
   "cell_type": "markdown",
   "metadata": {},
   "source": [
    "For Los Angeles, 88.91% of Alaska's flights were on time, while 85.57% of AM West's flights were on time. Therefore, Alaska had the best on time performance."
   ]
  },
  {
   "cell_type": "markdown",
   "metadata": {},
   "source": [
    "#### Phoenix"
   ]
  },
  {
   "cell_type": "code",
   "execution_count": 11,
   "metadata": {},
   "outputs": [
    {
     "data": {
      "text/plain": [
       "0.9484978540772532"
      ]
     },
     "execution_count": 11,
     "metadata": {},
     "output_type": "execute_result"
    }
   ],
   "source": [
    "# Getting all flights where the destination is Phoenix and storing them in phoenix\n",
    "phoenix = ordered_indexed[ordered_indexed['Destination'] == 'Phoenix']\n",
    "\n",
    "# Getting all flights where the destination is Phoenix and the airline is Alaska and storing them in phoenix_Alaska\n",
    "phoenix_Alaska = phoenix[phoenix['Airline'] == 'ALASKA']\n",
    "\n",
    "# Getting the percentage of on time flights to Phoenix on the Alaska airline\n",
    "(int(phoenix_Alaska[phoenix_Alaska['Status'] == 'on time']['Number of Flights']))/(sum((int(phoenix_Alaska['Number of Flights'][1]), int(phoenix_Alaska['Number of Flights'][6]))))"
   ]
  },
  {
   "cell_type": "code",
   "execution_count": 12,
   "metadata": {},
   "outputs": [
    {
     "data": {
      "text/plain": [
       "0.9210275927687916"
      ]
     },
     "execution_count": 12,
     "metadata": {},
     "output_type": "execute_result"
    }
   ],
   "source": [
    "# Getting all flights where the destination is Phoenix and the airline is AM West and storing them in phoenix_Amwest\n",
    "phoenix_Amwest = phoenix[phoenix['Airline'] == 'AM WEST']\n",
    "\n",
    "# Getting the percentage of on time flights to Phoenix on the AM West airline\n",
    "(int(phoenix_Amwest[phoenix_Amwest['Status'] == 'on time']['Number of Flights']))/(sum((int(phoenix_Amwest['Number of Flights'][11]), int(phoenix_Amwest['Number of Flights'][16]))))"
   ]
  },
  {
   "cell_type": "markdown",
   "metadata": {},
   "source": [
    "For Phoenix, 94.85% of Alaska's flights were on time, while 92.10% of AM West's flights were on time. Therefore, Alaska had the best on time performance."
   ]
  },
  {
   "cell_type": "markdown",
   "metadata": {},
   "source": [
    "#### San Diego"
   ]
  },
  {
   "cell_type": "code",
   "execution_count": 13,
   "metadata": {},
   "outputs": [
    {
     "data": {
      "text/plain": [
       "7    0.913793\n",
       "Name: Number of Flights, dtype: float64"
      ]
     },
     "execution_count": 13,
     "metadata": {},
     "output_type": "execute_result"
    }
   ],
   "source": [
    "# Getting all flights where the destination is SD and storing them in SD\n",
    "SD = ordered_indexed[ordered_indexed['Destination'] == 'San Diego']\n",
    "\n",
    "# Getting all flights where the destination is SD and the airline is Alaska and storing them in SD_Alaska\n",
    "SD_Alaska = SD[SD['Airline'] == 'ALASKA']\n",
    "\n",
    "# Getting the percentage of on time flights to SD on the Alaska airline\n",
    "(SD_Alaska[SD_Alaska['Status'] == 'on time']['Number of Flights'])/(sum(SD_Alaska['Number of Flights']))"
   ]
  },
  {
   "cell_type": "code",
   "execution_count": 14,
   "metadata": {},
   "outputs": [
    {
     "data": {
      "text/plain": [
       "17    0.854911\n",
       "Name: Number of Flights, dtype: float64"
      ]
     },
     "execution_count": 14,
     "metadata": {},
     "output_type": "execute_result"
    }
   ],
   "source": [
    "# Getting all flights where the destination is SD and the airline is AM West and storing them in SD_Amwest\n",
    "SD_Amwest = SD[SD['Airline'] == 'AM WEST']\n",
    "\n",
    "# Getting the percentage of on time flights to SD on the AM West airline\n",
    "(SD_Amwest[SD_Amwest['Status'] == 'on time']['Number of Flights'])/(sum(SD_Amwest['Number of Flights']))"
   ]
  },
  {
   "cell_type": "markdown",
   "metadata": {},
   "source": [
    "For San Diego, 91.38% of Alaska's flights were on time, while 85.49% of AM West's flights were on time. Therefore, Alaska had the best on time performance."
   ]
  },
  {
   "cell_type": "markdown",
   "metadata": {},
   "source": [
    "#### San Francisco"
   ]
  },
  {
   "cell_type": "code",
   "execution_count": 15,
   "metadata": {},
   "outputs": [
    {
     "data": {
      "text/plain": [
       "8    0.831405\n",
       "Name: Number of Flights, dtype: float64"
      ]
     },
     "execution_count": 15,
     "metadata": {},
     "output_type": "execute_result"
    }
   ],
   "source": [
    "# Getting all flights where the destination is SF and storing them in SF\n",
    "SF = ordered_indexed[ordered_indexed['Destination'] == 'San Francisco']\n",
    "\n",
    "# Getting all flights where the destination is SF and the airline is Alaska and storing them in SF_Alaska\n",
    "SF_Alaska = SF[SF['Airline'] == 'ALASKA']\n",
    "\n",
    "# Getting the percentage of on time flights to SF on the Alaska airline\n",
    "(SF_Alaska[SF_Alaska['Status'] == 'on time']['Number of Flights'])/(sum(SF_Alaska['Number of Flights']))"
   ]
  },
  {
   "cell_type": "code",
   "execution_count": 16,
   "metadata": {},
   "outputs": [
    {
     "data": {
      "text/plain": [
       "18    0.712695\n",
       "Name: Number of Flights, dtype: float64"
      ]
     },
     "execution_count": 16,
     "metadata": {},
     "output_type": "execute_result"
    }
   ],
   "source": [
    "# Getting all flights where the destination is SF and the airline is AM West and storing them in SF_Amwest\n",
    "SF_Amwest = SF[SF['Airline'] == 'AM WEST']\n",
    "\n",
    "# Getting the percentage of on time flights to SF on the AM West airline\n",
    "(SF_Amwest[SF_Amwest['Status'] == 'on time']['Number of Flights'])/(sum(SF_Amwest['Number of Flights']))"
   ]
  },
  {
   "cell_type": "markdown",
   "metadata": {},
   "source": [
    "For San Francisco, 83.14% of Alaska's flights were on time, while 71.27% of AM West's flights were on time. Therefore, Alaska had the best on time performance."
   ]
  },
  {
   "cell_type": "markdown",
   "metadata": {},
   "source": [
    "#### Seattle"
   ]
  },
  {
   "cell_type": "code",
   "execution_count": 17,
   "metadata": {},
   "outputs": [
    {
     "data": {
      "text/plain": [
       "0.8578751164958062"
      ]
     },
     "execution_count": 17,
     "metadata": {},
     "output_type": "execute_result"
    }
   ],
   "source": [
    "# Getting all flights where the destination is Seattle and storing them in seattle\n",
    "seattle = ordered_indexed[ordered_indexed['Destination'] == 'Seattle']\n",
    "\n",
    "# Getting all flights where the destination is Seattle and the airline is Alaska and storing them in seattle_Alaska\n",
    "seattle_Alaska = seattle[seattle['Airline'] == 'ALASKA']\n",
    "\n",
    "# Getting the percentage of on time flights to Seattle on the Alaska airline\n",
    "(int(seattle_Alaska[seattle_Alaska['Status'] == 'on time']['Number of Flights']))/(sum((int(seattle_Alaska['Number of Flights'][4]), int(seattle_Alaska['Number of Flights'][9]))))"
   ]
  },
  {
   "cell_type": "code",
   "execution_count": 18,
   "metadata": {},
   "outputs": [
    {
     "data": {
      "text/plain": [
       "0.767175572519084"
      ]
     },
     "execution_count": 18,
     "metadata": {},
     "output_type": "execute_result"
    }
   ],
   "source": [
    "# Getting all flights where the destination is Seattle and the airline is AM West and storing them in seattle_Amwest\n",
    "seattle_Amwest = seattle[seattle['Airline'] == 'AM WEST']\n",
    "\n",
    "# Getting the percentage of on time flights to Seattle on the AM West airline\n",
    "(int(seattle_Amwest[seattle_Amwest['Status'] == 'on time']['Number of Flights']))/(sum((int(seattle_Amwest['Number of Flights'][14]), int(seattle_Amwest['Number of Flights'][19]))))"
   ]
  },
  {
   "cell_type": "markdown",
   "metadata": {},
   "source": [
    "For Seattle, 85.79% of Alaska's flights were on time, while 76.72% of AM West's flights were on time. Therefore, Alaska had the best on time performance."
   ]
  },
  {
   "cell_type": "markdown",
   "metadata": {},
   "source": [
    "For every city, Alaska had the best on time performance."
   ]
  },
  {
   "cell_type": "markdown",
   "metadata": {},
   "source": [
    "### Which airline had the best overall on time performance?"
   ]
  },
  {
   "cell_type": "markdown",
   "metadata": {},
   "source": [
    "To answer this question, I need to calculate (on time) / (total) for each airline. The calculations are below."
   ]
  },
  {
   "cell_type": "code",
   "execution_count": 19,
   "metadata": {},
   "outputs": [
    {
     "data": {
      "text/plain": [
       "0.8672847682119206"
      ]
     },
     "execution_count": 19,
     "metadata": {},
     "output_type": "execute_result"
    }
   ],
   "source": [
    "# Getting all flights where the airline is Alaska and storing them in Alaska\n",
    "Alaska = ordered_indexed[ordered_indexed['Airline'] == 'ALASKA']\n",
    "\n",
    "# Getting all on time flights where the airline is Alaska and storing them in ontime_alaska\n",
    "ontime_alaska = Alaska[Alaska['Status'] == 'on time']\n",
    "\n",
    "# Getting the percentage of on time flights on the Alaska airline\n",
    "(ontime_alaska['Number of Flights'].sum())/(Alaska['Number of Flights'].sum())"
   ]
  },
  {
   "cell_type": "code",
   "execution_count": 20,
   "metadata": {},
   "outputs": [
    {
     "data": {
      "text/plain": [
       "0.8910726643598615"
      ]
     },
     "execution_count": 20,
     "metadata": {},
     "output_type": "execute_result"
    }
   ],
   "source": [
    "# Getting all flights where the airline is AM West and storing them in Amwest\n",
    "Amwest = ordered_indexed[ordered_indexed['Airline'] == 'AM WEST']\n",
    "\n",
    "# Getting all on time flights where the airline is AM West and storing them in ontime_amwest\n",
    "ontime_amwest = Amwest[Amwest['Status'] == 'on time']\n",
    "\n",
    "# Getting the percentage of on time flights on the AM West airline\n",
    "(ontime_amwest['Number of Flights'].sum())/(Amwest['Number of Flights'].sum())"
   ]
  },
  {
   "cell_type": "markdown",
   "metadata": {},
   "source": [
    "86.73% of Alaska's flights were on time, while 89.11% of AM West's flights were on time. Therefore, AM West had the best on time performance."
   ]
  },
  {
   "cell_type": "markdown",
   "metadata": {},
   "source": [
    "## Task 4"
   ]
  },
  {
   "cell_type": "markdown",
   "metadata": {},
   "source": [
    "The fourth task asks what changes I would make if I were to transform the dataset back from a long format to a wide format. It is important to note that I would not keep the original format. The original format makes it difficult to transform the dataset between wide and long formats, as evidenced in task 2.\n",
    "\n",
    "Rather, to return the dataset to a wide format, I would simply use the unstack function twice. The unstack function transforms a dataset from long format to wide format, while the stack function does the opposite. This will allow for easier future transitions between the two formats."
   ]
  },
  {
   "cell_type": "code",
   "execution_count": 21,
   "metadata": {},
   "outputs": [
    {
     "data": {
      "text/html": [
       "<div>\n",
       "<style scoped>\n",
       "    .dataframe tbody tr th:only-of-type {\n",
       "        vertical-align: middle;\n",
       "    }\n",
       "\n",
       "    .dataframe tbody tr th {\n",
       "        vertical-align: top;\n",
       "    }\n",
       "\n",
       "    .dataframe thead th {\n",
       "        text-align: right;\n",
       "    }\n",
       "</style>\n",
       "<table border=\"1\" class=\"dataframe\">\n",
       "  <thead>\n",
       "    <tr style=\"text-align: right;\">\n",
       "      <th></th>\n",
       "      <th>0</th>\n",
       "      <th>1</th>\n",
       "      <th>2</th>\n",
       "      <th>3</th>\n",
       "      <th>4</th>\n",
       "      <th>5</th>\n",
       "      <th>6</th>\n",
       "      <th>7</th>\n",
       "      <th>8</th>\n",
       "      <th>9</th>\n",
       "      <th>10</th>\n",
       "      <th>11</th>\n",
       "      <th>12</th>\n",
       "      <th>13</th>\n",
       "      <th>14</th>\n",
       "      <th>15</th>\n",
       "      <th>16</th>\n",
       "      <th>17</th>\n",
       "      <th>18</th>\n",
       "      <th>19</th>\n",
       "    </tr>\n",
       "  </thead>\n",
       "  <tbody>\n",
       "    <tr>\n",
       "      <th>Airline</th>\n",
       "      <td>ALASKA</td>\n",
       "      <td>ALASKA</td>\n",
       "      <td>ALASKA</td>\n",
       "      <td>ALASKA</td>\n",
       "      <td>ALASKA</td>\n",
       "      <td>ALASKA</td>\n",
       "      <td>ALASKA</td>\n",
       "      <td>ALASKA</td>\n",
       "      <td>ALASKA</td>\n",
       "      <td>ALASKA</td>\n",
       "      <td>AM WEST</td>\n",
       "      <td>AM WEST</td>\n",
       "      <td>AM WEST</td>\n",
       "      <td>AM WEST</td>\n",
       "      <td>AM WEST</td>\n",
       "      <td>AM WEST</td>\n",
       "      <td>AM WEST</td>\n",
       "      <td>AM WEST</td>\n",
       "      <td>AM WEST</td>\n",
       "      <td>AM WEST</td>\n",
       "    </tr>\n",
       "    <tr>\n",
       "      <th>Status</th>\n",
       "      <td>delayed</td>\n",
       "      <td>delayed</td>\n",
       "      <td>delayed</td>\n",
       "      <td>delayed</td>\n",
       "      <td>delayed</td>\n",
       "      <td>on time</td>\n",
       "      <td>on time</td>\n",
       "      <td>on time</td>\n",
       "      <td>on time</td>\n",
       "      <td>on time</td>\n",
       "      <td>delayed</td>\n",
       "      <td>delayed</td>\n",
       "      <td>delayed</td>\n",
       "      <td>delayed</td>\n",
       "      <td>delayed</td>\n",
       "      <td>on time</td>\n",
       "      <td>on time</td>\n",
       "      <td>on time</td>\n",
       "      <td>on time</td>\n",
       "      <td>on time</td>\n",
       "    </tr>\n",
       "    <tr>\n",
       "      <th>Destination</th>\n",
       "      <td>Los Angeles</td>\n",
       "      <td>Phoenix</td>\n",
       "      <td>San Diego</td>\n",
       "      <td>San Francisco</td>\n",
       "      <td>Seattle</td>\n",
       "      <td>Los Angeles</td>\n",
       "      <td>Phoenix</td>\n",
       "      <td>San Diego</td>\n",
       "      <td>San Francisco</td>\n",
       "      <td>Seattle</td>\n",
       "      <td>Los Angeles</td>\n",
       "      <td>Phoenix</td>\n",
       "      <td>San Diego</td>\n",
       "      <td>San Francisco</td>\n",
       "      <td>Seattle</td>\n",
       "      <td>Los Angeles</td>\n",
       "      <td>Phoenix</td>\n",
       "      <td>San Diego</td>\n",
       "      <td>San Francisco</td>\n",
       "      <td>Seattle</td>\n",
       "    </tr>\n",
       "    <tr>\n",
       "      <th>Number of Flights</th>\n",
       "      <td>62</td>\n",
       "      <td>12</td>\n",
       "      <td>20</td>\n",
       "      <td>102</td>\n",
       "      <td>305</td>\n",
       "      <td>497</td>\n",
       "      <td>221</td>\n",
       "      <td>212</td>\n",
       "      <td>503</td>\n",
       "      <td>1841</td>\n",
       "      <td>117</td>\n",
       "      <td>415</td>\n",
       "      <td>65</td>\n",
       "      <td>129</td>\n",
       "      <td>61</td>\n",
       "      <td>694</td>\n",
       "      <td>4840</td>\n",
       "      <td>383</td>\n",
       "      <td>320</td>\n",
       "      <td>201</td>\n",
       "    </tr>\n",
       "  </tbody>\n",
       "</table>\n",
       "</div>"
      ],
      "text/plain": [
       "                             0        1          2              3        4  \\\n",
       "Airline                 ALASKA   ALASKA     ALASKA         ALASKA   ALASKA   \n",
       "Status                 delayed  delayed    delayed        delayed  delayed   \n",
       "Destination        Los Angeles  Phoenix  San Diego  San Francisco  Seattle   \n",
       "Number of Flights           62       12         20            102      305   \n",
       "\n",
       "                             5        6          7              8        9  \\\n",
       "Airline                 ALASKA   ALASKA     ALASKA         ALASKA   ALASKA   \n",
       "Status                 on time  on time    on time        on time  on time   \n",
       "Destination        Los Angeles  Phoenix  San Diego  San Francisco  Seattle   \n",
       "Number of Flights          497      221        212            503     1841   \n",
       "\n",
       "                            10       11         12             13       14  \\\n",
       "Airline                AM WEST  AM WEST    AM WEST        AM WEST  AM WEST   \n",
       "Status                 delayed  delayed    delayed        delayed  delayed   \n",
       "Destination        Los Angeles  Phoenix  San Diego  San Francisco  Seattle   \n",
       "Number of Flights          117      415         65            129       61   \n",
       "\n",
       "                            15       16         17             18       19  \n",
       "Airline                AM WEST  AM WEST    AM WEST        AM WEST  AM WEST  \n",
       "Status                 on time  on time    on time        on time  on time  \n",
       "Destination        Los Angeles  Phoenix  San Diego  San Francisco  Seattle  \n",
       "Number of Flights          694     4840        383            320      201  "
      ]
     },
     "execution_count": 21,
     "metadata": {},
     "output_type": "execute_result"
    }
   ],
   "source": [
    "# Changing the dataframe from a long format to a wide format\n",
    "pd.DataFrame(ordered_indexed.unstack().unstack())"
   ]
  }
 ],
 "metadata": {
  "kernelspec": {
   "display_name": "Python 3",
   "language": "python",
   "name": "python3"
  },
  "language_info": {
   "codemirror_mode": {
    "name": "ipython",
    "version": 3
   },
   "file_extension": ".py",
   "mimetype": "text/x-python",
   "name": "python",
   "nbconvert_exporter": "python",
   "pygments_lexer": "ipython3",
   "version": "3.8.3"
  }
 },
 "nbformat": 4,
 "nbformat_minor": 4
}
