{
 "cells": [
  {
   "cell_type": "markdown",
   "metadata": {},
   "source": [
    "# Benjamin Freund\n",
    "# Project 2"
   ]
  },
  {
   "cell_type": "markdown",
   "metadata": {},
   "source": [
    "## *Introduction*"
   ]
  },
  {
   "cell_type": "markdown",
   "metadata": {},
   "source": [
    "\"Death doesn't discriminate between the sinners and the saints, it takes and it takes and it takes\" (*Wait for It* by Leslie Odom, Jr. and the cast of the Broadway musical *Hamilton*)."
   ]
  },
  {
   "cell_type": "markdown",
   "metadata": {},
   "source": [
    "Sadly, people are murdered every day in the United States of America. Thousands of lives are lost for what appears to be no good reason. The trend of murder must stop, and violence must be put to a halt."
   ]
  },
  {
   "cell_type": "markdown",
   "metadata": {},
   "source": [
    "I have chosen to work with murder data in the hopes of unveiling some insight or trend from which law enforcement, political officials, or other significant individuals can glean from. An excellent way to work on lowering the murder rate is to see if there are any commonalities amongst the murders that are happening. If commonalities arise, they can be tackled at their source, decreasing their presence and, hopefully, lowering the murder rate."
   ]
  },
  {
   "cell_type": "markdown",
   "metadata": {},
   "source": [
    "My research question is simple: Is there any correlation between a city's geographic location and the number of murders they record? To this end, I will be analyzing the cities in which the most and least murders occur, the cities with the highest increases and decreases in murder count, and the cities' geographic location in relation to each other."
   ]
  },
  {
   "cell_type": "markdown",
   "metadata": {},
   "source": [
    "## *Data Summary*"
   ]
  },
  {
   "cell_type": "markdown",
   "metadata": {},
   "source": [
    "The data I have chosen to work with is from a [GitHub repository](https://raw.githubusercontent.com/fivethirtyeight/data/master/murder_2016/murder_2015_final.csv), citing data from the FBI Uniform Crime Reports. This dataset looks at 83 cities throughout the United States with at least 250,000 residents. Provided in the dataset are the city (\"city\") and state (\"state\") in which the murders took place, the total number of murders in 2014 (\"2014_murders\"), the total number of murders in 2015 (\"2015_murders\"), and the difference between the two years (\"change\"). The city and state variables are categorical variables, while 2014_murders, 2015_murders, and change are all discrete numerical variables.\n",
    "\n",
    "The Python code below imports the Pandas library into the Python environment and reads the dataset into a Pandas dataframe."
   ]
  },
  {
   "cell_type": "code",
   "execution_count": 166,
   "metadata": {},
   "outputs": [
    {
     "name": "stdout",
     "output_type": "stream",
     "text": [
      "              city          state  2014_murders  2015_murders  change\n",
      "0        Baltimore       Maryland           211           344     133\n",
      "1          Chicago       Illinois           411           478      67\n",
      "2          Houston          Texas           242           303      61\n",
      "3        Cleveland           Ohio            63           120      57\n",
      "4       Washington           D.C.           105           162      57\n",
      "..             ...            ...           ...           ...     ...\n",
      "78     San Antonio          Texas           103            94      -9\n",
      "79  Corpus Christi          Texas            27            17     -10\n",
      "80      Pittsburgh   Pennsylvania            69            57     -12\n",
      "81          Boston  Massachusetts            53            38     -15\n",
      "82         Buffalo       New York            60            41     -19\n",
      "\n",
      "[83 rows x 5 columns]\n"
     ]
    }
   ],
   "source": [
    "# Importing the Pandas library\n",
    "import pandas as pd\n",
    "\n",
    "# Storing the dataset in the variable filename\n",
    "filename = 'https://raw.githubusercontent.com/fivethirtyeight/data/master/murder_2016/murder_2015_final.csv'\n",
    "\n",
    "# Reading the dataset, turning it into a dataframe, and storing it in murders\n",
    "murders = pd.read_csv(filename)\n",
    "\n",
    "# Printing murders\n",
    "print(murders)"
   ]
  },
  {
   "cell_type": "markdown",
   "metadata": {},
   "source": [
    "## *Exploratory Data Analysis (EDA)*"
   ]
  },
  {
   "cell_type": "markdown",
   "metadata": {},
   "source": [
    "The first step in properly analyzing any statistical dataset is to perform some EDA. In order to create the necessary visualizations, I must first import the Pyplot function from the Matplotlib library. In order for the Matplotlib library to properly import, the text below needs to proceed the importing in a Markdown cell. While I'm importing libraries, I will also import the NumPy library and the Seaborn library."
   ]
  },
  {
   "cell_type": "markdown",
   "metadata": {},
   "source": [
    "%matplotlib notebook"
   ]
  },
  {
   "cell_type": "code",
   "execution_count": 5,
   "metadata": {},
   "outputs": [],
   "source": [
    "# Importing the Pyplot function from the Matplotlib library\n",
    "import matplotlib.pyplot as plt\n",
    "\n",
    "# Importing the Seaborn library\n",
    "import seaborn as sns\n",
    "\n",
    "# Importing the NumPy library\n",
    "import numpy as np"
   ]
  },
  {
   "cell_type": "markdown",
   "metadata": {},
   "source": [
    "The first step I will take in my EDA is retrieving summary statistics about the murder count in 2014, 2015, and the change. This will give me the number of observations, mean, standard deviation, minimum, first quartile, median, third quartile, and maximum values for each variable."
   ]
  },
  {
   "cell_type": "code",
   "execution_count": 167,
   "metadata": {},
   "outputs": [
    {
     "data": {
      "text/html": [
       "<div>\n",
       "<style scoped>\n",
       "    .dataframe tbody tr th:only-of-type {\n",
       "        vertical-align: middle;\n",
       "    }\n",
       "\n",
       "    .dataframe tbody tr th {\n",
       "        vertical-align: top;\n",
       "    }\n",
       "\n",
       "    .dataframe thead th {\n",
       "        text-align: right;\n",
       "    }\n",
       "</style>\n",
       "<table border=\"1\" class=\"dataframe\">\n",
       "  <thead>\n",
       "    <tr style=\"text-align: right;\">\n",
       "      <th></th>\n",
       "      <th>2014_murders</th>\n",
       "      <th>2015_murders</th>\n",
       "      <th>change</th>\n",
       "    </tr>\n",
       "  </thead>\n",
       "  <tbody>\n",
       "    <tr>\n",
       "      <th>count</th>\n",
       "      <td>83.000000</td>\n",
       "      <td>83.000000</td>\n",
       "      <td>83.000000</td>\n",
       "    </tr>\n",
       "    <tr>\n",
       "      <th>mean</th>\n",
       "      <td>65.746988</td>\n",
       "      <td>75.481928</td>\n",
       "      <td>9.734940</td>\n",
       "    </tr>\n",
       "    <tr>\n",
       "      <th>std</th>\n",
       "      <td>79.011244</td>\n",
       "      <td>91.684289</td>\n",
       "      <td>21.858795</td>\n",
       "    </tr>\n",
       "    <tr>\n",
       "      <th>min</th>\n",
       "      <td>0.000000</td>\n",
       "      <td>1.000000</td>\n",
       "      <td>-19.000000</td>\n",
       "    </tr>\n",
       "    <tr>\n",
       "      <th>25%</th>\n",
       "      <td>19.500000</td>\n",
       "      <td>22.500000</td>\n",
       "      <td>-3.000000</td>\n",
       "    </tr>\n",
       "    <tr>\n",
       "      <th>50%</th>\n",
       "      <td>32.000000</td>\n",
       "      <td>39.000000</td>\n",
       "      <td>4.000000</td>\n",
       "    </tr>\n",
       "    <tr>\n",
       "      <th>75%</th>\n",
       "      <td>82.000000</td>\n",
       "      <td>94.000000</td>\n",
       "      <td>14.000000</td>\n",
       "    </tr>\n",
       "    <tr>\n",
       "      <th>max</th>\n",
       "      <td>411.000000</td>\n",
       "      <td>478.000000</td>\n",
       "      <td>133.000000</td>\n",
       "    </tr>\n",
       "  </tbody>\n",
       "</table>\n",
       "</div>"
      ],
      "text/plain": [
       "       2014_murders  2015_murders      change\n",
       "count     83.000000     83.000000   83.000000\n",
       "mean      65.746988     75.481928    9.734940\n",
       "std       79.011244     91.684289   21.858795\n",
       "min        0.000000      1.000000  -19.000000\n",
       "25%       19.500000     22.500000   -3.000000\n",
       "50%       32.000000     39.000000    4.000000\n",
       "75%       82.000000     94.000000   14.000000\n",
       "max      411.000000    478.000000  133.000000"
      ]
     },
     "execution_count": 167,
     "metadata": {},
     "output_type": "execute_result"
    }
   ],
   "source": [
    "# Getting descriptive statistics about the murders dataframe\n",
    "murders.describe()"
   ]
  },
  {
   "cell_type": "markdown",
   "metadata": {},
   "source": [
    "It's already significant to note that every statistic (with the exception of count) is higher in 2015 than in 2014. Furthermore, the mean number of murders and the standard deviation of murders both rise significantly. All of this indicates that the overall murder count is increasing. However, as noted by the minimum and first quartile of the change variable, there are some cities which actually had a decrease in murders from 2014 to 2015. It would be a good idea to identify why certain cities have had a decrease in murders despite the national trend appearing to be the opposite."
   ]
  },
  {
   "cell_type": "markdown",
   "metadata": {},
   "source": [
    "Next, I'll take a look at some visual representations of the data to see what I can glean from them. Below are two boxplots. The former shows the distribution of murders in 2014, while the latter shows the distribution of murders in 2015."
   ]
  },
  {
   "cell_type": "code",
   "execution_count": 165,
   "metadata": {},
   "outputs": [
    {
     "data": {
      "image/png": "[encoded data removed]",
      "text/plain": [
       "<Figure size 432x288 with 2 Axes>"
      ]
     },
     "metadata": {
      "needs_background": "light"
     },
     "output_type": "display_data"
    }
   ],
   "source": [
    "# Defining a figure for plotting\n",
    "plt.figure(1)\n",
    "\n",
    "# Specifying the left subplot\n",
    "plt.subplot(121)\n",
    "\n",
    "# Specifying the plot and the data to be plotted\n",
    "plt.boxplot(murders['2014_murders'])\n",
    "\n",
    "# Specifying the title of the boxplot\n",
    "plt.title('Boxplot of Murders in 2014')\n",
    "\n",
    "# Leaving the x-axis label blank (Matplotlib.pyplot will automatically put a 1)\n",
    "plt.xlabel(' ')\n",
    "\n",
    "# Specifying the right subplot\n",
    "plt.subplot(122)\n",
    "\n",
    "# Specifying the plot and the data to be plotted\n",
    "plt.boxplot(murders['2015_murders'])\n",
    "\n",
    "# Specifying the title of the boxplot\n",
    "plt.title('Boxplot of Murders in 2015')\n",
    "\n",
    "# Leaving the x-axis label blank (Matplotlib.pyplot will automatically put a 1)\n",
    "plt.xlabel(' ')\n",
    "\n",
    "# Specifying the spacing between subplots\n",
    "plt.tight_layout(pad = 3.0)\n",
    "\n",
    "# Showing the boxplots in the figure\n",
    "plt.show()"
   ]
  },
  {
   "cell_type": "markdown",
   "metadata": {},
   "source": [
    "I can also get the same visualizations using the Seaborn library, as shown below."
   ]
  },
  {
   "cell_type": "code",
   "execution_count": 164,
   "metadata": {},
   "outputs": [
    {
     "data": {
      "image/png": "[encoded data removed]",
      "text/plain": [
       "<Figure size 432x288 with 2 Axes>"
      ]
     },
     "metadata": {
      "needs_background": "light"
     },
     "output_type": "display_data"
    }
   ],
   "source": [
    "# Defining a figure for plotting\n",
    "plt.figure(1)\n",
    "\n",
    "# Specifying the left subplot\n",
    "plt.subplot(121)\n",
    "\n",
    "# Specifying the plot, the data to be plotted, and the orientation of the plot\n",
    "sns.boxplot(murders['2014_murders'], orient = 'v')\n",
    "\n",
    "# Specifying the title of the boxplot\n",
    "plt.title('Boxplot of Murders in 2014')\n",
    "\n",
    "# Leaving the x-axis label blank\n",
    "plt.xlabel(' ')\n",
    "\n",
    "# Specifying the right subplot\n",
    "plt.subplot(122)\n",
    "\n",
    "# Specifying the plot, the data to be plotted, and the orientation of the plot\n",
    "sns.boxplot(murders['2015_murders'], orient = 'v')\n",
    "\n",
    "# Specifying the title of the boxplot\n",
    "plt.title('Boxplot of Murders in 2015')\n",
    "\n",
    "# Leaving the x-axis label blank\n",
    "plt.xlabel(' ')\n",
    "\n",
    "# Specifying the spacing between subplots\n",
    "plt.tight_layout(pad = 3.0)\n",
    "\n",
    "# Showing the boxplots in the figure\n",
    "plt.show()"
   ]
  },
  {
   "cell_type": "markdown",
   "metadata": {},
   "source": [
    "Boxplots detail the minimum, first quartile, median, third quartile, and maximum values, as well as any outliers in the dataset (indicated by the circles on the boxplots). As can be seen from the boxplots, both years have outliers that are over the maximum in the dataset. Additionally, both medians (red lines) are closer to the first quartile (the bottom of the box) than the third quartile (the top of the box), and the whiskers on the bottom are shorter than the whiskers on the top, displaying that both distributions are positively skewed (skewed right). All of these notes emphasize how a majority of the observations fall on the higher end, above the mean."
   ]
  },
  {
   "cell_type": "markdown",
   "metadata": {},
   "source": [
    "EDA can also be done with the categorical variables. I'll use the unique function found within the Pandas library to determine how many states this dataset takes into account."
   ]
  },
  {
   "cell_type": "code",
   "execution_count": 27,
   "metadata": {},
   "outputs": [
    {
     "name": "stdout",
     "output_type": "stream",
     "text": [
      "There are 34 unique states in the murders dataset.\n"
     ]
    }
   ],
   "source": [
    "# Calculating the number of unique states and printing it in sentence form\n",
    "print('There are', len(pd.unique(murders['state'])), 'unique states in the murders dataset.')"
   ]
  },
  {
   "cell_type": "markdown",
   "metadata": {},
   "source": [
    "As can be seen from the code above, cities in 34 out of the 50 states are analyzed in this dataset. While this is a majority of the states, and while the dataset only looks at cities with at least 250,000 residents (thus ensuring the dataset focuses on the most populated areas), it is important to note that every state is not being analyzed."
   ]
  },
  {
   "cell_type": "markdown",
   "metadata": {},
   "source": [
    "The frequency count of the states can also be calculated. The bar graph below displays how many times each state is mentioned in the dataset."
   ]
  },
  {
   "cell_type": "code",
   "execution_count": 115,
   "metadata": {},
   "outputs": [
    {
     "data": {
      "text/plain": [
       "<matplotlib.axes._subplots.AxesSubplot at 0x7ffb20394be0>"
      ]
     },
     "execution_count": 115,
     "metadata": {},
     "output_type": "execute_result"
    },
    {
     "data": {
      "image/png": "[encoded data removed]",
      "text/plain": [
       "<Figure size 432x288 with 1 Axes>"
      ]
     },
     "metadata": {
      "needs_background": "light"
     },
     "output_type": "display_data"
    }
   ],
   "source": [
    "# Creating the frequency distribution of states and storing it in state_plot\n",
    "state_plot = murders['state'].value_counts().plot.bar(title = 'Frequency Distribution of States')\n",
    "\n",
    "# Displaying state_plot\n",
    "state_plot"
   ]
  },
  {
   "cell_type": "markdown",
   "metadata": {},
   "source": [
    "I can also get to the same visualization using the Seaborn library, as shown below."
   ]
  },
  {
   "cell_type": "code",
   "execution_count": 117,
   "metadata": {},
   "outputs": [
    {
     "data": {
      "text/plain": [
       "<seaborn.axisgrid.FacetGrid at 0x7ffb1da6e760>"
      ]
     },
     "execution_count": 117,
     "metadata": {},
     "output_type": "execute_result"
    },
    {
     "data": {
      "image/png": "[encoded data removed]",
      "text/plain": [
       "<Figure size 540x360 with 1 Axes>"
      ]
     },
     "metadata": {
      "needs_background": "light"
     },
     "output_type": "display_data"
    }
   ],
   "source": [
    "# Creating the frequency distribution of states and storing it in state_plot_2\n",
    "state_plot_2 = sns.catplot('state', data = murders, aspect = 1.5, kind = 'count', color = 'b')\n",
    "\n",
    "# Rotating the x axis of state_plot_2 and printing it\n",
    "state_plot_2.set_xticklabels(rotation=90)"
   ]
  },
  {
   "cell_type": "markdown",
   "metadata": {},
   "source": [
    "As can be seen from the above bar plots, states like California and Texas have 10 or more cities in this dataset, while states like New Mexico and Georgia only have one city each. Again, the most populous cities in the United States were chosen, so it is understandable why certain states would have more cities in the dataset than others. Nonetheless, it is important to take note of which states are being represented and to what degree that representation is occurring."
   ]
  },
  {
   "cell_type": "markdown",
   "metadata": {},
   "source": [
    "## *Inference*"
   ]
  },
  {
   "cell_type": "markdown",
   "metadata": {},
   "source": [
    "Now I'll tackle the research question. As a reminder, the research question is: Is there any correlation between a city's geographic location and the number of murders they record? A couple of steps must be taken before I can properly tackle this analysis."
   ]
  },
  {
   "cell_type": "markdown",
   "metadata": {},
   "source": [
    "According to the [United States Embassy and Consulate in the Republic of Korea](https://kr.usembassy.gov/education-culture/infopedia-usa/travel-usa/regions-united-states/#1), the states can be divided into six geographical regions: New England, the Mid-Atlantic, the South, the Midwest, the Southwest, and the West. These are the state groupings that I will be using for my analysis."
   ]
  },
  {
   "cell_type": "markdown",
   "metadata": {},
   "source": [
    "The first step is to add an additional column to the dataframe which displays which group the state belongs to. For the purposes of this analysis, New England will be group 1, the Mid-Atlantic will be group 2, the South will be group 3, the Midwest will be group 4, the Southwest will be group 5, and the West will be group 6."
   ]
  },
  {
   "cell_type": "code",
   "execution_count": 60,
   "metadata": {},
   "outputs": [
    {
     "data": {
      "text/html": [
       "<div>\n",
       "<style scoped>\n",
       "    .dataframe tbody tr th:only-of-type {\n",
       "        vertical-align: middle;\n",
       "    }\n",
       "\n",
       "    .dataframe tbody tr th {\n",
       "        vertical-align: top;\n",
       "    }\n",
       "\n",
       "    .dataframe thead th {\n",
       "        text-align: right;\n",
       "    }\n",
       "</style>\n",
       "<table border=\"1\" class=\"dataframe\">\n",
       "  <thead>\n",
       "    <tr style=\"text-align: right;\">\n",
       "      <th></th>\n",
       "      <th>city</th>\n",
       "      <th>state</th>\n",
       "      <th>2014_murders</th>\n",
       "      <th>2015_murders</th>\n",
       "      <th>change</th>\n",
       "      <th>group</th>\n",
       "    </tr>\n",
       "  </thead>\n",
       "  <tbody>\n",
       "    <tr>\n",
       "      <th>0</th>\n",
       "      <td>Baltimore</td>\n",
       "      <td>Maryland</td>\n",
       "      <td>211</td>\n",
       "      <td>344</td>\n",
       "      <td>133</td>\n",
       "      <td>2</td>\n",
       "    </tr>\n",
       "    <tr>\n",
       "      <th>1</th>\n",
       "      <td>Chicago</td>\n",
       "      <td>Illinois</td>\n",
       "      <td>411</td>\n",
       "      <td>478</td>\n",
       "      <td>67</td>\n",
       "      <td>4</td>\n",
       "    </tr>\n",
       "    <tr>\n",
       "      <th>2</th>\n",
       "      <td>Houston</td>\n",
       "      <td>Texas</td>\n",
       "      <td>242</td>\n",
       "      <td>303</td>\n",
       "      <td>61</td>\n",
       "      <td>5</td>\n",
       "    </tr>\n",
       "    <tr>\n",
       "      <th>3</th>\n",
       "      <td>Cleveland</td>\n",
       "      <td>Ohio</td>\n",
       "      <td>63</td>\n",
       "      <td>120</td>\n",
       "      <td>57</td>\n",
       "      <td>4</td>\n",
       "    </tr>\n",
       "    <tr>\n",
       "      <th>4</th>\n",
       "      <td>Washington</td>\n",
       "      <td>D.C.</td>\n",
       "      <td>105</td>\n",
       "      <td>162</td>\n",
       "      <td>57</td>\n",
       "      <td>2</td>\n",
       "    </tr>\n",
       "    <tr>\n",
       "      <th>...</th>\n",
       "      <td>...</td>\n",
       "      <td>...</td>\n",
       "      <td>...</td>\n",
       "      <td>...</td>\n",
       "      <td>...</td>\n",
       "      <td>...</td>\n",
       "    </tr>\n",
       "    <tr>\n",
       "      <th>78</th>\n",
       "      <td>San Antonio</td>\n",
       "      <td>Texas</td>\n",
       "      <td>103</td>\n",
       "      <td>94</td>\n",
       "      <td>-9</td>\n",
       "      <td>5</td>\n",
       "    </tr>\n",
       "    <tr>\n",
       "      <th>79</th>\n",
       "      <td>Corpus Christi</td>\n",
       "      <td>Texas</td>\n",
       "      <td>27</td>\n",
       "      <td>17</td>\n",
       "      <td>-10</td>\n",
       "      <td>5</td>\n",
       "    </tr>\n",
       "    <tr>\n",
       "      <th>80</th>\n",
       "      <td>Pittsburgh</td>\n",
       "      <td>Pennsylvania</td>\n",
       "      <td>69</td>\n",
       "      <td>57</td>\n",
       "      <td>-12</td>\n",
       "      <td>2</td>\n",
       "    </tr>\n",
       "    <tr>\n",
       "      <th>81</th>\n",
       "      <td>Boston</td>\n",
       "      <td>Massachusetts</td>\n",
       "      <td>53</td>\n",
       "      <td>38</td>\n",
       "      <td>-15</td>\n",
       "      <td>1</td>\n",
       "    </tr>\n",
       "    <tr>\n",
       "      <th>82</th>\n",
       "      <td>Buffalo</td>\n",
       "      <td>New York</td>\n",
       "      <td>60</td>\n",
       "      <td>41</td>\n",
       "      <td>-19</td>\n",
       "      <td>2</td>\n",
       "    </tr>\n",
       "  </tbody>\n",
       "</table>\n",
       "<p>83 rows × 6 columns</p>\n",
       "</div>"
      ],
      "text/plain": [
       "              city          state  2014_murders  2015_murders  change  group\n",
       "0        Baltimore       Maryland           211           344     133      2\n",
       "1          Chicago       Illinois           411           478      67      4\n",
       "2          Houston          Texas           242           303      61      5\n",
       "3        Cleveland           Ohio            63           120      57      4\n",
       "4       Washington           D.C.           105           162      57      2\n",
       "..             ...            ...           ...           ...     ...    ...\n",
       "78     San Antonio          Texas           103            94      -9      5\n",
       "79  Corpus Christi          Texas            27            17     -10      5\n",
       "80      Pittsburgh   Pennsylvania            69            57     -12      2\n",
       "81          Boston  Massachusetts            53            38     -15      1\n",
       "82         Buffalo       New York            60            41     -19      2\n",
       "\n",
       "[83 rows x 6 columns]"
      ]
     },
     "execution_count": 60,
     "metadata": {},
     "output_type": "execute_result"
    }
   ],
   "source": [
    "# Adding the group column to the murders dataframe and assigning the appropriate value, depending on the state\n",
    "murders.loc[(murders['state'] == 'Connecticut') | (murders['state'] == 'Maine') | (murders['state'] == 'Massachusetts') | (murders['state'] == 'New Hampshire') | (murders['state'] == 'Rhode Island') | (murders['state'] == 'Vermont'), 'group'] = 1\n",
    "murders.loc[(murders['state'] == 'Delaware') | (murders['state'] == 'Maryland') | (murders['state'] == 'New Jersey') | (murders['state'] == 'New York') | (murders['state'] == 'Pennsylvania') | (murders['state'] == 'D.C.'), 'group'] = 2\n",
    "murders.loc[(murders['state'] == 'Alabama') | (murders['state'] == 'Arkansas') | (murders['state'] == 'Florida') | (murders['state'] == 'Georgia') | (murders['state'] == 'Kentucky') | (murders['state'] == 'Louisiana') | (murders['state'] == 'Mississippi') | (murders['state'] == 'North Carolina') | (murders['state'] == 'South Carolina') | (murders['state'] == 'Tennessee') | (murders['state'] == 'Virginia') | (murders['state'] == 'West Virginia'), 'group'] = 3\n",
    "murders.loc[(murders['state'] == 'Illinois') | (murders['state'] == 'Indiana') | (murders['state'] == 'Iowa') | (murders['state'] == 'Kansas') | (murders['state'] == 'Michigan') | (murders['state'] == 'Minnesota') | (murders['state'] == 'Missouri') | (murders['state'] == 'Nebraska') | (murders['state'] == 'North Dakota') | (murders['state'] == 'Ohio') | (murders['state'] == 'South Dakota') | (murders['state'] == 'Wisconsin'), 'group'] = 4\n",
    "murders.loc[(murders['state'] == 'Arizona') | (murders['state'] == 'New Mexico') | (murders['state'] == 'Oklahoma') | (murders['state'] == 'Texas'), 'group'] = 5\n",
    "murders.loc[(murders['state'] == 'Alaska') | (murders['state'] == 'Colorado') | (murders['state'] == 'California') | (murders['state'] == 'Hawaii') | (murders['state'] == 'Idaho') | (murders['state'] == 'Montana') | (murders['state'] == 'Nevada') | (murders['state'] == 'Oregon') | (murders['state'] == 'Utah') | (murders['state'] == 'Washington') | (murders['state'] == 'Wyoming'), 'group'] = 6\n",
    "\n",
    "# Displaying murders\n",
    "murders"
   ]
  },
  {
   "cell_type": "markdown",
   "metadata": {},
   "source": [
    "Because the frequency of states isn't evenly distributed amongst the dataset (as shown by the Frequency Distribution of States bar graph above), the frequency of groups will also most likely not be evenly distributed. The bar graph below looks at the frequency distribution of the groups."
   ]
  },
  {
   "cell_type": "code",
   "execution_count": 119,
   "metadata": {},
   "outputs": [
    {
     "data": {
      "text/plain": [
       "<matplotlib.axes._subplots.AxesSubplot at 0x7ffb210052e0>"
      ]
     },
     "execution_count": 119,
     "metadata": {},
     "output_type": "execute_result"
    },
    {
     "data": {
      "image/png": "[encoded data removed]",
      "text/plain": [
       "<Figure size 432x288 with 1 Axes>"
      ]
     },
     "metadata": {
      "needs_background": "light"
     },
     "output_type": "display_data"
    }
   ],
   "source": [
    "# Creating the frequency distribution of groups and storing it in group_plot\n",
    "group_plot = murders['group'].value_counts().plot.bar(title = 'Frequency Distribution of Groups')\n",
    "\n",
    "# Displaying group_plot\n",
    "group_plot"
   ]
  },
  {
   "cell_type": "markdown",
   "metadata": {},
   "source": [
    "I can also get the same visualization using the Seaborn library, as shown below."
   ]
  },
  {
   "cell_type": "code",
   "execution_count": 120,
   "metadata": {},
   "outputs": [
    {
     "data": {
      "text/plain": [
       "<seaborn.axisgrid.FacetGrid at 0x7ffb21072a00>"
      ]
     },
     "execution_count": 120,
     "metadata": {},
     "output_type": "execute_result"
    },
    {
     "data": {
      "image/png": "[encoded data removed]",
      "text/plain": [
       "<Figure size 540x360 with 1 Axes>"
      ]
     },
     "metadata": {
      "needs_background": "light"
     },
     "output_type": "display_data"
    }
   ],
   "source": [
    "# Creating the frequency distribution of groups and storing it in group_plot_2\n",
    "group_plot_2 = sns.catplot('group', data = murders, aspect = 1.5, kind = 'count', color = 'b')\n",
    "\n",
    "# Rotating the x axis labels of group_plot_2 and displaying it\n",
    "group_plot_2.set_xticklabels(rotation=90)"
   ]
  },
  {
   "cell_type": "markdown",
   "metadata": {},
   "source": [
    "As can be seen above, the West has the most representation with almost 25 cities, while New England has the least representation with around 1 city. These representations are important to keep in mind while analyzing the data."
   ]
  },
  {
   "cell_type": "markdown",
   "metadata": {},
   "source": [
    "Now that the state groupings have been inserted and looked into, murders by geographical location can be more properly analyzed. Below, I add up the sum for each year and for the change per group, and I add it on to the end of the dataframe."
   ]
  },
  {
   "cell_type": "code",
   "execution_count": 156,
   "metadata": {
    "scrolled": false
   },
   "outputs": [
    {
     "data": {
      "text/html": [
       "<div>\n",
       "<style scoped>\n",
       "    .dataframe tbody tr th:only-of-type {\n",
       "        vertical-align: middle;\n",
       "    }\n",
       "\n",
       "    .dataframe tbody tr th {\n",
       "        vertical-align: top;\n",
       "    }\n",
       "\n",
       "    .dataframe thead th {\n",
       "        text-align: right;\n",
       "    }\n",
       "</style>\n",
       "<table border=\"1\" class=\"dataframe\">\n",
       "  <thead>\n",
       "    <tr style=\"text-align: right;\">\n",
       "      <th></th>\n",
       "      <th>city</th>\n",
       "      <th>state</th>\n",
       "      <th>2014_murders</th>\n",
       "      <th>2015_murders</th>\n",
       "      <th>change</th>\n",
       "      <th>group</th>\n",
       "      <th>2014_sum</th>\n",
       "      <th>2015_sum</th>\n",
       "      <th>change_sum</th>\n",
       "    </tr>\n",
       "  </thead>\n",
       "  <tbody>\n",
       "    <tr>\n",
       "      <th>0</th>\n",
       "      <td>Baltimore</td>\n",
       "      <td>Maryland</td>\n",
       "      <td>211</td>\n",
       "      <td>344</td>\n",
       "      <td>133</td>\n",
       "      <td>2</td>\n",
       "      <td>1143.0</td>\n",
       "      <td>1367.0</td>\n",
       "      <td>224.0</td>\n",
       "    </tr>\n",
       "    <tr>\n",
       "      <th>1</th>\n",
       "      <td>Chicago</td>\n",
       "      <td>Illinois</td>\n",
       "      <td>411</td>\n",
       "      <td>478</td>\n",
       "      <td>67</td>\n",
       "      <td>4</td>\n",
       "      <td>1521.0</td>\n",
       "      <td>1814.0</td>\n",
       "      <td>293.0</td>\n",
       "    </tr>\n",
       "    <tr>\n",
       "      <th>2</th>\n",
       "      <td>Houston</td>\n",
       "      <td>Texas</td>\n",
       "      <td>242</td>\n",
       "      <td>303</td>\n",
       "      <td>61</td>\n",
       "      <td>5</td>\n",
       "      <td>910.0</td>\n",
       "      <td>997.0</td>\n",
       "      <td>87.0</td>\n",
       "    </tr>\n",
       "    <tr>\n",
       "      <th>3</th>\n",
       "      <td>Cleveland</td>\n",
       "      <td>Ohio</td>\n",
       "      <td>63</td>\n",
       "      <td>120</td>\n",
       "      <td>57</td>\n",
       "      <td>4</td>\n",
       "      <td>1521.0</td>\n",
       "      <td>1814.0</td>\n",
       "      <td>293.0</td>\n",
       "    </tr>\n",
       "    <tr>\n",
       "      <th>4</th>\n",
       "      <td>Washington</td>\n",
       "      <td>D.C.</td>\n",
       "      <td>105</td>\n",
       "      <td>162</td>\n",
       "      <td>57</td>\n",
       "      <td>2</td>\n",
       "      <td>1143.0</td>\n",
       "      <td>1367.0</td>\n",
       "      <td>224.0</td>\n",
       "    </tr>\n",
       "    <tr>\n",
       "      <th>...</th>\n",
       "      <td>...</td>\n",
       "      <td>...</td>\n",
       "      <td>...</td>\n",
       "      <td>...</td>\n",
       "      <td>...</td>\n",
       "      <td>...</td>\n",
       "      <td>...</td>\n",
       "      <td>...</td>\n",
       "      <td>...</td>\n",
       "    </tr>\n",
       "    <tr>\n",
       "      <th>78</th>\n",
       "      <td>San Antonio</td>\n",
       "      <td>Texas</td>\n",
       "      <td>103</td>\n",
       "      <td>94</td>\n",
       "      <td>-9</td>\n",
       "      <td>5</td>\n",
       "      <td>910.0</td>\n",
       "      <td>997.0</td>\n",
       "      <td>87.0</td>\n",
       "    </tr>\n",
       "    <tr>\n",
       "      <th>79</th>\n",
       "      <td>Corpus Christi</td>\n",
       "      <td>Texas</td>\n",
       "      <td>27</td>\n",
       "      <td>17</td>\n",
       "      <td>-10</td>\n",
       "      <td>5</td>\n",
       "      <td>910.0</td>\n",
       "      <td>997.0</td>\n",
       "      <td>87.0</td>\n",
       "    </tr>\n",
       "    <tr>\n",
       "      <th>80</th>\n",
       "      <td>Pittsburgh</td>\n",
       "      <td>Pennsylvania</td>\n",
       "      <td>69</td>\n",
       "      <td>57</td>\n",
       "      <td>-12</td>\n",
       "      <td>2</td>\n",
       "      <td>1143.0</td>\n",
       "      <td>1367.0</td>\n",
       "      <td>224.0</td>\n",
       "    </tr>\n",
       "    <tr>\n",
       "      <th>81</th>\n",
       "      <td>Boston</td>\n",
       "      <td>Massachusetts</td>\n",
       "      <td>53</td>\n",
       "      <td>38</td>\n",
       "      <td>-15</td>\n",
       "      <td>1</td>\n",
       "      <td>53.0</td>\n",
       "      <td>38.0</td>\n",
       "      <td>-15.0</td>\n",
       "    </tr>\n",
       "    <tr>\n",
       "      <th>82</th>\n",
       "      <td>Buffalo</td>\n",
       "      <td>New York</td>\n",
       "      <td>60</td>\n",
       "      <td>41</td>\n",
       "      <td>-19</td>\n",
       "      <td>2</td>\n",
       "      <td>1143.0</td>\n",
       "      <td>1367.0</td>\n",
       "      <td>224.0</td>\n",
       "    </tr>\n",
       "  </tbody>\n",
       "</table>\n",
       "<p>83 rows × 9 columns</p>\n",
       "</div>"
      ],
      "text/plain": [
       "              city          state  2014_murders  2015_murders  change  group  \\\n",
       "0        Baltimore       Maryland           211           344     133      2   \n",
       "1          Chicago       Illinois           411           478      67      4   \n",
       "2          Houston          Texas           242           303      61      5   \n",
       "3        Cleveland           Ohio            63           120      57      4   \n",
       "4       Washington           D.C.           105           162      57      2   \n",
       "..             ...            ...           ...           ...     ...    ...   \n",
       "78     San Antonio          Texas           103            94      -9      5   \n",
       "79  Corpus Christi          Texas            27            17     -10      5   \n",
       "80      Pittsburgh   Pennsylvania            69            57     -12      2   \n",
       "81          Boston  Massachusetts            53            38     -15      1   \n",
       "82         Buffalo       New York            60            41     -19      2   \n",
       "\n",
       "    2014_sum  2015_sum  change_sum  \n",
       "0     1143.0    1367.0       224.0  \n",
       "1     1521.0    1814.0       293.0  \n",
       "2      910.0     997.0        87.0  \n",
       "3     1521.0    1814.0       293.0  \n",
       "4     1143.0    1367.0       224.0  \n",
       "..       ...       ...         ...  \n",
       "78     910.0     997.0        87.0  \n",
       "79     910.0     997.0        87.0  \n",
       "80    1143.0    1367.0       224.0  \n",
       "81      53.0      38.0       -15.0  \n",
       "82    1143.0    1367.0       224.0  \n",
       "\n",
       "[83 rows x 9 columns]"
      ]
     },
     "execution_count": 156,
     "metadata": {},
     "output_type": "execute_result"
    }
   ],
   "source": [
    "# Adding the sum of 2014_murders per group to the end of the respective entries in the dataframe\n",
    "murders.loc[murders['group'] == 1, '2014_sum'] = (murders.query('group == 1')['2014_murders'].sum())\n",
    "murders.loc[murders['group'] == 2, '2014_sum'] = (murders.query('group == 2')['2014_murders'].sum())\n",
    "murders.loc[murders['group'] == 3, '2014_sum'] = (murders.query('group == 3')['2014_murders'].sum())\n",
    "murders.loc[murders['group'] == 4, '2014_sum'] = (murders.query('group == 4')['2014_murders'].sum())\n",
    "murders.loc[murders['group'] == 5, '2014_sum'] = (murders.query('group == 5')['2014_murders'].sum())\n",
    "murders.loc[murders['group'] == 6, '2014_sum'] = (murders.query('group == 6')['2014_murders'].sum())\n",
    "\n",
    "# Adding the sum of 2015_murders per group to the end of the respective entries in the dataframe\n",
    "murders.loc[murders['group'] == 1, '2015_sum'] = (murders.query('group == 1')['2015_murders'].sum())\n",
    "murders.loc[murders['group'] == 2, '2015_sum'] = (murders.query('group == 2')['2015_murders'].sum())\n",
    "murders.loc[murders['group'] == 3, '2015_sum'] = (murders.query('group == 3')['2015_murders'].sum())\n",
    "murders.loc[murders['group'] == 4, '2015_sum'] = (murders.query('group == 4')['2015_murders'].sum())\n",
    "murders.loc[murders['group'] == 5, '2015_sum'] = (murders.query('group == 5')['2015_murders'].sum())\n",
    "murders.loc[murders['group'] == 6, '2015_sum'] = (murders.query('group == 6')['2015_murders'].sum())\n",
    "\n",
    "# Adding the sum of change per group to the end of the respective entries in the dataframe\n",
    "murders.loc[murders['group'] == 1, 'change_sum'] = (murders.query('group == 1')['change'].sum())\n",
    "murders.loc[murders['group'] == 2, 'change_sum'] = (murders.query('group == 2')['change'].sum())\n",
    "murders.loc[murders['group'] == 3, 'change_sum'] = (murders.query('group == 3')['change'].sum())\n",
    "murders.loc[murders['group'] == 4, 'change_sum'] = (murders.query('group == 4')['change'].sum())\n",
    "murders.loc[murders['group'] == 5, 'change_sum'] = (murders.query('group == 5')['change'].sum())\n",
    "murders.loc[murders['group'] == 6, 'change_sum'] = (murders.query('group == 6')['change'].sum())\n",
    "\n",
    "# Displaying murders\n",
    "murders"
   ]
  },
  {
   "cell_type": "markdown",
   "metadata": {},
   "source": [
    "With these sums now in the dataframe, I can plot the total number of murders by state group per year and compare them to each other. Those plots are shown below."
   ]
  },
  {
   "cell_type": "code",
   "execution_count": 162,
   "metadata": {},
   "outputs": [
    {
     "data": {
      "image/png": "[encoded data removed]",
      "text/plain": [
       "<Figure size 432x288 with 2 Axes>"
      ]
     },
     "metadata": {
      "needs_background": "light"
     },
     "output_type": "display_data"
    }
   ],
   "source": [
    "# Defining a figure for plotting\n",
    "plt.figure(1)\n",
    "\n",
    "# Specifying the left subplot\n",
    "plt.subplot(121)\n",
    "\n",
    "# Specifying the plot and the axes\n",
    "plt.bar(murders['group'], murders['2014_sum'])\n",
    "\n",
    "# Specifying the title\n",
    "plt.title('2014 Murders by State Group')\n",
    "\n",
    "# Specifying the right subplot\n",
    "plt.subplot(122)\n",
    "\n",
    "# Specifying the plot and the axes\n",
    "plt.bar(murders['group'], murders['2015_sum'])\n",
    "\n",
    "# Specifying the title\n",
    "plt.title('2015 Murders by State Group')\n",
    "\n",
    "# Specifying the spacing between subplots\n",
    "plt.tight_layout(pad = 3.0)\n",
    "\n",
    "# Showing the plots in the figure\n",
    "plt.show()"
   ]
  },
  {
   "cell_type": "markdown",
   "metadata": {},
   "source": [
    "The same plots can also be made using the Seaborn library, as shown below."
   ]
  },
  {
   "cell_type": "code",
   "execution_count": 163,
   "metadata": {},
   "outputs": [
    {
     "data": {
      "image/png": "[encoded data removed]",
      "text/plain": [
       "<Figure size 432x288 with 2 Axes>"
      ]
     },
     "metadata": {
      "needs_background": "light"
     },
     "output_type": "display_data"
    }
   ],
   "source": [
    "# Defining a figure for plotting\n",
    "plt.figure(1)\n",
    "\n",
    "# Specifying the left subplot\n",
    "plt.subplot(121)\n",
    "\n",
    "# Specifying the plot, the axes, the data to be plotted, and the orientation of the plot\n",
    "sns.barplot(x = 'group', y = '2014_sum', data = murders, orient = 'v')\n",
    "\n",
    "# Specifying the title of the bar graph\n",
    "plt.title('2014 Murders by State Group')\n",
    "\n",
    "# Specifying the right subplot\n",
    "plt.subplot(122)\n",
    "\n",
    "# Specifying the plot, the axes, the data to be plotted, and the orientation of the plot\n",
    "sns.barplot(x = 'group', y = '2015_sum', data = murders, orient = 'v')\n",
    "\n",
    "# Specifying the title of the bar graph\n",
    "plt.title('2015 Murders by State Group')\n",
    "\n",
    "# Specifying the spacing between subplots\n",
    "plt.tight_layout(pad = 3.0)\n",
    "\n",
    "# Showing the bar graphs in the figure\n",
    "plt.show()"
   ]
  },
  {
   "cell_type": "markdown",
   "metadata": {},
   "source": [
    "As can be seen from the bar graphs above, the Midwest clearly has the most murders per year, despite having the third fewest cities in the dataset (based on the Frequency Distribution of Groups bar graph above). Of course, this does not indicate causation (or even definitive correlation). Rather, it is simply an observation made based on the data presented."
   ]
  },
  {
   "cell_type": "markdown",
   "metadata": {},
   "source": [
    "The dataset also provides a change variable, representing the change in the number of murders from 2014 to 2015. This variable can lend some insight as to whether murder counts are increasing or decreasing in a given geographical location. Below is a bar graph representing the change in number of murders by state group per year."
   ]
  },
  {
   "cell_type": "code",
   "execution_count": 159,
   "metadata": {},
   "outputs": [
    {
     "data": {
      "image/png": "[encoded data removed]",
      "text/plain": [
       "<Figure size 432x288 with 1 Axes>"
      ]
     },
     "metadata": {
      "needs_background": "light"
     },
     "output_type": "display_data"
    }
   ],
   "source": [
    "# Defining a figure for plotting\n",
    "plt.figure(1)\n",
    "\n",
    "# Specifying the plot and the axes\n",
    "plt.bar(murders['group'], murders['change_sum'])\n",
    "\n",
    "# Specifying the title\n",
    "plt.title('Yearly Change in Murder Count by State Group')\n",
    "\n",
    "# Showing the plot\n",
    "plt.show()"
   ]
  },
  {
   "cell_type": "markdown",
   "metadata": {},
   "source": [
    "The same plot can also be made using the Seaborn library, as shown below."
   ]
  },
  {
   "cell_type": "code",
   "execution_count": 160,
   "metadata": {},
   "outputs": [
    {
     "data": {
      "image/png": "[encoded data removed]",
      "text/plain": [
       "<Figure size 432x288 with 1 Axes>"
      ]
     },
     "metadata": {
      "needs_background": "light"
     },
     "output_type": "display_data"
    }
   ],
   "source": [
    "# Defining a figure for plotting\n",
    "plt.figure(1)\n",
    "\n",
    "# Specifying the plot, the axes, the data to be plotted, and the orientation of the plot\n",
    "sns.barplot(x = 'group', y = 'change_sum', data = murders, orient = 'v')\n",
    "\n",
    "# Specifying the title of the bar graph\n",
    "plt.title('Yearly Change in Murder Count by State Group')\n",
    "\n",
    "# Showing the bar graphs in the figure\n",
    "plt.show()"
   ]
  },
  {
   "cell_type": "markdown",
   "metadata": {},
   "source": [
    "As can be seen from the bar graphs above, the Midwest had the highest increase in murder count from 2014 to 2015, while New England had the largest (and only) decrease in murder count for the same time period."
   ]
  },
  {
   "cell_type": "markdown",
   "metadata": {},
   "source": [
    "In all of my analyses thus far, the Midwest region seems to have the highest murder counts, and those counts only seem to be growing. Consequently, a closer look should be taken at this region. Below are the cities in the dataset that fall under group 4."
   ]
  },
  {
   "cell_type": "code",
   "execution_count": 161,
   "metadata": {},
   "outputs": [
    {
     "data": {
      "text/html": [
       "<div>\n",
       "<style scoped>\n",
       "    .dataframe tbody tr th:only-of-type {\n",
       "        vertical-align: middle;\n",
       "    }\n",
       "\n",
       "    .dataframe tbody tr th {\n",
       "        vertical-align: top;\n",
       "    }\n",
       "\n",
       "    .dataframe thead th {\n",
       "        text-align: right;\n",
       "    }\n",
       "</style>\n",
       "<table border=\"1\" class=\"dataframe\">\n",
       "  <thead>\n",
       "    <tr style=\"text-align: right;\">\n",
       "      <th></th>\n",
       "      <th>city</th>\n",
       "      <th>state</th>\n",
       "      <th>2014_murders</th>\n",
       "      <th>2015_murders</th>\n",
       "      <th>change</th>\n",
       "      <th>group</th>\n",
       "      <th>2014_sum</th>\n",
       "      <th>2015_sum</th>\n",
       "      <th>change_sum</th>\n",
       "    </tr>\n",
       "  </thead>\n",
       "  <tbody>\n",
       "    <tr>\n",
       "      <th>1</th>\n",
       "      <td>Chicago</td>\n",
       "      <td>Illinois</td>\n",
       "      <td>411</td>\n",
       "      <td>478</td>\n",
       "      <td>67</td>\n",
       "      <td>4</td>\n",
       "      <td>1521.0</td>\n",
       "      <td>1814.0</td>\n",
       "      <td>293.0</td>\n",
       "    </tr>\n",
       "    <tr>\n",
       "      <th>3</th>\n",
       "      <td>Cleveland</td>\n",
       "      <td>Ohio</td>\n",
       "      <td>63</td>\n",
       "      <td>120</td>\n",
       "      <td>57</td>\n",
       "      <td>4</td>\n",
       "      <td>1521.0</td>\n",
       "      <td>1814.0</td>\n",
       "      <td>293.0</td>\n",
       "    </tr>\n",
       "    <tr>\n",
       "      <th>5</th>\n",
       "      <td>Milwaukee</td>\n",
       "      <td>Wisconsin</td>\n",
       "      <td>90</td>\n",
       "      <td>145</td>\n",
       "      <td>55</td>\n",
       "      <td>4</td>\n",
       "      <td>1521.0</td>\n",
       "      <td>1814.0</td>\n",
       "      <td>293.0</td>\n",
       "    </tr>\n",
       "    <tr>\n",
       "      <th>7</th>\n",
       "      <td>Kansas City</td>\n",
       "      <td>Missouri</td>\n",
       "      <td>78</td>\n",
       "      <td>109</td>\n",
       "      <td>31</td>\n",
       "      <td>4</td>\n",
       "      <td>1521.0</td>\n",
       "      <td>1814.0</td>\n",
       "      <td>293.0</td>\n",
       "    </tr>\n",
       "    <tr>\n",
       "      <th>9</th>\n",
       "      <td>St. Louis</td>\n",
       "      <td>Missouri</td>\n",
       "      <td>159</td>\n",
       "      <td>188</td>\n",
       "      <td>29</td>\n",
       "      <td>4</td>\n",
       "      <td>1521.0</td>\n",
       "      <td>1814.0</td>\n",
       "      <td>293.0</td>\n",
       "    </tr>\n",
       "    <tr>\n",
       "      <th>17</th>\n",
       "      <td>Minneapolis</td>\n",
       "      <td>Minnesota</td>\n",
       "      <td>31</td>\n",
       "      <td>47</td>\n",
       "      <td>16</td>\n",
       "      <td>4</td>\n",
       "      <td>1521.0</td>\n",
       "      <td>1814.0</td>\n",
       "      <td>293.0</td>\n",
       "    </tr>\n",
       "    <tr>\n",
       "      <th>18</th>\n",
       "      <td>Omaha</td>\n",
       "      <td>Nebraska</td>\n",
       "      <td>32</td>\n",
       "      <td>48</td>\n",
       "      <td>16</td>\n",
       "      <td>4</td>\n",
       "      <td>1521.0</td>\n",
       "      <td>1814.0</td>\n",
       "      <td>293.0</td>\n",
       "    </tr>\n",
       "    <tr>\n",
       "      <th>25</th>\n",
       "      <td>Fort Wayne</td>\n",
       "      <td>Indiana</td>\n",
       "      <td>12</td>\n",
       "      <td>25</td>\n",
       "      <td>13</td>\n",
       "      <td>4</td>\n",
       "      <td>1521.0</td>\n",
       "      <td>1814.0</td>\n",
       "      <td>293.0</td>\n",
       "    </tr>\n",
       "    <tr>\n",
       "      <th>28</th>\n",
       "      <td>Indianapolis</td>\n",
       "      <td>Indiana</td>\n",
       "      <td>136</td>\n",
       "      <td>148</td>\n",
       "      <td>12</td>\n",
       "      <td>4</td>\n",
       "      <td>1521.0</td>\n",
       "      <td>1814.0</td>\n",
       "      <td>293.0</td>\n",
       "    </tr>\n",
       "    <tr>\n",
       "      <th>33</th>\n",
       "      <td>Cincinnati</td>\n",
       "      <td>Ohio</td>\n",
       "      <td>60</td>\n",
       "      <td>66</td>\n",
       "      <td>6</td>\n",
       "      <td>4</td>\n",
       "      <td>1521.0</td>\n",
       "      <td>1814.0</td>\n",
       "      <td>293.0</td>\n",
       "    </tr>\n",
       "    <tr>\n",
       "      <th>40</th>\n",
       "      <td>St. Paul</td>\n",
       "      <td>Minnesota</td>\n",
       "      <td>11</td>\n",
       "      <td>16</td>\n",
       "      <td>5</td>\n",
       "      <td>4</td>\n",
       "      <td>1521.0</td>\n",
       "      <td>1814.0</td>\n",
       "      <td>293.0</td>\n",
       "    </tr>\n",
       "    <tr>\n",
       "      <th>52</th>\n",
       "      <td>Wichita</td>\n",
       "      <td>Kansas</td>\n",
       "      <td>26</td>\n",
       "      <td>27</td>\n",
       "      <td>1</td>\n",
       "      <td>4</td>\n",
       "      <td>1521.0</td>\n",
       "      <td>1814.0</td>\n",
       "      <td>293.0</td>\n",
       "    </tr>\n",
       "    <tr>\n",
       "      <th>56</th>\n",
       "      <td>Toledo</td>\n",
       "      <td>Ohio</td>\n",
       "      <td>24</td>\n",
       "      <td>24</td>\n",
       "      <td>0</td>\n",
       "      <td>4</td>\n",
       "      <td>1521.0</td>\n",
       "      <td>1814.0</td>\n",
       "      <td>293.0</td>\n",
       "    </tr>\n",
       "    <tr>\n",
       "      <th>61</th>\n",
       "      <td>Detroit</td>\n",
       "      <td>Michigan</td>\n",
       "      <td>298</td>\n",
       "      <td>295</td>\n",
       "      <td>-3</td>\n",
       "      <td>4</td>\n",
       "      <td>1521.0</td>\n",
       "      <td>1814.0</td>\n",
       "      <td>293.0</td>\n",
       "    </tr>\n",
       "    <tr>\n",
       "      <th>69</th>\n",
       "      <td>Columbus</td>\n",
       "      <td>Ohio</td>\n",
       "      <td>83</td>\n",
       "      <td>77</td>\n",
       "      <td>-6</td>\n",
       "      <td>4</td>\n",
       "      <td>1521.0</td>\n",
       "      <td>1814.0</td>\n",
       "      <td>293.0</td>\n",
       "    </tr>\n",
       "    <tr>\n",
       "      <th>72</th>\n",
       "      <td>Lincoln</td>\n",
       "      <td>Nebraska</td>\n",
       "      <td>7</td>\n",
       "      <td>1</td>\n",
       "      <td>-6</td>\n",
       "      <td>4</td>\n",
       "      <td>1521.0</td>\n",
       "      <td>1814.0</td>\n",
       "      <td>293.0</td>\n",
       "    </tr>\n",
       "  </tbody>\n",
       "</table>\n",
       "</div>"
      ],
      "text/plain": [
       "            city      state  2014_murders  2015_murders  change  group  \\\n",
       "1        Chicago   Illinois           411           478      67      4   \n",
       "3      Cleveland       Ohio            63           120      57      4   \n",
       "5      Milwaukee  Wisconsin            90           145      55      4   \n",
       "7    Kansas City   Missouri            78           109      31      4   \n",
       "9      St. Louis   Missouri           159           188      29      4   \n",
       "17   Minneapolis  Minnesota            31            47      16      4   \n",
       "18         Omaha   Nebraska            32            48      16      4   \n",
       "25    Fort Wayne    Indiana            12            25      13      4   \n",
       "28  Indianapolis    Indiana           136           148      12      4   \n",
       "33    Cincinnati       Ohio            60            66       6      4   \n",
       "40      St. Paul  Minnesota            11            16       5      4   \n",
       "52       Wichita     Kansas            26            27       1      4   \n",
       "56        Toledo       Ohio            24            24       0      4   \n",
       "61       Detroit   Michigan           298           295      -3      4   \n",
       "69      Columbus       Ohio            83            77      -6      4   \n",
       "72       Lincoln   Nebraska             7             1      -6      4   \n",
       "\n",
       "    2014_sum  2015_sum  change_sum  \n",
       "1     1521.0    1814.0       293.0  \n",
       "3     1521.0    1814.0       293.0  \n",
       "5     1521.0    1814.0       293.0  \n",
       "7     1521.0    1814.0       293.0  \n",
       "9     1521.0    1814.0       293.0  \n",
       "17    1521.0    1814.0       293.0  \n",
       "18    1521.0    1814.0       293.0  \n",
       "25    1521.0    1814.0       293.0  \n",
       "28    1521.0    1814.0       293.0  \n",
       "33    1521.0    1814.0       293.0  \n",
       "40    1521.0    1814.0       293.0  \n",
       "52    1521.0    1814.0       293.0  \n",
       "56    1521.0    1814.0       293.0  \n",
       "61    1521.0    1814.0       293.0  \n",
       "69    1521.0    1814.0       293.0  \n",
       "72    1521.0    1814.0       293.0  "
      ]
     },
     "execution_count": 161,
     "metadata": {},
     "output_type": "execute_result"
    }
   ],
   "source": [
    "# Indexing the cities who fall under group 4\n",
    "murders[murders.group == 4]"
   ]
  },
  {
   "cell_type": "markdown",
   "metadata": {},
   "source": [
    "From the indexed dataset above, it can be seen that Illinois, Indiana, Kansas, Michigan, Missouri, Minnesota, Nebraska, Ohio, and Wisconsin are the states represented from group 4, while Iowa, North Dakota, and South Dakota are not represented. It should also be pointed out that group 4 is one of the larger geographic regions, spanning 12 states. This could explain why the states are so diverse, yet they account for the third lowest representation in the dataset."
   ]
  },
  {
   "cell_type": "markdown",
   "metadata": {},
   "source": [
    "From this analysis, based on the count of murders per state group, the change in murder count per state group, and the geographic location of each state group, it can be said that the Midwest region seems to be the most prone to murders."
   ]
  },
  {
   "cell_type": "markdown",
   "metadata": {},
   "source": [
    "## *Conclusion*"
   ]
  },
  {
   "cell_type": "markdown",
   "metadata": {},
   "source": [
    "The analysis presented sought to answer the research question: Is there any correlation between a city's geographic location and the number of murders they record? To answer this question, I found a dataset that contained murder counts for 83 of the United States' most populous cities for 2014 and 2015 and analyzed it using the Pandas, Matplotlib, and Seaborn libraries in the Python environment."
   ]
  },
  {
   "cell_type": "markdown",
   "metadata": {},
   "source": [
    "First, some EDA was done to get a better understanding of the data. Descriptive statistics such as mean, standard deviation, and quartiles were obtained, as well as box plots of the murder counts. It was clear to see that certain cities were outliers, having higher murder counts than other cities. Additionally, a frequency distribution was made of the 34 states in the dataset, showing the heavy representation of California and Texas and the lighter representation of some of the smaller states."
   ]
  },
  {
   "cell_type": "markdown",
   "metadata": {},
   "source": [
    "Next, I did further analyses specific to the research question. I used geographical groupings found on a United States Embassy's website to divide the country into six state groups, which I then attached to the dataframe. A frequency distribution of the groups showed that the West had the most representation, while New England had the least. Bar graphs were then made to display the 2014 and 2015 murder counts, respectively, by state group. It was clear to see that the Midwest had the highest murder count, despite having the third smallest representation."
   ]
  },
  {
   "cell_type": "markdown",
   "metadata": {},
   "source": [
    "To further confirm that there was an issue in the Midwest region, a bar graph was made to show the yearly change in murder count by state group. This graph, much like the graphs before it, showed that the Midwest had the highest increase in murder count, while New England had the highest decrease in murder count. I then showed how most, but not all, of the states in that group were represented in the dataset, and why the size of that group should not downplay the significance of its high murder counts."
   ]
  },
  {
   "cell_type": "markdown",
   "metadata": {},
   "source": [
    "To answer the research question, cities in certain geographic regions do seem to record more murders than cities in other regions. Based on the analyses above, the Midwest region seems to be the worst off, recording the most murders with the third smallest representation. Of course, this does not imply causation (or even definitive correlation). Nonetheless, this analysis could further encourage law enforcement, policy makers, and politicians to investigate the Midwest region and to determine why the murder counts are so high. If the reason for the heightened murder counts is discovered, steps can be taken to lower the murder count, and these changes can be emulated across other regions as well."
   ]
  },
  {
   "cell_type": "markdown",
   "metadata": {},
   "source": [
    "It is important to note the limitations of this analysis. This analysis was only done using the murder counts from 2014 and 2015. Steps may have been taken since 2015 to decrease the murder count in the United States, so these numbers may not be as applicable now as they were then. Further research should be done into current murder counts. Additionally, only cities with at least 250,000 residents were included in this dataset. A broader study would incorporate all cities in the United States. Finally, no causation or definitive correlation was established in this analysis. Rather, this analysis was intended to encourage those who can affect change to dive deeper into the murder counts in their region. A more in-depth analysis would be neccessary to establish causation in regards to murder counts."
   ]
  },
  {
   "cell_type": "markdown",
   "metadata": {},
   "source": [
    "Unfortunately, murder is stll rampant throughout the United States. However, by focusing on problem areas and trying to lower the murder counts there, my hope is that we can decrease the murder count throughout the country, and that we can live in a more peaceful society."
   ]
  }
 ],
 "metadata": {
  "kernelspec": {
   "display_name": "Python 3",
   "language": "python",
   "name": "python3"
  },
  "language_info": {
   "codemirror_mode": {
    "name": "ipython",
    "version": 3
   },
   "file_extension": ".py",
   "mimetype": "text/x-python",
   "name": "python",
   "nbconvert_exporter": "python",
   "pygments_lexer": "ipython3",
   "version": "3.8.3"
  }
 },
 "nbformat": 4,
 "nbformat_minor": 4
}
